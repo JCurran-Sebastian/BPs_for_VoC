{
 "cells": [
  {
   "cell_type": "markdown",
   "metadata": {},
   "source": [
    "# Analysis of CoG public data\n",
    "\n",
    "Work with the CoG metadata to look at the variant emergence\n",
    "\n",
    "Note, the file is slightly too big for GitHub but this one was at:\n",
    "\n",
    "https://cog-uk-microreact.s3.climb.ac.uk/2021-05-07/cog_metadata_microreact_geocodes_only.csv\n"
   ]
  },
  {
   "cell_type": "code",
   "execution_count": 1,
   "metadata": {},
   "outputs": [],
   "source": [
    "%matplotlib inline\n",
    "import numpy as np\n",
    "import scipy.stats as st\n",
    "import scipy.special as sp\n",
    "import matplotlib.pyplot as plt\n",
    "import pandas as pd\n",
    "import datetime\n",
    "import scipy.optimize as op\n",
    "from numpy import linalg as LA"
   ]
  },
  {
   "cell_type": "code",
   "execution_count": 2,
   "metadata": {},
   "outputs": [],
   "source": [
    "df = pd.read_csv('./cog_metadata_microreact_geocodes_only.csv', usecols=['adm1','sample_date','lineage'])"
   ]
  },
  {
   "cell_type": "code",
   "execution_count": 3,
   "metadata": {},
   "outputs": [
    {
     "data": {
      "text/html": [
       "<div>\n",
       "<style scoped>\n",
       "    .dataframe tbody tr th:only-of-type {\n",
       "        vertical-align: middle;\n",
       "    }\n",
       "\n",
       "    .dataframe tbody tr th {\n",
       "        vertical-align: top;\n",
       "    }\n",
       "\n",
       "    .dataframe thead th {\n",
       "        text-align: right;\n",
       "    }\n",
       "</style>\n",
       "<table border=\"1\" class=\"dataframe\">\n",
       "  <thead>\n",
       "    <tr style=\"text-align: right;\">\n",
       "      <th></th>\n",
       "      <th>sample_date</th>\n",
       "      <th>lineage</th>\n",
       "    </tr>\n",
       "  </thead>\n",
       "  <tbody>\n",
       "    <tr>\n",
       "      <th>0</th>\n",
       "      <td>31/12/2020</td>\n",
       "      <td>B.1.1.7</td>\n",
       "    </tr>\n",
       "    <tr>\n",
       "      <th>1</th>\n",
       "      <td>28/11/2020</td>\n",
       "      <td>B.1.177.19</td>\n",
       "    </tr>\n",
       "    <tr>\n",
       "      <th>2</th>\n",
       "      <td>04/11/2020</td>\n",
       "      <td>B.1.177.19</td>\n",
       "    </tr>\n",
       "    <tr>\n",
       "      <th>3</th>\n",
       "      <td>01/12/2020</td>\n",
       "      <td>B.1.177</td>\n",
       "    </tr>\n",
       "    <tr>\n",
       "      <th>4</th>\n",
       "      <td>20/10/2020</td>\n",
       "      <td>B.1.177</td>\n",
       "    </tr>\n",
       "    <tr>\n",
       "      <th>...</th>\n",
       "      <td>...</td>\n",
       "      <td>...</td>\n",
       "    </tr>\n",
       "    <tr>\n",
       "      <th>325856</th>\n",
       "      <td>03/03/2020</td>\n",
       "      <td>B.1.98</td>\n",
       "    </tr>\n",
       "    <tr>\n",
       "      <th>325857</th>\n",
       "      <td>03/03/2020</td>\n",
       "      <td>B.1</td>\n",
       "    </tr>\n",
       "    <tr>\n",
       "      <th>325858</th>\n",
       "      <td>02/03/2020</td>\n",
       "      <td>B.1.91</td>\n",
       "    </tr>\n",
       "    <tr>\n",
       "      <th>325859</th>\n",
       "      <td>25/02/2020</td>\n",
       "      <td>B.40</td>\n",
       "    </tr>\n",
       "    <tr>\n",
       "      <th>325860</th>\n",
       "      <td>29/01/2020</td>\n",
       "      <td>B</td>\n",
       "    </tr>\n",
       "  </tbody>\n",
       "</table>\n",
       "<p>325861 rows × 2 columns</p>\n",
       "</div>"
      ],
      "text/plain": [
       "       sample_date     lineage\n",
       "0       31/12/2020     B.1.1.7\n",
       "1       28/11/2020  B.1.177.19\n",
       "2       04/11/2020  B.1.177.19\n",
       "3       01/12/2020     B.1.177\n",
       "4       20/10/2020     B.1.177\n",
       "...            ...         ...\n",
       "325856  03/03/2020      B.1.98\n",
       "325857  03/03/2020         B.1\n",
       "325858  02/03/2020      B.1.91\n",
       "325859  25/02/2020        B.40\n",
       "325860  29/01/2020           B\n",
       "\n",
       "[325861 rows x 2 columns]"
      ]
     },
     "execution_count": 3,
     "metadata": {},
     "output_type": "execute_result"
    }
   ],
   "source": [
    "df = df[df.adm1=='UK-ENG'].reset_index(drop=True).drop(columns=['adm1'])\n",
    "df"
   ]
  },
  {
   "cell_type": "code",
   "execution_count": 4,
   "metadata": {},
   "outputs": [],
   "source": [
    "def todays(x):\n",
    "    return np.array((pd.to_datetime(x, format='%d/%m/%Y') - pd.Timestamp(\"2021-01-01\")) // pd.Timedelta('1D'))"
   ]
  },
  {
   "cell_type": "code",
   "execution_count": 5,
   "metadata": {},
   "outputs": [
    {
     "data": {
      "text/plain": [
       "0          -1\n",
       "1         -34\n",
       "2         -58\n",
       "3         -31\n",
       "4         -73\n",
       "         ... \n",
       "325856   -304\n",
       "325857   -304\n",
       "325858   -305\n",
       "325859   -311\n",
       "325860   -338\n",
       "Name: sample_date, Length: 325861, dtype: int64"
      ]
     },
     "execution_count": 5,
     "metadata": {},
     "output_type": "execute_result"
    }
   ],
   "source": [
    "days = df['sample_date'].apply(todays)\n",
    "days"
   ]
  },
  {
   "cell_type": "code",
   "execution_count": 6,
   "metadata": {},
   "outputs": [
    {
     "data": {
      "text/plain": [
       "array(['B.1.617'], dtype=object)"
      ]
     },
     "execution_count": 6,
     "metadata": {},
     "output_type": "execute_result"
    }
   ],
   "source": [
    "strains = pd.unique(df['lineage'])\n",
    "strains[['B.1.617' in s for s in strains]]"
   ]
  },
  {
   "cell_type": "code",
   "execution_count": 7,
   "metadata": {},
   "outputs": [
    {
     "data": {
      "text/plain": [
       "array([False, False, False, ..., False, False, False])"
      ]
     },
     "execution_count": 7,
     "metadata": {},
     "output_type": "execute_result"
    }
   ],
   "source": [
    "isi = np.array(df.lineage.values == 'B.1.617')\n",
    "isi"
   ]
  },
  {
   "cell_type": "code",
   "execution_count": 22,
   "metadata": {},
   "outputs": [],
   "source": [
    "m = np.max(days)\n",
    "variant_count = np.zeros(m+1)\n",
    "wild_count = np.zeros(m+1)\n",
    "for i in range(0,m+1):\n",
    "    wild_count[i] = np.sum((days==i) & ~isi)\n",
    "    variant_count[i] = np.sum((days==i) & isi)"
   ]
  },
  {
   "cell_type": "code",
   "execution_count": 23,
   "metadata": {},
   "outputs": [
    {
     "data": {
      "text/plain": [
       "[<matplotlib.lines.Line2D at 0x7ff9f89f05e0>]"
      ]
     },
     "execution_count": 23,
     "metadata": {},
     "output_type": "execute_result"
    },
    {
     "data": {
      "image/png": "[encoded data removed]",
      "text/plain": [
       "<Figure size 432x288 with 1 Axes>"
      ]
     },
     "metadata": {
      "needs_background": "light"
     },
     "output_type": "display_data"
    }
   ],
   "source": [
    "tt = np.arange(0,m+1)\n",
    "yy = variant_count\n",
    "nn = variant_count + wild_count\n",
    "ww = variant_count / wild_count\n",
    "plt.plot(tt,ww)"
   ]
  },
  {
   "cell_type": "code",
   "execution_count": 24,
   "metadata": {},
   "outputs": [
    {
     "data": {
      "text/plain": [
       "211.0"
      ]
     },
     "execution_count": 24,
     "metadata": {},
     "output_type": "execute_result"
    }
   ],
   "source": [
    "np.sum(yy)"
   ]
  },
  {
   "cell_type": "code",
   "execution_count": 10,
   "metadata": {},
   "outputs": [
    {
     "name": "stderr",
     "output_type": "stream",
     "text": [
      "<ipython-input-10-2fa328ead07b>:1: RuntimeWarning: divide by zero encountered in log\n",
      "  plt.plot(tt,np.log(ww/(1.-ww)))\n"
     ]
    },
    {
     "data": {
      "text/plain": [
       "[<matplotlib.lines.Line2D at 0x7ffa38437a00>]"
      ]
     },
     "execution_count": 10,
     "metadata": {},
     "output_type": "execute_result"
    },
    {
     "data": {
      "image/png": "[encoded data removed]",
      "text/plain": [
       "<Figure size 432x288 with 1 Axes>"
      ]
     },
     "metadata": {
      "needs_background": "light"
     },
     "output_type": "display_data"
    }
   ],
   "source": [
    "plt.plot(tt,np.log(ww/(1.-ww)))"
   ]
  },
  {
   "cell_type": "code",
   "execution_count": 11,
   "metadata": {},
   "outputs": [],
   "source": [
    "# TO DO - GP prior fit on logistic scale?"
   ]
  },
  {
   "cell_type": "code",
   "execution_count": 12,
   "metadata": {},
   "outputs": [
    {
     "name": "stdout",
     "output_type": "stream",
     "text": [
      "[ 1.  3.  0.  1.  0.  2.  4.  4.  1.  3.  2.  2. 12.  5.  2.  6.  4.  4.\n",
      "  5.  6.  3. 10.  7. 10. 14. 13.  5.  4. 12.  7. 11. 10.  3.  7.  2.  4.]\n",
      "[2911. 2210. 1950. 2048. 1717. 1610. 1443. 1988. 1535. 1453. 1322. 1160.\n",
      " 1167. 1005. 1138. 1214. 1015.  852.  806.  628.  759.  967. 1007.  967.\n",
      "  947.  836.  696.  591. 1156.  690.  955.  879.  468.  283.  189.  471.]\n"
     ]
    }
   ],
   "source": [
    "jj = np.arange(80,116)\n",
    "n = len(jj)\n",
    "tt = np.arange(0,n)\n",
    "yy = yy[jj]\n",
    "nn = nn[jj]\n",
    "print(yy)\n",
    "print(nn)"
   ]
  },
  {
   "cell_type": "code",
   "execution_count": 13,
   "metadata": {},
   "outputs": [
    {
     "data": {
      "text/plain": [
       "array([-0.99982822, -1.49524346,  0.        , -0.99975582,  0.        ,\n",
       "       -1.30623138, -1.63148862, -1.63186942, -0.9996742 , -1.49488931,\n",
       "       -1.30609591, -1.30599013, -2.16316744, -1.73780882, -1.30597344,\n",
       "       -1.82621744, -1.63090237, -1.6305239 , -1.73719143, -1.82389564,\n",
       "       -1.49394284, -2.07336499, -1.90030309, -2.07336499, -2.23697294,\n",
       "       -2.19998757, -1.73669813, -1.62948175, -2.16311802, -1.89869319,\n",
       "       -2.11966827, -2.07284185, -1.49270831, -1.89127477, -1.30153834,\n",
       "       -1.62861348])"
      ]
     },
     "execution_count": 13,
     "metadata": {},
     "output_type": "execute_result"
    }
   ],
   "source": [
    "st.binom.logpmf(yy, nn, yy/nn, loc=0)"
   ]
  },
  {
   "cell_type": "code",
   "execution_count": 14,
   "metadata": {},
   "outputs": [],
   "source": [
    "def logodds(p):\n",
    "    return np.log(p/(1.0-p))\n",
    "\n",
    "def logistic(x):\n",
    "    return (1.0/(1.0+np.exp(-x)))"
   ]
  },
  {
   "cell_type": "code",
   "execution_count": 15,
   "metadata": {},
   "outputs": [],
   "source": [
    "import sklearn.gaussian_process.kernels as sklk"
   ]
  },
  {
   "cell_type": "code",
   "execution_count": 16,
   "metadata": {},
   "outputs": [],
   "source": [
    "lell = np.log(1.)\n",
    "lsig = np.log(100.)\n",
    "x0 = np.concatenate([np.zeros(n),[lell,lsig]]) # 2.*np.ones(n)\n",
    "bb = np.concatenate([np.stack([-10*np.ones(n),1*np.ones(n)]).T,np.array([[-5,5],[-5,5]])])"
   ]
  },
  {
   "cell_type": "code",
   "execution_count": 17,
   "metadata": {},
   "outputs": [],
   "source": [
    "def mynll(x):\n",
    "    \n",
    "    pp = logistic(x[0:n])\n",
    "    lell = x[n]\n",
    "    lsig = x[n+1]\n",
    "    \n",
    "    l1 = -np.sum(st.binom.logpmf(yy, nn, pp, loc=0))\n",
    "    \n",
    "    kern = sklk.WhiteKernel(noise_level=1e-6) + (np.exp(lsig)**2)*sklk.RBF(length_scale=np.exp(lell))\n",
    "    Kmat = kern(X=np.atleast_2d(tt).T)\n",
    "    l2 = -st.multivariate_normal.logpdf(x[0:n], mean=np.zeros(n), cov=Kmat, allow_singular=True)\n",
    "    \n",
    "    return l1 + l2"
   ]
  },
  {
   "cell_type": "code",
   "execution_count": 18,
   "metadata": {},
   "outputs": [
    {
     "data": {
      "text/plain": [
       "27575.49494000498"
      ]
     },
     "execution_count": 18,
     "metadata": {},
     "output_type": "execute_result"
    }
   ],
   "source": [
    "mynll(x0)"
   ]
  },
  {
   "cell_type": "code",
   "execution_count": 19,
   "metadata": {},
   "outputs": [
    {
     "data": {
      "text/plain": [
       "      fun: -82.14708429467267\n",
       " hess_inv: <38x38 LbfgsInvHessProduct with dtype=float64>\n",
       "      jac: array([  7.8282739 ,   7.31845238,   5.01004397,   9.32176226,\n",
       "         7.41867017,   0.10189467,  -4.45450044,  -3.13365833,\n",
       "        -0.89468131,  -1.17047848,  -1.53982001,  -1.90783142,\n",
       "        -4.93311635,  -4.09011565,  -4.29616025,  -4.98148441,\n",
       "        -1.96577049,   1.12942332,   2.21863134,   0.70800326,\n",
       "        -0.02816591,  -2.07116814,   0.3871179 ,   1.57212555,\n",
       "         1.88793053,   2.92382085,   5.52322493,   5.32307925,\n",
       "         2.31133443,   2.39310369,   2.17727206,   1.50899809,\n",
       "        -4.47890616, -15.85847836,  -9.50280145,  -6.8357338 ,\n",
       "        14.42445532,  -4.68410806])\n",
       "  message: b'CONVERGENCE: REL_REDUCTION_OF_F_<=_FACTR*EPSMCH'\n",
       "     nfev: 7566\n",
       "      nit: 132\n",
       "     njev: 194\n",
       "   status: 0\n",
       "  success: True\n",
       "        x: array([-6.26355682, -6.21672179, -6.16538617, -6.1099469 , -6.05085561,\n",
       "       -5.98856064, -5.92352508, -5.85623305, -5.78718069, -5.71687199,\n",
       "       -5.64582333, -5.57454766, -5.50355895, -5.43339597, -5.36456184,\n",
       "       -5.29756383, -5.2329145 , -5.17110605, -5.11262496, -5.05793964,\n",
       "       -5.00750486, -4.96173956, -4.92106713, -4.88586541, -4.85650199,\n",
       "       -4.83331564, -4.81661441, -4.80666532, -4.80371604, -4.80798033,\n",
       "       -4.8196314 , -4.83881736, -4.86565129, -4.90019148, -4.942468  ,\n",
       "       -4.99248565,  3.74372078,  1.44318107])"
      ]
     },
     "execution_count": 19,
     "metadata": {},
     "output_type": "execute_result"
    }
   ],
   "source": [
    "fout = op.minimize(mynll,x0,method='L-BFGS-B',bounds=bb,options={'maxfun':1000000})\n",
    "#fout = op.minimize(mynll,x0,method='TNC',bounds=bb,options={'maxfun':1000000})\n",
    "fout"
   ]
  },
  {
   "cell_type": "code",
   "execution_count": 20,
   "metadata": {},
   "outputs": [
    {
     "data": {
      "text/plain": [
       "[<matplotlib.lines.Line2D at 0x7ffa384b5190>]"
      ]
     },
     "execution_count": 20,
     "metadata": {},
     "output_type": "execute_result"
    },
    {
     "data": {
      "image/png": "[encoded data removed]",
      "text/plain": [
       "<Figure size 432x288 with 1 Axes>"
      ]
     },
     "metadata": {
      "needs_background": "light"
     },
     "output_type": "display_data"
    }
   ],
   "source": [
    "phats = logistic(fout.x[0:n])\n",
    "plt.plot(tt,yy/nn)\n",
    "plt.plot(tt,phats)"
   ]
  },
  {
   "cell_type": "code",
   "execution_count": 21,
   "metadata": {},
   "outputs": [
    {
     "data": {
      "text/plain": [
       "189.0"
      ]
     },
     "execution_count": 21,
     "metadata": {},
     "output_type": "execute_result"
    }
   ],
   "source": [
    "np.sum(yy)"
   ]
  },
  {
   "cell_type": "code",
   "execution_count": null,
   "metadata": {},
   "outputs": [],
   "source": []
  }
 ],
 "metadata": {
  "kernelspec": {
   "display_name": "Python 3",
   "language": "python",
   "name": "python3"
  },
  "language_info": {
   "codemirror_mode": {
    "name": "ipython",
    "version": 3
   },
   "file_extension": ".py",
   "mimetype": "text/x-python",
   "name": "python",
   "nbconvert_exporter": "python",
   "pygments_lexer": "ipython3",
   "version": "3.8.5"
  }
 },
 "nbformat": 4,
 "nbformat_minor": 4
}
