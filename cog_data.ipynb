{
 "cells": [
  {
   "cell_type": "markdown",
   "metadata": {},
   "source": [
    "# Analysis of CoG public data\n",
    "\n",
    "Work with the CoG metadata to look at the variant emergence\n",
    "\n",
    "Note, the file is slightly too big for GitHub but this one was at:\n",
    "\n",
    "https://cog-uk-microreact.s3.climb.ac.uk/2021-05-07/cog_metadata_microreact_geocodes_only.csv\n"
   ]
  },
  {
   "cell_type": "code",
   "execution_count": 1,
   "metadata": {},
   "outputs": [],
   "source": [
    "%matplotlib inline\n",
    "import numpy as np\n",
    "import scipy.stats as st\n",
    "import scipy.special as sp\n",
    "import matplotlib.pyplot as plt\n",
    "import pandas as pd\n",
    "import datetime\n",
    "import scipy.optimize as op\n",
    "from numpy import linalg as LA"
   ]
  },
  {
   "cell_type": "code",
   "execution_count": 2,
   "metadata": {},
   "outputs": [],
   "source": [
    "df = pd.read_csv('./cog_metadata_microreact_geocodes_only.csv', usecols=['adm1','sample_date','lineage'])"
   ]
  },
  {
   "cell_type": "code",
   "execution_count": 3,
   "metadata": {},
   "outputs": [
    {
     "data": {
      "text/html": [
       "<div>\n",
       "<style scoped>\n",
       "    .dataframe tbody tr th:only-of-type {\n",
       "        vertical-align: middle;\n",
       "    }\n",
       "\n",
       "    .dataframe tbody tr th {\n",
       "        vertical-align: top;\n",
       "    }\n",
       "\n",
       "    .dataframe thead th {\n",
       "        text-align: right;\n",
       "    }\n",
       "</style>\n",
       "<table border=\"1\" class=\"dataframe\">\n",
       "  <thead>\n",
       "    <tr style=\"text-align: right;\">\n",
       "      <th></th>\n",
       "      <th>sample_date</th>\n",
       "      <th>lineage</th>\n",
       "    </tr>\n",
       "  </thead>\n",
       "  <tbody>\n",
       "    <tr>\n",
       "      <th>0</th>\n",
       "      <td>31/12/2020</td>\n",
       "      <td>B.1.1.7</td>\n",
       "    </tr>\n",
       "    <tr>\n",
       "      <th>1</th>\n",
       "      <td>28/11/2020</td>\n",
       "      <td>B.1.177.19</td>\n",
       "    </tr>\n",
       "    <tr>\n",
       "      <th>2</th>\n",
       "      <td>04/11/2020</td>\n",
       "      <td>B.1.177.19</td>\n",
       "    </tr>\n",
       "    <tr>\n",
       "      <th>3</th>\n",
       "      <td>01/12/2020</td>\n",
       "      <td>B.1.177</td>\n",
       "    </tr>\n",
       "    <tr>\n",
       "      <th>4</th>\n",
       "      <td>20/10/2020</td>\n",
       "      <td>B.1.177</td>\n",
       "    </tr>\n",
       "    <tr>\n",
       "      <th>...</th>\n",
       "      <td>...</td>\n",
       "      <td>...</td>\n",
       "    </tr>\n",
       "    <tr>\n",
       "      <th>325856</th>\n",
       "      <td>03/03/2020</td>\n",
       "      <td>B.1.98</td>\n",
       "    </tr>\n",
       "    <tr>\n",
       "      <th>325857</th>\n",
       "      <td>03/03/2020</td>\n",
       "      <td>B.1</td>\n",
       "    </tr>\n",
       "    <tr>\n",
       "      <th>325858</th>\n",
       "      <td>02/03/2020</td>\n",
       "      <td>B.1.91</td>\n",
       "    </tr>\n",
       "    <tr>\n",
       "      <th>325859</th>\n",
       "      <td>25/02/2020</td>\n",
       "      <td>B.40</td>\n",
       "    </tr>\n",
       "    <tr>\n",
       "      <th>325860</th>\n",
       "      <td>29/01/2020</td>\n",
       "      <td>B</td>\n",
       "    </tr>\n",
       "  </tbody>\n",
       "</table>\n",
       "<p>325861 rows × 2 columns</p>\n",
       "</div>"
      ],
      "text/plain": [
       "       sample_date     lineage\n",
       "0       31/12/2020     B.1.1.7\n",
       "1       28/11/2020  B.1.177.19\n",
       "2       04/11/2020  B.1.177.19\n",
       "3       01/12/2020     B.1.177\n",
       "4       20/10/2020     B.1.177\n",
       "...            ...         ...\n",
       "325856  03/03/2020      B.1.98\n",
       "325857  03/03/2020         B.1\n",
       "325858  02/03/2020      B.1.91\n",
       "325859  25/02/2020        B.40\n",
       "325860  29/01/2020           B\n",
       "\n",
       "[325861 rows x 2 columns]"
      ]
     },
     "execution_count": 3,
     "metadata": {},
     "output_type": "execute_result"
    }
   ],
   "source": [
    "df = df[df.adm1=='UK-ENG'].reset_index(drop=True).drop(columns=['adm1'])\n",
    "df"
   ]
  },
  {
   "cell_type": "code",
   "execution_count": 4,
   "metadata": {},
   "outputs": [],
   "source": [
    "def todays(x):\n",
    "    return np.array((pd.to_datetime(x, format='%d/%m/%Y') - pd.Timestamp(\"2021-01-01\")) // pd.Timedelta('1D'))"
   ]
  },
  {
   "cell_type": "code",
   "execution_count": 5,
   "metadata": {},
   "outputs": [
    {
     "data": {
      "text/plain": [
       "0          -1\n",
       "1         -34\n",
       "2         -58\n",
       "3         -31\n",
       "4         -73\n",
       "         ... \n",
       "325856   -304\n",
       "325857   -304\n",
       "325858   -305\n",
       "325859   -311\n",
       "325860   -338\n",
       "Name: sample_date, Length: 325861, dtype: int64"
      ]
     },
     "execution_count": 5,
     "metadata": {},
     "output_type": "execute_result"
    }
   ],
   "source": [
    "days = df['sample_date'].apply(todays)\n",
    "days"
   ]
  },
  {
   "cell_type": "code",
   "execution_count": 6,
   "metadata": {},
   "outputs": [
    {
     "data": {
      "text/plain": [
       "array(['B.1.617'], dtype=object)"
      ]
     },
     "execution_count": 6,
     "metadata": {},
     "output_type": "execute_result"
    }
   ],
   "source": [
    "strains = pd.unique(df['lineage'])\n",
    "strains[['B.1.617' in s for s in strains]]"
   ]
  },
  {
   "cell_type": "code",
   "execution_count": 8,
   "metadata": {},
   "outputs": [
    {
     "data": {
      "text/plain": [
       "array([False, False, False, ..., False, False, False])"
      ]
     },
     "execution_count": 8,
     "metadata": {},
     "output_type": "execute_result"
    }
   ],
   "source": [
    "isi = np.array(df.lineage.values == 'B.1.617')\n",
    "isi"
   ]
  },
  {
   "cell_type": "code",
   "execution_count": 9,
   "metadata": {},
   "outputs": [
    {
     "data": {
      "text/plain": [
       "123"
      ]
     },
     "execution_count": 9,
     "metadata": {},
     "output_type": "execute_result"
    }
   ],
   "source": [
    "np.max(days)"
   ]
  },
  {
   "cell_type": "code",
   "execution_count": null,
   "metadata": {},
   "outputs": [],
   "source": []
  }
 ],
 "metadata": {
  "kernelspec": {
   "display_name": "Python 3",
   "language": "python",
   "name": "python3"
  },
  "language_info": {
   "codemirror_mode": {
    "name": "ipython",
    "version": 3
   },
   "file_extension": ".py",
   "mimetype": "text/x-python",
   "name": "python",
   "nbconvert_exporter": "python",
   "pygments_lexer": "ipython3",
   "version": "3.8.5"
  }
 },
 "nbformat": 4,
 "nbformat_minor": 4
}
