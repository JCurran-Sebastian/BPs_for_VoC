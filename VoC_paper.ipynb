{
 "cells": [
  {
   "cell_type": "markdown",
   "metadata": {},
   "source": [
    "# Stochastic Invasion of Variants of Concern"
   ]
  },
  {
   "cell_type": "code",
   "execution_count": 1,
   "metadata": {},
   "outputs": [],
   "source": [
    "import numpy as np\n",
    "import matplotlib.pyplot as plt\n",
    "from matplotlib.colors import ListedColormap, LinearSegmentedColormap\n",
    "from tqdm import tqdm\n",
    "import numpy.linalg as nla\n",
    "import seaborn as sns\n",
    "import scipy as sp\n",
    "import pandas as pd"
   ]
  },
  {
   "cell_type": "code",
   "execution_count": 2,
   "metadata": {},
   "outputs": [],
   "source": [
    "# =============================================================================\n",
    "# Class for solving ODEs\n",
    "# =============================================================================\n",
    "class ODESolver:\n",
    "    def __init__(self, f):\n",
    "        self.f = f\n",
    "    \n",
    "    def advance(self):\n",
    "        raise NotImplementedError\n",
    "    \n",
    "    def set_ic(self, u0):\n",
    "        if not isinstance(u0, float):\n",
    "            self.u0 = u0.astype(float)\n",
    "        else:\n",
    "            self.u0 = u0\n",
    "    \n",
    "    def solver(self, time_points):\n",
    "        self.t = np.asarray(time_points)\n",
    "        self.tlen = len(self.t)\n",
    "        if isinstance(self.u0, float):\n",
    "            self.numeqs=1\n",
    "        else:\n",
    "            self.numeqs = np.shape(self.u0)[0]\n",
    "        self.u = np.zeros((self.numeqs, self.tlen))\n",
    "        self.u[:,0] = self.u0\n",
    "        for k in range(0,self.tlen-1):\n",
    "            self.k=k\n",
    "            self.u[:, k+1] = self.advance()\n",
    "        return self.u, self.t\n",
    "    \n",
    "\n",
    "class ForwardEuler(ODESolver): # Runs faster than Runge Kutta\n",
    "    def advance(self):\n",
    "        u, f, k, t = self.u, self.f, self.k, self.t\n",
    "        dt = t[k+1] - t[k]\n",
    "        unew = u[:, k] + dt*f(u[:, k], t[k])\n",
    "        return unew\n",
    "\n",
    "class RungeKutta4(ODESolver): # Alternatively, can use Runge Kutta (may be preferable to Euler if inhomogeneous rates are particularly pathological)\n",
    "    def advance(self):\n",
    "        u, f, k, t = self.u, self.f, self.k, self.t\n",
    "        numeqs = np.shape(u)[0]\n",
    "        dt = t[k+1]-t[k]\n",
    "        dt2 = dt/2.0\n",
    "        unew = np.zeros(numeqs)\n",
    "        \n",
    "        K1 = dt*f(u[:, k], t[k])\n",
    "        K2 = dt*f(u[:, k] + 0.5*K1, t[k]+dt2)\n",
    "        K3 = dt*f(u[:, k] + 0.5*K2, t[k] + dt2)\n",
    "        K4 = dt*f(u[:, k] + K3, t[k] + dt)\n",
    "    \n",
    "        unew = u[:, k] + (1/6.0)*(K1 + 2*K2 + 2*K3 + K4)\n",
    "        return unew"
   ]
  },
  {
   "cell_type": "code",
   "execution_count": 3,
   "metadata": {},
   "outputs": [],
   "source": [
    "# =============================================================================\n",
    "# Class for extinction probability of multi-type branching process (MTBP)\n",
    "# =============================================================================\n",
    "\n",
    "class MTBP_extinct:\n",
    "    # Set offspring distribution for the process - this defines the process\n",
    "    def __init__(self, offspring):\n",
    "        self.offspring = offspring\n",
    "    \n",
    "    # Set lifetimes for particles of each type\n",
    "    def set_lifespans(self, omega):\n",
    "        self.omega = omega\n",
    "    \n",
    "    # Set a vector of immigration rates\n",
    "    def set_immigration(self, eta):    \n",
    "        self.eta = eta\n",
    "    \n",
    "    # Build ODEs for the probability of extinction of a process that begins with a single particle of each type, \n",
    "    # excluding immigration. The final equation includes immigration and describes the full process starting with a\n",
    "    # vector of n0 particles of each type and immigration at rate eta. \n",
    "    \n",
    "    def set_odes(self, u, t):\n",
    "        omega = self.omega\n",
    "        P = self.offspring\n",
    "        eta = self.eta\n",
    "        if isinstance(eta(t), float):\n",
    "            self.numeqs=1\n",
    "            deriv = np.zeros(self.numeqs + 1)\n",
    "            deriv[0] = -omega(t)*u[0] + omega(t)*P(u[0:-1], t)[0]\n",
    "            sumqs = eta(t)*u[0]\n",
    "            deriv[-1] = -np.sum(eta(t))*u[-1] + u[-1]*sumqs\n",
    "        else:\n",
    "            self.numeqs = len(eta(t))\n",
    "            sumqs = 0\n",
    "            deriv = np.zeros(self.numeqs + 1)\n",
    "            for i in range(0, self.numeqs):\n",
    "                deriv[i] = -omega(t)[i]*u[i] + omega(t)[i]*P(u[0:-1], t)[i]\n",
    "\n",
    "                sumqs += eta(t)[i]*u[i]\n",
    "\n",
    "            deriv[-1] = -np.sum(eta(t))*u[-1] + u[-1]*sumqs\n",
    "\n",
    "        return deriv\n",
    "\n",
    "    def solve_odes(self, set_odes, t, ics, n0, methodclass=RungeKutta4, Full = False):\n",
    "        method = methodclass(set_odes)\n",
    "        method.set_ic(u0=ics)\n",
    "        R, t = method.solver(time_points=t)\n",
    "#         R = sp.integrate.odeint(set_odes, ics, time).T\n",
    "        numqs = np.shape(R)[0] - 1\n",
    "        tlen = len(t)\n",
    "        Qprod = np.ones(tlen)\n",
    "        r = R[-1,:]\n",
    "        if Full:\n",
    "            return R\n",
    "        else:\n",
    "            if isinstance(n0, float):\n",
    "                for i in range(0, numqs):\n",
    "                    Qprod *= R[i,:]**(n0)\n",
    "            else:\n",
    "                for i in range(0, numqs):\n",
    "                    Qprod *= R[i,:]**(n0[i])\n",
    "            rho = r*Qprod\n",
    "            sol = np.stack((Qprod, rho), axis=0)\n",
    "            return sol\n",
    "    \n",
    "    def time_to_pextinct(self, t, p, sol):\n",
    "        rho = sol[-1,:]\n",
    "        numqs = np.shape(sol)[0] - 1\n",
    "        q = np.ones_like(rho)\n",
    "        for i in range(0, numqs):\n",
    "            q*=sol[i, :]\n",
    "        if isinstance(p, float):\n",
    "            qwhere = np.where(q>=p)[0]\n",
    "            rhowhere = np.where(rho>=p)[0]\n",
    "            if len(qwhere)>0:\n",
    "                qmin = np.min(t[np.where(q>=p)])\n",
    "            else:\n",
    "                qmin = np.inf\n",
    "            if (len(rhowhere)>0) and (rho[-1]>=p):\n",
    "                rhomin = np.min(t[np.where(rho>=p)])\n",
    "            else:\n",
    "                rhomin =  np.inf\n",
    "            return np.array((qmin, rhomin))\n",
    "        elif len(p)>1:\n",
    "            qmin = np.zeros_like(p)\n",
    "            rhomin = np.zeros_like(p)\n",
    "            extinct_times = np.zeros((len(p), 2)) \n",
    "            for j in range(0, len(p)):\n",
    "                qwhere = np.where(q>=p[j])[0]\n",
    "                rhowhere = np.where(rho>=p[j])[0]\n",
    "                if len(qwhere)>0:\n",
    "                    qmin[j] = np.min(t[np.where(q>=p[j])])\n",
    "                else:\n",
    "                    qmin[j] = np.inf\n",
    "                if (len(rhowhere)>0) and (rho[-1]>=p[j]):\n",
    "                    rhomin[j] = np.min(t[np.where(rho>=p[j])])\n",
    "                else:\n",
    "                    rhomin[j] =  np.inf\n",
    "            extinct_times[:,0] = qmin\n",
    "            extinct_times[:,1] = rhomin\n",
    "            return(extinct_times)\n",
    "    \n",
    "    def qr_final(self, sol):\n",
    "        sol = sol[-1,:]\n",
    "        q_final = np.prod(sol[0:-1,-1])\n",
    "        rho_final = sol[-1, -1]\n",
    "        return [q_final, rho_final]\n",
    "    \n",
    "    def set_Omega(self, Omega):\n",
    "        self.Omega=Omega\n",
    "        return None\n",
    "    \n",
    "    def set_mean_odes(self, u, t):\n",
    "        try:\n",
    "            Omega = self.Omega\n",
    "        except NotImplementedError:\n",
    "            print(\"Need to set Omega first!\")\n",
    "        P = self.offspring\n",
    "        eta = self.eta\n",
    "        omega = self.omega\n",
    "        if isinstance(u, float):\n",
    "            self.meaneqs=1\n",
    "            deriv = np.zeros(self.meaneqs)\n",
    "            deriv[0] = u*Omega(t) + eta(t)\n",
    "            return deriv\n",
    "        else:\n",
    "            self.meaneqs = len(u)\n",
    "            meaneqs = self.meaneqs\n",
    "            deriv = np.zeros(meaneqs)\n",
    "            deriv = u@Omega(t) + eta(t)\n",
    "            return deriv\n",
    "        \n",
    "    def solve_mean_odes(self, set_mean_odes, t, ics, methodclass=RungeKutta4):\n",
    "        method = methodclass(set_mean_odes)\n",
    "        method.set_ic(u0=ics)\n",
    "        M, t = method.solver(time_points=t)\n",
    "#         M = sp.integrate.odeint(set_mean_odes, ics, t).T\n",
    "        return M\n",
    "        "
   ]
  },
  {
   "cell_type": "code",
   "execution_count": 4,
   "metadata": {},
   "outputs": [],
   "source": [
    "# Parameters to change \n",
    "\n",
    "ntypes = 12\n",
    "nexposed = int(ntypes/2)\n",
    "\n",
    "# Disease Parameters\n",
    "\n",
    "Reff_vec = np.array((1.22, 1.54, 1.79, 2.52, 2.94)) # R without immunity for wildtype with roadmap changes\n",
    "rtrans_variant = 1.5 # Relative transmissability of SA variant compared to wildtype\n",
    "gamma = 0.4 # Recovery Rate\n",
    "sigma = 0.3 # Progression rate from exposed to infectious\n",
    "\n",
    "# Vaccine parameters for transmission reduction \n",
    "\n",
    "sus_uk = 1-0.9 # Susceptibility of unvaccinated B.1.351 recovereds against wildtype\n",
    "sus_sa = 1-0.4 # Susceptibility of unvaccinated wildtype recovereds against B.1.351\n",
    "az_vac_uk = 1-0.6 # Reduction in transmission of UK variant due to AstraZeneca vaccine\n",
    "pfi_vac_uk = 1-0.7 # Reduction in transmission of UK variant due to Pfizer vaccine\n",
    "new_vac_uk = 1-0.6 # Reduction in transmission of UK variant due to new vaccine\n",
    "az_vac_sa = 1-0.1 # Reduction in transmission of SA variant due to AstraZeneca vaccine\n",
    "pfi_vac_sa = 1-0.5 # Reduction in transmission of SA variant due to Pfizer vaccine\n",
    "new_vac_sa = 1-0.9 # Reduction in transmission of SA variant due to new vaccine\n",
    "# vaccine_vec = np.array((1., az_vac_sa, pfi_vac_sa, new_vac_sa))\n",
    "\n",
    "#k = -1 #1/10 # Dispersion Endo et al.\n",
    "\n",
    "Tmax = 100 \n",
    "num = 100\n",
    "time = np.linspace(0, Tmax, num=num)\n",
    "\n",
    "# Reduced transmissability for each type based on infection/vaccine immunity\n",
    "# const_vec = np.array((1., sus_sa, az_vac_sa, az_vac_sa*sus_sa, pfi_vac_sa, pfi_vac_sa*sus_sa, new_vac_sa, new_vac_sa*sus_sa))\n",
    "const_vec = np.array((1., sus_sa, az_vac_sa, np.min((az_vac_sa, sus_sa)), pfi_vac_sa, np.min((pfi_vac_sa, sus_sa))))\n",
    "\n",
    "\n",
    "\n",
    "# Vector of proportions of susceptibles for each type:\n",
    "\n",
    "\n",
    "p_az = 0.32 # % vaccinated with AstraZeneca\n",
    "p_pf = 0.17 # % vaccinated with Pfizer\n",
    "# p_new = 0 # % vaccinated with putative new vaccine (currently 0) \n",
    "p_no_vac = 1- p_az - p_pf #- p_new # % unvaccinated\n",
    "\n",
    "p_rec = 0.245 # % recovered from previous strains\n",
    "p_sus = 1-p_rec # % never infected with any coronavirus\n",
    "\n",
    "\n",
    "prop_vec = np.array((p_sus*p_no_vac, p_rec*p_no_vac, p_sus*p_az, p_rec*p_az, p_sus*p_pf, p_rec*p_pf))\n",
    "\n",
    "\n",
    "\n",
    "# Vector of immigrants at each type - currently only 1 immigrant of type 1 (unvaccinated, no prior infection) every 5 days\n",
    "\n",
    "cluster_im = 1\n",
    "if not cluster_im:\n",
    "    im =1/5.\n",
    "    im_vec = np.zeros(ntypes)\n",
    "    im_vec[:nexposed] = im*prop_vec*const_vec # Rate of importation for unvaccinated exposed cases of variants with no previous infection history\n",
    "else:\n",
    "    discount_imports = 1\n",
    "    ntypes+=1\n",
    "    cluster_size = 2\n",
    "    alpha = 0.3\n",
    "    cluster_rate = 1/5\n",
    "    im_vec = np.zeros(ntypes)\n",
    "    im_vec[0] = cluster_rate\n",
    "   \n"
   ]
  },
  {
   "cell_type": "code",
   "execution_count": 5,
   "metadata": {},
   "outputs": [],
   "source": [
    "# np.mean(np.random.negative_binomial(cluster_size, alpha, 1000))"
   ]
  },
  {
   "cell_type": "code",
   "execution_count": 14,
   "metadata": {},
   "outputs": [
    {
     "data": {
      "text/plain": [
       "<matplotlib.legend.Legend at 0x7fb903815520>"
      ]
     },
     "execution_count": 14,
     "metadata": {},
     "output_type": "execute_result"
    },
    {
     "data": {
      "image/png": "[encoded data removed]",
      "text/plain": [
       "<Figure size 432x288 with 1 Axes>"
      ]
     },
     "metadata": {
      "needs_background": "light"
     },
     "output_type": "display_data"
    }
   ],
   "source": [
    "# Solve ODEs \n",
    "\n",
    "rho_mat = np.zeros((len(Reff_vec), len(time)))\n",
    "q_mat = np.zeros_like(rho_mat)\n",
    "R_vec = np.zeros_like(Reff_vec)\n",
    "showplot_rho = 100\n",
    "for r, Reff in enumerate(Reff_vec):\n",
    "    beta_SA = Reff*gamma*rtrans_variant\n",
    "#     beta_vec = beta_SA * prop_vec\n",
    "    RV = Reff*rtrans_variant\n",
    "\n",
    "    \n",
    "    omega_vec = sigma * np.ones(ntypes) \n",
    "    if cluster_im:\n",
    "        omega_vec = np.append(cluster_rate, omega_vec)\n",
    "    \n",
    "    for nex in range(0, nexposed):\n",
    "        omega_vec[nex + nexposed] = np.sum(const_vec*prop_vec*beta_SA) + gamma\n",
    "        \n",
    "    def omega(t): # Return vector of lifetimes for each state\n",
    "        return omega_vec\n",
    "\n",
    "#     beta_vec = beta_SA*np.ones(nexposed)\n",
    "#     for i in range(0, len(vaccine_vec)):\n",
    "#         beta_vec[2*i:2*i+2]*= vaccine_vec[i]\n",
    "    \n",
    "    def P(u, t): # Offspring distribution\n",
    "\n",
    "        pvec = np.zeros_like(u)\n",
    "        nexposed = int(ntypes/2)\n",
    "        omega = (np.sum(prop_vec * const_vec * beta_SA) + gamma)\n",
    "#         sum_gen_funcs = np.sum((beta_SA*prop_vec/omega)*const_vec*(1+(1/k)*(1-u[:nexposed]))**(-k))\n",
    "        \n",
    "#         banana = np.sum()\n",
    "        if cluster_im:\n",
    "            pvec[0] = np.sum(prop_vec*const_vec*(1+((cluster_size)/alpha)*(1-u[1:(nexposed+1)]))**(-alpha))\n",
    "            sum_gen_funcs = np.sum((beta_SA*prop_vec/omega)*const_vec*u[1:(nexposed + 1)])\n",
    "        else:\n",
    "            sum_gen_funcs = np.sum((beta_SA*prop_vec/omega)*const_vec*u[:nexposed])\n",
    "        for nex in range(0, nexposed):\n",
    "            if cluster_im:\n",
    "                \n",
    "                pvec[nex+1] = u[nex+nexposed+1] \n",
    "                pvec[nex+nexposed+1] =  u[nex+nexposed+1] * sum_gen_funcs + (gamma/omega)\n",
    "            else:\n",
    "                \n",
    "                pvec[nex] = u[nex+nexposed] \n",
    "                pvec[nex+nexposed] =  u[nex+nexposed] * sum_gen_funcs + (gamma/omega)\n",
    "        \n",
    "        \n",
    "        return pvec            \n",
    "            \n",
    "            \n",
    "    def eta(t):\n",
    "        return im_vec.astype(float)\n",
    "    ics = np.zeros(ntypes+1)\n",
    "    ics[-1] = 1.\n",
    "    ics[0] = 1.\n",
    "    n0vec = np.zeros(ntypes)\n",
    "#     n0vec[0] = 1\n",
    "\n",
    "\n",
    "    offspring = P\n",
    "    outbreak = MTBP_extinct(offspring)\n",
    "    outbreak.set_lifespans(omega)\n",
    "    outbreak.set_immigration(eta)\n",
    "    rho = outbreak.solve_odes(outbreak.set_odes, time, ics, n0vec, Full = True) # Solve ODEs for probabilities of extinction/zero\n",
    "    q_mat [r, :] = rho[0, :]\n",
    "    rho_mat[r, :] = rho[-1, :] # Take 0th row for qs, -1th row for rs\n",
    "\n",
    "    plt.plot(time[:showplot_rho], rho_mat[r, :showplot_rho], label = str(np.round(RV, 2)))\n",
    "\n",
    "plt.title(\"P(Z(t) = 0) \" )\n",
    "plt.xlabel(\"Days after initial case\")\n",
    "plt.ylabel(\"Probability\")\n",
    "# plt.savefig(\"./pnocases_im=\" + str(im) + \"_beta=\" + str(Reff_vec[0]*gamma*rtrans_variant)+ \"_n0=0.pdf\")\n",
    "plt.legend(loc=2, bbox_to_anchor=(1.05, 1), framealpha=1., edgecolor='black', fancybox=False, title = \"R0\")\n",
    "# plt.plot(time[:showplot_rho], np.exp(-1/5*time[:showplot_rho]), color = 'black')"
   ]
  },
  {
   "cell_type": "code",
   "execution_count": 8,
   "metadata": {},
   "outputs": [
    {
     "data": {
      "text/plain": [
       "<matplotlib.legend.Legend at 0x7fb9134c91c0>"
      ]
     },
     "execution_count": 8,
     "metadata": {},
     "output_type": "execute_result"
    },
    {
     "data": {
      "image/png": "[encoded data removed]",
      "text/plain": [
       "<Figure size 432x288 with 1 Axes>"
      ]
     },
     "metadata": {
      "needs_background": "light"
     },
     "output_type": "display_data"
    }
   ],
   "source": [
    "# Mean over time \n",
    "# Reff_vec = np.linspace(1.22, 2.94, num=20)\n",
    "mean_cond = np.zeros((len(Reff_vec), len(time)))\n",
    "mean_arr = np.zeros((len(Reff_vec), ntypes-1, len(time)))\n",
    "mean = np.zeros_like(mean_cond)\n",
    "showplot = 30*5\n",
    "for r, Reff in enumerate(Reff_vec):\n",
    "    beta_SA = Reff*gamma*rtrans_variant\n",
    "    RV = Reff*rtrans_variant\n",
    "    \n",
    "    def Omega(t): # Matrix of first partial derivatives of offspring distribution minus lifetimes*identity\n",
    "            Omat = np.zeros((ntypes, ntypes))\n",
    "            omega_vec = sigma * np.ones(ntypes)       \n",
    "            if cluster_im:\n",
    "                omega_vec[0] = np.sum(const_vec*prop_vec*cluster_size)\n",
    "                for nex in range(0, nexposed):\n",
    "                    Omat[0, nex+1] = const_vec[nex]*prop_vec[nex]*cluster_size\n",
    "                    omega_vec[nex + nexposed+1] = np.sum(const_vec*prop_vec*beta_SA) + gamma\n",
    "                    Omat[nex+1, nex+nexposed+1] = omega_vec[nex+1]\n",
    "                    Omat[nex+nexposed+1, 1:(nexposed+1)] = const_vec*prop_vec*beta_SA \n",
    "                    Omat[nex+nexposed+1, nex+nexposed+1] = np.sum(const_vec * beta_SA * prop_vec)\n",
    "\n",
    "                Omat -= np.diag(omega_vec)\n",
    "            else:\n",
    "                for nex in range(0, nexposed):\n",
    "                    omega_vec[nex + nexposed] = np.sum(const_vec*prop_vec*beta_SA) + gamma\n",
    "                    Omat[nex, nex+nexposed] = omega_vec[nex]\n",
    "                    Omat[nex+nexposed, :nexposed] = const_vec*prop_vec*beta_SA \n",
    "                    Omat[nex+nexposed, nex+nexposed] = np.sum(const_vec * beta_SA * prop_vec)\n",
    "\n",
    "                Omat -= np.diag(omega_vec)\n",
    "\n",
    "            return Omat\n",
    "    outbreak.set_Omega(Omega)\n",
    "    n0s = np.zeros(ntypes)\n",
    "#     n0s[0] = 1.\n",
    "    Mvec = outbreak.solve_mean_odes(outbreak.set_mean_odes, time, n0s)[1:, :]\n",
    "    mean_arr[r, :, :] = Mvec\n",
    "#     mean_cond[r, :] = np.sum(Mvec, axis=0)\n",
    "\n",
    "#     mean_cond[r, :] = np.sum(Mvec/(1-rho_mat[r, :] + np.finfo(float).eps), axis=0)\n",
    "    mean[r, :] = np.sum(Mvec, axis=0)\n",
    "    plt.plot(time[:showplot], mean[r, :showplot], label = str(np.round(RV, 2)))\n",
    "plt.title(\"Mean number of cases\" )\n",
    "plt.xlabel(\"Days\")\n",
    "plt.ylabel(\"Cases\")\n",
    "# plt.savefig(\"./meancases_im=\" + str(im) + \"_R0=\" + str(RV)+ \"_n0=0.pdf\")\n",
    "plt.legend(loc=2, bbox_to_anchor=(1.05, 1), framealpha=1., edgecolor='black', fancybox=False, title = \"R0\")\n",
    "\n"
   ]
  },
  {
   "cell_type": "code",
   "execution_count": 41,
   "metadata": {},
   "outputs": [],
   "source": [
    "# # Variance  - for highest R0 (or single value to be chosen)\n",
    "# # Build a vector C from matrix G as in Garden of BPs \n",
    "# # Reff_vec = np.linspace(1.22, 2.94, num=20)\n",
    "# var_vec = np.zeros((len(Reff_vec), len(time)))\n",
    "# lamb_vec = np.zeros(len(Reff_vec)) # Vector of growth rates for each R0\n",
    "\n",
    "# for r in range(0, len(Reff_vec)):\n",
    "#     Reff = Reff_vec[r]\n",
    "#     beta_SA = Reff*gamma*rtrans_variant\n",
    "#     RV = Reff*rtrans_variant\n",
    "#     tol = 14\n",
    "#     def Omega(t): # Matrix of first partial derivatives of offspring distribution minus lifetimes*identity\n",
    "#             Omat = np.zeros((ntypes, ntypes))\n",
    "#             omega_vec = sigma * np.ones(ntypes)       \n",
    "#             if cluster_im:\n",
    "#                 omega_vec[0] = np.sum(const_vec*prop_vec*cluster_size)\n",
    "#                 for nex in range(0, nexposed):\n",
    "#                     Omat[0, nex+1] = const_vec[nex]*prop_vec[nex]*cluster_size\n",
    "#                     omega_vec[nex + nexposed+1] = np.sum(const_vec*prop_vec*beta_SA) + gamma\n",
    "#                     Omat[nex+1, nex+nexposed+1] = omega_vec[nex+1]\n",
    "#                     Omat[nex+nexposed+1, 1:(nexposed+1)] = const_vec*prop_vec*beta_SA \n",
    "#                     Omat[nex+nexposed+1, nex+nexposed+1] = np.sum(const_vec * beta_SA * prop_vec)\n",
    "\n",
    "#                 Omat -= np.diag(omega_vec)\n",
    "#             else:\n",
    "#                 for nex in range(0, nexposed):\n",
    "#                     omega_vec[nex + nexposed] = np.sum(const_vec*prop_vec*beta_SA) + gamma\n",
    "#                     Omat[nex, nex+nexposed] = omega_vec[nex]\n",
    "#                     Omat[nex+nexposed, :nexposed] = const_vec*prop_vec*beta_SA \n",
    "#                     Omat[nex+nexposed, nex+nexposed] = np.sum(const_vec * beta_SA * prop_vec)\n",
    "\n",
    "#                 Omat -= np.diag(omega_vec)\n",
    "#             return Omat\n",
    "\n",
    "#     # Diagonalise Omega and find H as in Garden of BPs paper\n",
    "\n",
    "#     eigvls, orth = nla.eig(Omega(0))\n",
    "#     eigvls = np.real_if_close(eigvls)\n",
    "#     orth = orth\n",
    "#     lamb = np.max(eigvls)\n",
    "#     diagmat = np.real_if_close(np.diag(eigvls))\n",
    "    \n",
    "#     if np.isreal(eigvls).all():\n",
    "#         for ev in range(0, len(orth)):\n",
    "#             orth[:, ev] = np.real_if_close(orth[:, ev])\n",
    "#             if not np.isreal(orth[:, ev]).all():\n",
    "#                 orth[:, ev+1] = np.imag(orth[:, ev])\n",
    "#                 orth[:, ev] = np.real(orth[:, ev])\n",
    "                \n",
    "#     print(\"All eigenvalues of orth are real: \" + str(np.isreal(orth.all())))\n",
    "    \n",
    "#     orth = np.real_if_close(orth)\n",
    "#     orth_inv = nla.inv(orth)\n",
    "#     orth_c = orth.copy().conjugate()\n",
    "#     orthc_inv = nla.inv(orth_c)\n",
    "#     H = np.kron(orth, np.kron((orthc_inv), orthc_inv))\n",
    "#     # H[6*ntypes*ntypes:(8)*ntypes*ntypes, 6*ntypes*ntypes:(8)*ntypes*ntypes] = 0\n",
    "#     Hinv = np.kron(orth_inv, np.kron(orth_c, orth_c))\n",
    "    \n",
    "   \n",
    "\n",
    "#     # Hinv = nla.inv(H)\n",
    "\n",
    "#     def H_mat(t, beta): # Hessian of the Offspring Distribution \n",
    "\n",
    "#         Hmat = np.zeros((ntypes, ntypes, ntypes))\n",
    "#         omega_vec = sigma * np.ones(ntypes)\n",
    "        \n",
    "        \n",
    "#         if cluster_im:\n",
    "#             for i in range(1, nexposed+1):\n",
    "#                 Hmat[0, i, i] = (const_vec[i-1]*prop_vec[i-1] * (cluster_size**2) * (alpha+1)/alpha)/np.sum(const_vec*prop_vec*cluster_size)\n",
    "\n",
    "#             for level in range(1, nexposed+1):\n",
    "#                 omega_vec[level + nexposed] = np.sum(const_vec*prop_vec*beta) + gamma\n",
    "#                 for i in range(1, nexposed+1):\n",
    "\n",
    "#         #             Hmat[level + nexposed, i, i] =  (const_vec[i]*beta_SA*prop_vec[i])/(omega_vec[level+nexposed])\n",
    "#                     Hmat[level + nexposed, level+nexposed, i] = (beta * const_vec[i-1]*prop_vec[i-1])/(omega_vec[level+nexposed-1])\n",
    "#                     Hmat[level + nexposed, i, level+nexposed] = (beta * const_vec[i-1]*prop_vec[i-1])/(omega_vec[level+nexposed-1])\n",
    "\n",
    "#         else:\n",
    "#             for level in range(0, nexposed):\n",
    "#                 omega_vec[level + nexposed] = np.sum(const_vec*prop_vec*beta) + gamma\n",
    "#                 for i in range(0, nexposed):\n",
    "\n",
    "#         #             Hmat[level + nexposed, i, i] =  (const_vec[i]*beta_SA*prop_vec[i])/(omega_vec[level+nexposed])\n",
    "#                     Hmat[level + nexposed, level+nexposed, i] = (beta * const_vec[i]*prop_vec[i])/(omega_vec[level+nexposed])\n",
    "#                     Hmat[level + nexposed, i, level+nexposed] = (beta * const_vec[i]*prop_vec[i])/(omega_vec[level+nexposed])\n",
    "\n",
    "#         return Hmat\n",
    "\n",
    "#     def P_vecs(t, beta): # Essentially the same as Omega matrix - matrix of partial derivatives - columns should be partial derivatives of each P_i(s)\n",
    "\n",
    "#         Omat = np.zeros((ntypes, ntypes))\n",
    "#         omega_vec = sigma * np.ones(ntypes)\n",
    "#         if cluster_im:\n",
    "#             omega_vec[0] = np.sum(const_vec*prop_vec*cluster_size)\n",
    "#             for nex in range(0, nexposed):\n",
    "#                 Omat[0, nex+1] = const_vec[nex]*prop_vec[nex]*cluster_size\n",
    "#                 omega_vec[nex + nexposed+1] = np.sum(const_vec*prop_vec*beta_SA) + gamma\n",
    "#                 Omat[nex+1, nex+nexposed+1] = omega_vec[nex+1]\n",
    "#                 Omat[nex+nexposed+1, 1:(nexposed+1)] = const_vec*prop_vec*beta_SA \n",
    "#                 Omat[nex+nexposed+1, nex+nexposed+1] = np.sum(const_vec * beta_SA * prop_vec)\n",
    "\n",
    "#         else:\n",
    "#             for nex in range(0, nexposed):\n",
    "#                 omega_vec[nex + nexposed] = np.sum(const_vec*prop_vec*beta_SA) + gamma\n",
    "#                 Omat[nex, nex+nexposed] = omega_vec[nex]\n",
    "#                 Omat[nex+nexposed, :nexposed] = const_vec*prop_vec*beta_SA \n",
    "#                 Omat[nex+nexposed, nex+nexposed] = np.sum(const_vec * beta_SA * prop_vec)\n",
    "\n",
    "#         return Omat\n",
    "\n",
    "\n",
    "#     # Compose Gmat\n",
    "\n",
    "#     Gmat = np.zeros((ntypes, ntypes, ntypes))\n",
    "#     C = np.zeros(ntypes**3)\n",
    "#     omega_vec = sigma * np.ones(ntypes)\n",
    "    \n",
    "#     for nex in range(0, nexposed):\n",
    "#         omega_vec[nex + nexposed] = np.sum(const_vec*prop_vec*beta_SA) + gamma\n",
    "        \n",
    "#     for l in range(0, ntypes):\n",
    "\n",
    "#         Gmat[l, :, :] = H_mat(0, beta_SA)[l, :, :] + np.diag(P_vecs(0, beta_SA)[:, l]) - np.outer(P_vecs(0, beta_SA)[:, l], P_vecs(0, beta_SA)[:, l])\n",
    "#         unitvec = np.zeros(ntypes)\n",
    "#         unitvec[l] = 1\n",
    "#         Gmat[l, :, :] += np.outer(unitvec, unitvec) + np.outer(P_vecs(0, beta_SA)[:, l], P_vecs(0, beta_SA)[:, l]) - np.outer(unitvec, P_vecs(0, beta_SA)[:, l]) - np.outer(P_vecs(0, beta_SA)[:, l], unitvec)\n",
    "#         Gmat[l, :, :] *= omega_vec[l]\n",
    "#         C[l*ntypes*ntypes:(l+1)*ntypes*ntypes] = Gmat[l, :, :].flatten('F') # Stack columns for 'vec' operator\n",
    "\n",
    "#     Amat = np.kron(nla.inv(orth.conjugate()), nla.inv(orth.conjugate()))\n",
    "#     vec_w = np.zeros(ntypes**3)\n",
    "#     Amat_inv = nla.inv(Amat)\n",
    "\n",
    "#     HinvC = nla.solve(H, C)\n",
    "\n",
    "#     def Deltamat(t, immigration, eigvls, l):\n",
    "#         Delta = np.zeros(ntypes**2)\n",
    "#         eigs = eigvls.copy()\n",
    "#         for j in range(0, ntypes):\n",
    "#             for n in range(0, ntypes):\n",
    "#                 Delta[j*ntypes + n] =  immigration[l]*(1-np.exp((eigs[j] + eigs[n])*t))/(-eigs[j] - eigs[n])\n",
    "#         Deltamat = np.diag(Delta)\n",
    "#         return Deltamat\n",
    "\n",
    "\n",
    "#     def Deltamat_im(t, immigration, eigvls):\n",
    "#         Delta = np.zeros(ntypes**3)\n",
    "#         eigs = eigvls.copy()\n",
    "#         for l in range(0, ntypes):\n",
    "#             for j in range(0, ntypes):\n",
    "#                 for n in range(0, ntypes):\n",
    "#                     Delta[l*ntypes*ntypes + j*ntypes + n] =  (1/(eigs[l] - (eigs[j] + eigs[n])))*((np.exp(eigs[l]*t) - 1)/(eigs[l]) - (np.exp((eigs[j] + eigs[n])*t) - 1)/(eigs[j] + eigs[n]))\n",
    "#     #                 Delta[l*ntypes*ntypes + j*ntypes + n] =  (1/(eigs[l] - (eigs[j] + eigs[n])))*((np.exp(eigs[l]*t) - 1)/(eigs[l]) - (np.exp((eigs[j] + eigs[n])*t) - 1)/(eigs[j] + eigs[n]))\n",
    "\n",
    "#         Deltamat = np.diag(Delta)\n",
    "#         return Deltamat\n",
    "\n",
    "\n",
    "#     # Build both components for variance with immigration from eq. 21 and final eq. on p.213\n",
    "#     def var(t):\n",
    "# #         Amat = np.kron(nla.inv(orth_c.copy()), nla.inv(orth_c.copy()))\n",
    "#         vec_w = np.zeros(ntypes**3)\n",
    "# #         Amat_inv = nla.inv(Amat.copy())\n",
    "#         vecvar =  H @ Deltamat_im(t, im_vec, eigvls) @ HinvC\n",
    "\n",
    "#         for i in range(0, ntypes):\n",
    "#             unitvec = np.zeros(ntypes)\n",
    "#             unitvec[i] = 1.\n",
    "#             unit_outer_prod = np.outer(unitvec, unitvec).flatten('F') # Stack columns for 'vec' operator\n",
    "#             vec_wi =  Amat @ ( Deltamat(t, im_vec, eigvls, i)) @ Amat_inv @unit_outer_prod\n",
    "#             vec_w[i*ntypes*ntypes:(i+1)*ntypes*ntypes] = vec_wi\n",
    "#             vecvar[i*ntypes*ntypes:(i+1)*ntypes*ntypes] *=im_vec[i]\n",
    "\n",
    "\n",
    "\n",
    "#     #     vecvar =  H @ Deltamat_im(t, im_vec, eigvls) @ HinvC\n",
    "#         var_im = np.reshape(vecvar, (ntypes, ntypes, ntypes)).transpose(0, 2, 1)\n",
    "#         w = np.reshape(vec_w, (ntypes, ntypes, ntypes)).transpose(0, 2, 1)\n",
    "\n",
    "#         var_im += w\n",
    "#         return var_im  # np.reshape(vec_w, (ntypes, ntypes, ntypes)).transpose(0, 2, 1)\n",
    "\n",
    "\n",
    "\n",
    "\n",
    "#     # varmat = np.sum(var(30), axis=0) # Sum variance for all different types into total variance matrix\n",
    "    \n",
    "#     T=0\n",
    "#     for Time in tqdm(time):\n",
    "#         if cluster_im:\n",
    "#             if discount_imports:\n",
    "#                 var_vec[r, T] = np.sum(var(Time)[:, 1:, 1:])\n",
    "#             else:\n",
    "#                 var_vec[r, T] = np.sum(var(Time))\n",
    "#         else:\n",
    "#             var_vec[r, T] = np.sum(var(Time))\n",
    "#         T+=1\n",
    "\n",
    "\n"
   ]
  },
  {
   "cell_type": "code",
   "execution_count": 43,
   "metadata": {},
   "outputs": [
    {
     "data": {
      "text/plain": [
       "array([-1.619     , -1.00642014,  0.30642014, -0.3       , -0.4       ,\n",
       "       -0.3       , -0.3       , -0.3       , -0.4       , -0.4       ,\n",
       "       -0.3       , -0.4       , -0.4       ])"
      ]
     },
     "execution_count": 43,
     "metadata": {},
     "output_type": "execute_result"
    }
   ],
   "source": [
    "eigvls"
   ]
  },
  {
   "cell_type": "code",
   "execution_count": 78,
   "metadata": {},
   "outputs": [
    {
     "name": "stdout",
     "output_type": "stream",
     "text": [
      "44.42179113980557\n",
      "All eigenvectors of orth are real: True\n"
     ]
    },
    {
     "name": "stderr",
     "output_type": "stream",
     "text": [
      " 66%|██████▌   | 66/100 [00:09<00:05,  6.65it/s]\n"
     ]
    },
    {
     "ename": "KeyboardInterrupt",
     "evalue": "",
     "output_type": "error",
     "traceback": [
      "\u001b[0;31m---------------------------------------------------------------------------\u001b[0m",
      "\u001b[0;31mKeyboardInterrupt\u001b[0m                         Traceback (most recent call last)",
      "\u001b[0;32m<ipython-input-78-1c5545a4301f>\u001b[0m in \u001b[0;36m<module>\u001b[0;34m\u001b[0m\n\u001b[1;32m    196\u001b[0m         \u001b[0;32mif\u001b[0m \u001b[0mcluster_im\u001b[0m\u001b[0;34m:\u001b[0m\u001b[0;34m\u001b[0m\u001b[0;34m\u001b[0m\u001b[0m\n\u001b[1;32m    197\u001b[0m             \u001b[0;32mif\u001b[0m \u001b[0mdiscount_imports\u001b[0m\u001b[0;34m:\u001b[0m\u001b[0;34m\u001b[0m\u001b[0;34m\u001b[0m\u001b[0m\n\u001b[0;32m--> 198\u001b[0;31m                 \u001b[0mvar_vec\u001b[0m\u001b[0;34m[\u001b[0m\u001b[0mr\u001b[0m\u001b[0;34m,\u001b[0m \u001b[0mT\u001b[0m\u001b[0;34m]\u001b[0m \u001b[0;34m=\u001b[0m \u001b[0mnp\u001b[0m\u001b[0;34m.\u001b[0m\u001b[0msum\u001b[0m\u001b[0;34m(\u001b[0m\u001b[0mvar\u001b[0m\u001b[0;34m(\u001b[0m\u001b[0mTime\u001b[0m\u001b[0;34m)\u001b[0m\u001b[0;34m[\u001b[0m\u001b[0;34m:\u001b[0m\u001b[0;34m,\u001b[0m \u001b[0;36m1\u001b[0m\u001b[0;34m:\u001b[0m\u001b[0;34m,\u001b[0m \u001b[0;36m1\u001b[0m\u001b[0;34m:\u001b[0m\u001b[0;34m]\u001b[0m\u001b[0;34m)\u001b[0m\u001b[0;34m\u001b[0m\u001b[0;34m\u001b[0m\u001b[0m\n\u001b[0m\u001b[1;32m    199\u001b[0m             \u001b[0;32melse\u001b[0m\u001b[0;34m:\u001b[0m\u001b[0;34m\u001b[0m\u001b[0;34m\u001b[0m\u001b[0m\n\u001b[1;32m    200\u001b[0m                 \u001b[0mvar_vec\u001b[0m\u001b[0;34m[\u001b[0m\u001b[0mr\u001b[0m\u001b[0;34m,\u001b[0m \u001b[0mT\u001b[0m\u001b[0;34m]\u001b[0m \u001b[0;34m=\u001b[0m \u001b[0mnp\u001b[0m\u001b[0;34m.\u001b[0m\u001b[0msum\u001b[0m\u001b[0;34m(\u001b[0m\u001b[0mvar\u001b[0m\u001b[0;34m(\u001b[0m\u001b[0mTime\u001b[0m\u001b[0;34m)\u001b[0m\u001b[0;34m)\u001b[0m\u001b[0;34m\u001b[0m\u001b[0;34m\u001b[0m\u001b[0m\n",
      "\u001b[0;32m<ipython-input-78-1c5545a4301f>\u001b[0m in \u001b[0;36mvar\u001b[0;34m(t)\u001b[0m\n\u001b[1;32m    168\u001b[0m         \u001b[0mvec_w\u001b[0m \u001b[0;34m=\u001b[0m \u001b[0mnp\u001b[0m\u001b[0;34m.\u001b[0m\u001b[0mzeros\u001b[0m\u001b[0;34m(\u001b[0m\u001b[0mntypes\u001b[0m\u001b[0;34m**\u001b[0m\u001b[0;36m3\u001b[0m\u001b[0;34m)\u001b[0m\u001b[0;34m\u001b[0m\u001b[0;34m\u001b[0m\u001b[0m\n\u001b[1;32m    169\u001b[0m \u001b[0;31m#         Amat_inv = nla.inv(Amat.copy())\u001b[0m\u001b[0;34m\u001b[0m\u001b[0;34m\u001b[0m\u001b[0;34m\u001b[0m\u001b[0m\n\u001b[0;32m--> 170\u001b[0;31m         \u001b[0mvecvar\u001b[0m \u001b[0;34m=\u001b[0m  \u001b[0mH\u001b[0m \u001b[0;34m@\u001b[0m \u001b[0mDeltamat_im\u001b[0m\u001b[0;34m(\u001b[0m\u001b[0mt\u001b[0m\u001b[0;34m,\u001b[0m \u001b[0mim_vec\u001b[0m\u001b[0;34m,\u001b[0m \u001b[0meigvls\u001b[0m\u001b[0;34m)\u001b[0m \u001b[0;34m@\u001b[0m \u001b[0mHinvC\u001b[0m\u001b[0;34m\u001b[0m\u001b[0;34m\u001b[0m\u001b[0m\n\u001b[0m\u001b[1;32m    171\u001b[0m \u001b[0;34m\u001b[0m\u001b[0m\n\u001b[1;32m    172\u001b[0m         \u001b[0;32mfor\u001b[0m \u001b[0mi\u001b[0m \u001b[0;32min\u001b[0m \u001b[0mrange\u001b[0m\u001b[0;34m(\u001b[0m\u001b[0;36m0\u001b[0m\u001b[0;34m,\u001b[0m \u001b[0mntypes\u001b[0m\u001b[0;34m)\u001b[0m\u001b[0;34m:\u001b[0m\u001b[0;34m\u001b[0m\u001b[0;34m\u001b[0m\u001b[0m\n",
      "\u001b[0;31mKeyboardInterrupt\u001b[0m: "
     ]
    }
   ],
   "source": [
    "# Variance  - for highest R0 (or single value to be chosen)\n",
    "# Build a vector C from matrix G as in Garden of BPs\n",
    "# Reff_vec = np.linspace(1.22, 2.94, num=20)\n",
    "var_vec = np.zeros((len(Reff_vec), len(time)))\n",
    "lamb_vec = np.zeros(len(Reff_vec)) # Vector of growth rates for each R0\n",
    "\n",
    "for r in range(0, len(Reff_vec)):\n",
    "    Reff = Reff_vec[r]\n",
    "    beta_SA = Reff*gamma*rtrans_variant\n",
    "    RV = Reff*rtrans_variant\n",
    "    \n",
    "    def Omega(t): # Matrix of first partial derivatives of offspring distribution minus lifetimes*identity\n",
    "            Omat = np.zeros((ntypes, ntypes))\n",
    "            omega_vec = sigma * np.ones(ntypes)      \n",
    "            if cluster_im:\n",
    "                omega_vec[0] = np.sum(const_vec*prop_vec*cluster_size)\n",
    "                for nex in range(0, nexposed):\n",
    "                    Omat[0, nex+1] = const_vec[nex]*prop_vec[nex]*cluster_size\n",
    "                    omega_vec[nex + nexposed+1] = np.sum(const_vec*prop_vec*beta_SA) + gamma\n",
    "                    Omat[nex+1, nex+nexposed+1] = omega_vec[nex+1]\n",
    "                    Omat[nex+nexposed+1, 1:(nexposed+1)] = const_vec*prop_vec*beta_SA\n",
    "                    Omat[nex+nexposed+1, nex+nexposed+1] = np.sum(const_vec * beta_SA * prop_vec)\n",
    "\n",
    "                Omat -= np.diag(omega_vec)\n",
    "            else:\n",
    "                for nex in range(0, nexposed):\n",
    "                    omega_vec[nex + nexposed] = np.sum(const_vec*prop_vec*beta_SA) + gamma\n",
    "                    Omat[nex, nex+nexposed] = omega_vec[nex]\n",
    "                    Omat[nex+nexposed, :nexposed] = const_vec*prop_vec*beta_SA\n",
    "                    Omat[nex+nexposed, nex+nexposed] = np.sum(const_vec * beta_SA * prop_vec)\n",
    "\n",
    "                Omat -= np.diag(omega_vec)\n",
    "            return Omat\n",
    "\n",
    "    # Diagonalise Omega and find H as in Garden of BPs paper\n",
    "\n",
    "    eigvls, orth = nla.eig(Omega(0))\n",
    "    eigvls = np.real_if_close(eigvls)\n",
    "    orth = orth\n",
    "    print(nla.cond(Omega(0)))\n",
    "    lamb = np.max(eigvls)\n",
    "    diagmat = np.real_if_close(np.diag(eigvls))\n",
    "   \n",
    "    if np.isreal(eigvls).all():\n",
    "        for ev in range(0, len(orth)):\n",
    "            orth[:, ev] = np.real_if_close(orth[:, ev])\n",
    "            if not np.isreal(orth[:, ev]).all():\n",
    "                orth[:, ev+1] = np.imag(orth[:, ev])\n",
    "                orth[:, ev] = np.real(orth[:, ev])\n",
    "               \n",
    "    print(\"All eigenvectors of orth are real: \" + str(np.isreal(orth.all())))\n",
    "   \n",
    "    orth = np.real_if_close(orth)\n",
    "    orth = np.round(orth, 14)\n",
    "    orth_inv = nla.inv(orth)\n",
    "    orth_c = orth.copy().conjugate()\n",
    "    orthc_inv = nla.inv(orth_c)\n",
    "    H = np.kron(orth, np.kron((orthc_inv), orthc_inv))\n",
    "    # H[6*ntypes*ntypes:(8)*ntypes*ntypes, 6*ntypes*ntypes:(8)*ntypes*ntypes] = 0\n",
    "    Hinv = np.kron(orth_inv, np.kron(orth_c, orth_c))\n",
    "   \n",
    "   \n",
    "\n",
    "    # Hinv = nla.inv(H)\n",
    "\n",
    "    def H_mat(t, beta): # Hessian of the Offspring Distribution\n",
    "\n",
    "        Hmat = np.zeros((ntypes, ntypes, ntypes))\n",
    "        omega_vec = sigma * np.ones(ntypes)\n",
    "       \n",
    "       \n",
    "        if cluster_im:\n",
    "            for i in range(1, nexposed+1):\n",
    "                Hmat[0, i, i] = (const_vec[i-1]*prop_vec[i-1] * (cluster_size**2) * (alpha+1)/alpha)/np.sum(const_vec*prop_vec*cluster_size)\n",
    "\n",
    "            for level in range(1, nexposed+1):\n",
    "                omega_vec[level + nexposed] = np.sum(const_vec*prop_vec*beta) + gamma\n",
    "                for i in range(1, nexposed+1):\n",
    "\n",
    "        #             Hmat[level + nexposed, i, i] =  (const_vec[i]*beta_SA*prop_vec[i])/(omega_vec[level+nexposed])\n",
    "                    Hmat[level + nexposed, level+nexposed, i] = (beta * const_vec[i-1]*prop_vec[i-1])/(omega_vec[level+nexposed-1])\n",
    "                    Hmat[level + nexposed, i, level+nexposed] = (beta * const_vec[i-1]*prop_vec[i-1])/(omega_vec[level+nexposed-1])\n",
    "\n",
    "        else:\n",
    "            for level in range(0, nexposed):\n",
    "                omega_vec[level + nexposed] = np.sum(const_vec*prop_vec*beta) + gamma\n",
    "                for i in range(0, nexposed):\n",
    "\n",
    "        #             Hmat[level + nexposed, i, i] =  (const_vec[i]*beta_SA*prop_vec[i])/(omega_vec[level+nexposed])\n",
    "                    Hmat[level + nexposed, level+nexposed, i] = (beta * const_vec[i]*prop_vec[i])/(omega_vec[level+nexposed])\n",
    "                    Hmat[level + nexposed, i, level+nexposed] = (beta * const_vec[i]*prop_vec[i])/(omega_vec[level+nexposed])\n",
    "\n",
    "        return Hmat\n",
    "\n",
    "    def P_vecs(t, beta): # Essentially the same as Omega matrix - matrix of partial derivatives - columns should be partial derivatives of each P_i(s)\n",
    "\n",
    "        Omat = np.zeros((ntypes, ntypes))\n",
    "        omega_vec = sigma * np.ones(ntypes)\n",
    "        if cluster_im:\n",
    "            omega_vec[0] = np.sum(const_vec*prop_vec*cluster_size)\n",
    "            for nex in range(0, nexposed):\n",
    "                Omat[0, nex+1] = const_vec[nex]*prop_vec[nex]*cluster_size\n",
    "                omega_vec[nex + nexposed+1] = np.sum(const_vec*prop_vec*beta_SA) + gamma\n",
    "                Omat[nex+1, nex+nexposed+1] = omega_vec[nex+1]\n",
    "                Omat[nex+nexposed+1, 1:(nexposed+1)] = const_vec*prop_vec*beta_SA\n",
    "                Omat[nex+nexposed+1, nex+nexposed+1] = np.sum(const_vec * beta_SA * prop_vec)\n",
    "\n",
    "        else:\n",
    "            for nex in range(0, nexposed):\n",
    "                omega_vec[nex + nexposed] = np.sum(const_vec*prop_vec*beta_SA) + gamma\n",
    "                Omat[nex, nex+nexposed] = omega_vec[nex]\n",
    "                Omat[nex+nexposed, :nexposed] = const_vec*prop_vec*beta_SA\n",
    "                Omat[nex+nexposed, nex+nexposed] = np.sum(const_vec * beta_SA * prop_vec)\n",
    "\n",
    "        return Omat\n",
    "\n",
    "\n",
    "    # Compose Gmat\n",
    "\n",
    "    Gmat = np.zeros((ntypes, ntypes, ntypes))\n",
    "    C = np.zeros(ntypes**3)\n",
    "    omega_vec = sigma * np.ones(ntypes)\n",
    "   \n",
    "    for nex in range(0, nexposed):\n",
    "        omega_vec[nex + nexposed] = np.sum(const_vec*prop_vec*beta_SA) + gamma\n",
    "       \n",
    "    for l in range(0, ntypes):\n",
    "\n",
    "        Gmat[l, :, :] = H_mat(0, beta_SA)[l, :, :] + np.diag(P_vecs(0, beta_SA)[:, l]) - np.outer(P_vecs(0, beta_SA)[:, l], P_vecs(0, beta_SA)[:, l])\n",
    "        unitvec = np.zeros(ntypes)\n",
    "        unitvec[l] = 1\n",
    "        Gmat[l, :, :] += np.outer(unitvec, unitvec) + np.outer(P_vecs(0, beta_SA)[:, l], P_vecs(0, beta_SA)[:, l]) - np.outer(unitvec, P_vecs(0, beta_SA)[:, l]) - np.outer(P_vecs(0, beta_SA)[:, l], unitvec)\n",
    "        Gmat[l, :, :] *= omega_vec[l]\n",
    "        C[l*ntypes*ntypes:(l+1)*ntypes*ntypes] = Gmat[l, :, :].flatten('F') # Stack columns for 'vec' operator\n",
    "\n",
    "    Amat = np.kron(nla.inv(orth.conjugate()), nla.inv(orth.conjugate()))\n",
    "    vec_w = np.zeros(ntypes**3)\n",
    "    Amat_inv = nla.inv(Amat)\n",
    "\n",
    "    HinvC = nla.solve(H, C)\n",
    "\n",
    "    def Deltamat(t, immigration, eigvls, l):\n",
    "        Delta = np.zeros(ntypes**2)\n",
    "        eigs = eigvls.copy()\n",
    "        for j in range(0, ntypes):\n",
    "            for n in range(0, ntypes):\n",
    "                Delta[j*ntypes + n] =  immigration[l]*(1-np.exp((eigs[j] + eigs[n])*t))/(-eigs[j] - eigs[n])\n",
    "        Deltamat = np.diag(Delta)\n",
    "        return Deltamat\n",
    "\n",
    "\n",
    "    def Deltamat_im(t, immigration, eigvls):\n",
    "        Delta = np.zeros(ntypes**3)\n",
    "        eigs = eigvls.copy()\n",
    "        for l in range(0, ntypes):\n",
    "            for j in range(0, ntypes):\n",
    "                for n in range(0, ntypes):\n",
    "                    Delta[l*ntypes*ntypes + j*ntypes + n] =  (1/(eigs[l] - (eigs[j] + eigs[n])))*((np.exp(eigs[l]*t) - 1)/(eigs[l]) - (np.exp((eigs[j] + eigs[n])*t) - 1)/(eigs[j] + eigs[n]))\n",
    "    #                 Delta[l*ntypes*ntypes + j*ntypes + n] =  (1/(eigs[l] - (eigs[j] + eigs[n])))*((np.exp(eigs[l]*t) - 1)/(eigs[l]) - (np.exp((eigs[j] + eigs[n])*t) - 1)/(eigs[j] + eigs[n]))\n",
    "\n",
    "        Deltamat = np.diag(Delta)\n",
    "        return Deltamat\n",
    "\n",
    "\n",
    "    # Build both components for variance with immigration from eq. 21 and final eq. on p.213\n",
    "    def var(t):\n",
    "#         Amat = np.kron(nla.inv(orth_c.copy()), nla.inv(orth_c.copy()))\n",
    "        vec_w = np.zeros(ntypes**3)\n",
    "#         Amat_inv = nla.inv(Amat.copy())\n",
    "        vecvar =  H @ Deltamat_im(t, im_vec, eigvls) @ HinvC\n",
    "\n",
    "        for i in range(0, ntypes):\n",
    "            unitvec = np.zeros(ntypes)\n",
    "            unitvec[i] = 1.\n",
    "            unit_outer_prod = np.outer(unitvec, unitvec).flatten('F') # Stack columns for 'vec' operator\n",
    "            vec_wi =  Amat @ ( Deltamat(t, im_vec, eigvls, i)) @ Amat_inv @unit_outer_prod\n",
    "            vec_w[i*ntypes*ntypes:(i+1)*ntypes*ntypes] = vec_wi\n",
    "            vecvar[i*ntypes*ntypes:(i+1)*ntypes*ntypes] *=im_vec[i]\n",
    "\n",
    "\n",
    "\n",
    "    #     vecvar =  H @ Deltamat_im(t, im_vec, eigvls) @ HinvC\n",
    "        var_im = np.reshape(vecvar, (ntypes, ntypes, ntypes)).transpose(0, 2, 1)\n",
    "        w = np.reshape(vec_w, (ntypes, ntypes, ntypes)).transpose(0, 2, 1)\n",
    "\n",
    "        var_im += w\n",
    "        return var_im  # np.reshape(vec_w, (ntypes, ntypes, ntypes)).transpose(0, 2, 1)\n",
    "\n",
    "\n",
    "\n",
    "\n",
    "    # varmat = np.sum(var(30), axis=0) # Sum variance for all different types into total variance matrix\n",
    "   \n",
    "    T=0\n",
    "    for Time in tqdm(time):\n",
    "        if cluster_im:\n",
    "            if discount_imports:\n",
    "                var_vec[r, T] = np.sum(var(Time)[:, 1:, 1:])\n",
    "            else:\n",
    "                var_vec[r, T] = np.sum(var(Time))\n",
    "        else:\n",
    "            var_vec[r, T] = np.sum(var(Time))\n",
    "        T+=1"
   ]
  },
  {
   "cell_type": "code",
   "execution_count": 76,
   "metadata": {},
   "outputs": [
    {
     "data": {
      "text/plain": [
       "array([-1.619     +0.00000000e+00j, -1.00642014+0.00000000e+00j,\n",
       "        0.30642014+0.00000000e+00j, -0.3       +0.00000000e+00j,\n",
       "       -0.4       +0.00000000e+00j, -0.3       +8.30095086e-17j,\n",
       "       -0.3       -8.30095086e-17j, -0.3       +0.00000000e+00j,\n",
       "       -0.4       +0.00000000e+00j, -0.4       +0.00000000e+00j,\n",
       "       -0.3       +0.00000000e+00j, -0.4       +0.00000000e+00j,\n",
       "       -0.4       +0.00000000e+00j])"
      ]
     },
     "execution_count": 76,
     "metadata": {},
     "output_type": "execute_result"
    }
   ],
   "source": [
    "nla.eig(Omega(0))[0]"
   ]
  },
  {
   "cell_type": "code",
   "execution_count": 72,
   "metadata": {},
   "outputs": [
    {
     "data": {
      "text/plain": [
       "array([51.51515152, 35.35353535, 29.29292929, 21.21212121, 18.18181818])"
      ]
     },
     "execution_count": 72,
     "metadata": {},
     "output_type": "execute_result"
    }
   ],
   "source": [
    "tstars = np.zeros(len(Reff_vec))\n",
    "mean_stars = np.zeros((len(Reff_vec), ntypes-1))\n",
    "Istar = 100\n",
    "for r, Reff in enumerate(Reff_vec):\n",
    "    if mean[r, -1]>=Istar:\n",
    "        tstar_idx  = np.min(np.where(mean[r, :] >= Istar)[0])\n",
    "        tstar = time[tstar_idx]\n",
    "        mean_stars[r, :] = mean_arr[r, :, tstar_idx]\n",
    "    else:\n",
    "        tstar = np.nan\n",
    "    tstars[r] = tstar\n",
    "tstars"
   ]
  },
  {
   "cell_type": "code",
   "execution_count": 73,
   "metadata": {},
   "outputs": [
    {
     "name": "stderr",
     "output_type": "stream",
     "text": [
      "<ipython-input-73-45e25454b0a0>:3: RuntimeWarning: invalid value encountered in sqrt\n",
      "  sig_vec= np.sqrt(var_vec)\n",
      "<ipython-input-73-45e25454b0a0>:6: RuntimeWarning: invalid value encountered in true_divide\n",
      "  sig_over_mean = (sig_vec[r, :]/(mean[r, :]))\n",
      "<ipython-input-73-45e25454b0a0>:6: RuntimeWarning: invalid value encountered in true_divide\n",
      "  sig_over_mean = (sig_vec[r, :]/(mean[r, :]))\n",
      "<ipython-input-73-45e25454b0a0>:6: RuntimeWarning: invalid value encountered in true_divide\n",
      "  sig_over_mean = (sig_vec[r, :]/(mean[r, :]))\n",
      "<ipython-input-73-45e25454b0a0>:6: RuntimeWarning: invalid value encountered in true_divide\n",
      "  sig_over_mean = (sig_vec[r, :]/(mean[r, :]))\n",
      "<ipython-input-73-45e25454b0a0>:6: RuntimeWarning: invalid value encountered in true_divide\n",
      "  sig_over_mean = (sig_vec[r, :]/(mean[r, :]))\n",
      "<ipython-input-73-45e25454b0a0>:20: RuntimeWarning: divide by zero encountered in log\n",
      "  plt.plot(time, np.log(var_vec[r, :]), label = str(RV))\n",
      "<ipython-input-73-45e25454b0a0>:20: RuntimeWarning: divide by zero encountered in log\n",
      "  plt.plot(time, np.log(var_vec[r, :]), label = str(RV))\n",
      "<ipython-input-73-45e25454b0a0>:20: RuntimeWarning: divide by zero encountered in log\n",
      "  plt.plot(time, np.log(var_vec[r, :]), label = str(RV))\n",
      "<ipython-input-73-45e25454b0a0>:20: RuntimeWarning: divide by zero encountered in log\n",
      "  plt.plot(time, np.log(var_vec[r, :]), label = str(RV))\n",
      "<ipython-input-73-45e25454b0a0>:20: RuntimeWarning: divide by zero encountered in log\n",
      "  plt.plot(time, np.log(var_vec[r, :]), label = str(RV))\n",
      "<ipython-input-73-45e25454b0a0>:20: RuntimeWarning: invalid value encountered in log\n",
      "  plt.plot(time, np.log(var_vec[r, :]), label = str(RV))\n",
      "<ipython-input-73-45e25454b0a0>:32: RuntimeWarning: invalid value encountered in true_divide\n",
      "  sig_over_mean = (sig_vec[r, :])/(mean[r, :])\n",
      "<ipython-input-73-45e25454b0a0>:34: RuntimeWarning: invalid value encountered in less_equal\n",
      "  Tstar_idx[r] = (np.min(np.where(np.abs(diff[1:])<=tol)[0]))\n"
     ]
    },
    {
     "ename": "ValueError",
     "evalue": "zero-size array to reduction operation minimum which has no identity",
     "output_type": "error",
     "traceback": [
      "\u001b[0;31m---------------------------------------------------------------------------\u001b[0m",
      "\u001b[0;31mValueError\u001b[0m                                Traceback (most recent call last)",
      "\u001b[0;32m<ipython-input-73-45e25454b0a0>\u001b[0m in \u001b[0;36m<module>\u001b[0;34m\u001b[0m\n\u001b[1;32m     32\u001b[0m     \u001b[0msig_over_mean\u001b[0m \u001b[0;34m=\u001b[0m \u001b[0;34m(\u001b[0m\u001b[0msig_vec\u001b[0m\u001b[0;34m[\u001b[0m\u001b[0mr\u001b[0m\u001b[0;34m,\u001b[0m \u001b[0;34m:\u001b[0m\u001b[0;34m]\u001b[0m\u001b[0;34m)\u001b[0m\u001b[0;34m/\u001b[0m\u001b[0;34m(\u001b[0m\u001b[0mmean\u001b[0m\u001b[0;34m[\u001b[0m\u001b[0mr\u001b[0m\u001b[0;34m,\u001b[0m \u001b[0;34m:\u001b[0m\u001b[0;34m]\u001b[0m\u001b[0;34m)\u001b[0m\u001b[0;34m\u001b[0m\u001b[0;34m\u001b[0m\u001b[0m\n\u001b[1;32m     33\u001b[0m     \u001b[0mdiff\u001b[0m \u001b[0;34m=\u001b[0m \u001b[0mnp\u001b[0m\u001b[0;34m.\u001b[0m\u001b[0mgradient\u001b[0m\u001b[0;34m(\u001b[0m\u001b[0msig_over_mean\u001b[0m\u001b[0;34m)\u001b[0m\u001b[0;34m\u001b[0m\u001b[0;34m\u001b[0m\u001b[0m\n\u001b[0;32m---> 34\u001b[0;31m     \u001b[0mTstar_idx\u001b[0m\u001b[0;34m[\u001b[0m\u001b[0mr\u001b[0m\u001b[0;34m]\u001b[0m \u001b[0;34m=\u001b[0m \u001b[0;34m(\u001b[0m\u001b[0mnp\u001b[0m\u001b[0;34m.\u001b[0m\u001b[0mmin\u001b[0m\u001b[0;34m(\u001b[0m\u001b[0mnp\u001b[0m\u001b[0;34m.\u001b[0m\u001b[0mwhere\u001b[0m\u001b[0;34m(\u001b[0m\u001b[0mnp\u001b[0m\u001b[0;34m.\u001b[0m\u001b[0mabs\u001b[0m\u001b[0;34m(\u001b[0m\u001b[0mdiff\u001b[0m\u001b[0;34m[\u001b[0m\u001b[0;36m1\u001b[0m\u001b[0;34m:\u001b[0m\u001b[0;34m]\u001b[0m\u001b[0;34m)\u001b[0m\u001b[0;34m<=\u001b[0m\u001b[0mtol\u001b[0m\u001b[0;34m)\u001b[0m\u001b[0;34m[\u001b[0m\u001b[0;36m0\u001b[0m\u001b[0;34m]\u001b[0m\u001b[0;34m)\u001b[0m\u001b[0;34m)\u001b[0m\u001b[0;34m\u001b[0m\u001b[0;34m\u001b[0m\u001b[0m\n\u001b[0m\u001b[1;32m     35\u001b[0m     \u001b[0mTstars\u001b[0m\u001b[0;34m[\u001b[0m\u001b[0mr\u001b[0m\u001b[0;34m]\u001b[0m \u001b[0;34m=\u001b[0m \u001b[0mtime\u001b[0m\u001b[0;34m[\u001b[0m\u001b[0mTstar_idx\u001b[0m\u001b[0;34m[\u001b[0m\u001b[0mr\u001b[0m\u001b[0;34m]\u001b[0m\u001b[0;34m]\u001b[0m\u001b[0;34m\u001b[0m\u001b[0;34m\u001b[0m\u001b[0m\n\u001b[1;32m     36\u001b[0m \u001b[0mplt\u001b[0m\u001b[0;34m.\u001b[0m\u001b[0mfigure\u001b[0m\u001b[0;34m(\u001b[0m\u001b[0;34m)\u001b[0m\u001b[0;34m\u001b[0m\u001b[0;34m\u001b[0m\u001b[0m\n",
      "\u001b[0;32m<__array_function__ internals>\u001b[0m in \u001b[0;36mamin\u001b[0;34m(*args, **kwargs)\u001b[0m\n",
      "\u001b[0;32m~/anaconda3/lib/python3.8/site-packages/numpy/core/fromnumeric.py\u001b[0m in \u001b[0;36mamin\u001b[0;34m(a, axis, out, keepdims, initial, where)\u001b[0m\n\u001b[1;32m   2790\u001b[0m     \u001b[0;36m6\u001b[0m\u001b[0;34m\u001b[0m\u001b[0;34m\u001b[0m\u001b[0m\n\u001b[1;32m   2791\u001b[0m     \"\"\"\n\u001b[0;32m-> 2792\u001b[0;31m     return _wrapreduction(a, np.minimum, 'min', axis, None, out,\n\u001b[0m\u001b[1;32m   2793\u001b[0m                           keepdims=keepdims, initial=initial, where=where)\n\u001b[1;32m   2794\u001b[0m \u001b[0;34m\u001b[0m\u001b[0m\n",
      "\u001b[0;32m~/anaconda3/lib/python3.8/site-packages/numpy/core/fromnumeric.py\u001b[0m in \u001b[0;36m_wrapreduction\u001b[0;34m(obj, ufunc, method, axis, dtype, out, **kwargs)\u001b[0m\n\u001b[1;32m     88\u001b[0m                 \u001b[0;32mreturn\u001b[0m \u001b[0mreduction\u001b[0m\u001b[0;34m(\u001b[0m\u001b[0maxis\u001b[0m\u001b[0;34m=\u001b[0m\u001b[0maxis\u001b[0m\u001b[0;34m,\u001b[0m \u001b[0mout\u001b[0m\u001b[0;34m=\u001b[0m\u001b[0mout\u001b[0m\u001b[0;34m,\u001b[0m \u001b[0;34m**\u001b[0m\u001b[0mpasskwargs\u001b[0m\u001b[0;34m)\u001b[0m\u001b[0;34m\u001b[0m\u001b[0;34m\u001b[0m\u001b[0m\n\u001b[1;32m     89\u001b[0m \u001b[0;34m\u001b[0m\u001b[0m\n\u001b[0;32m---> 90\u001b[0;31m     \u001b[0;32mreturn\u001b[0m \u001b[0mufunc\u001b[0m\u001b[0;34m.\u001b[0m\u001b[0mreduce\u001b[0m\u001b[0;34m(\u001b[0m\u001b[0mobj\u001b[0m\u001b[0;34m,\u001b[0m \u001b[0maxis\u001b[0m\u001b[0;34m,\u001b[0m \u001b[0mdtype\u001b[0m\u001b[0;34m,\u001b[0m \u001b[0mout\u001b[0m\u001b[0;34m,\u001b[0m \u001b[0;34m**\u001b[0m\u001b[0mpasskwargs\u001b[0m\u001b[0;34m)\u001b[0m\u001b[0;34m\u001b[0m\u001b[0;34m\u001b[0m\u001b[0m\n\u001b[0m\u001b[1;32m     91\u001b[0m \u001b[0;34m\u001b[0m\u001b[0m\n\u001b[1;32m     92\u001b[0m \u001b[0;34m\u001b[0m\u001b[0m\n",
      "\u001b[0;31mValueError\u001b[0m: zero-size array to reduction operation minimum which has no identity"
     ]
    },
    {
     "data": {
      "image/png": "[encoded data removed]",
      "text/plain": [
       "<Figure size 432x288 with 1 Axes>"
      ]
     },
     "metadata": {
      "needs_background": "light"
     },
     "output_type": "display_data"
    },
    {
     "data": {
      "image/png": "[encoded data removed]",
      "text/plain": [
       "<Figure size 432x288 with 1 Axes>"
      ]
     },
     "metadata": {
      "needs_background": "light"
     },
     "output_type": "display_data"
    }
   ],
   "source": [
    "# Plot sig over mean \n",
    "\n",
    "sig_vec= np.sqrt(var_vec)\n",
    "for r in range(0, len(Reff_vec)):\n",
    "    RV = np.round(Reff_vec[r]*rtrans_variant, 2)\n",
    "    sig_over_mean = (sig_vec[r, :]/(mean[r, :]))\n",
    "#     sig_over_mean = (sig_vec[r, :]/(mean_cond[r, :] ))\n",
    "    plt.plot(time ,sig_over_mean , label = str(RV))\n",
    "plt.title(\"Standard deviation/mean\")\n",
    "plt.ylabel(\"sd/mu\")\n",
    "plt.xlabel(\"Days\")\n",
    "plt.legend(loc=2, bbox_to_anchor=(1.05, 1), framealpha=1., edgecolor='black', fancybox=False, title = \"R0\")\n",
    "# plt.savefig(\"./sd_over_mean_plot.pdf\")\n",
    "\n",
    "# Plot variances\n",
    "\n",
    "plt.figure()\n",
    "for r in range(0, len(Reff_vec)):\n",
    "    RV = np.round(Reff_vec[r]*rtrans_variant, 2)\n",
    "    plt.plot(time, np.log(var_vec[r, :]), label = str(RV))\n",
    "plt.title(\"Variance over time\")\n",
    "plt.ylabel(\"Variance\")\n",
    "plt.xlabel(\"Days\")\n",
    "plt.legend(loc=2, bbox_to_anchor=(1.05, 1), framealpha=1., edgecolor='black', fancybox=False, title = \"R0\")\n",
    "\n",
    "# Plot T^star for each R0\n",
    "\n",
    "tol = 1e-4\n",
    "Tstars = np.zeros(len(Reff_vec))\n",
    "Tstar_idx = np.zeros(len(Reff_vec)).astype(int)\n",
    "for r in range(0, len(Reff_vec)):\n",
    "    sig_over_mean = (sig_vec[r, :])/(mean[r, :])\n",
    "    diff = np.gradient(sig_over_mean)\n",
    "    Tstar_idx[r] = (np.min(np.where(np.abs(diff[1:])<=tol)[0]))\n",
    "    Tstars[r] = time[Tstar_idx[r]]\n",
    "plt.figure()\n",
    "plt.plot(Reff_vec*rtrans_variant, Tstars)\n",
    "plt.title(\"Appropriate minimum choice for tstar\")\n",
    "plt.xlabel(\"R0\")\n",
    "plt.ylabel(\"Days\")\n",
    "# plt.savefig(\"./tstarchoice.pdf\")"
   ]
  },
  {
   "cell_type": "code",
   "execution_count": 213,
   "metadata": {},
   "outputs": [
    {
     "name": "stderr",
     "output_type": "stream",
     "text": [
      "<ipython-input-213-c4d7b1354e96>:1: RuntimeWarning: invalid value encountered in true_divide\n",
      "  var_vec[12, :]/mean[12, :]\n"
     ]
    },
    {
     "data": {
      "text/plain": [
       "array([            nan,  2.29270548e+00,  2.21919987e+00,  2.19556549e+00,\n",
       "        2.25009794e+00,  2.34487944e+00,  2.45217231e+00,  2.54841016e+00,\n",
       "        2.60991121e+00,  2.61199761e+00,  2.52883384e+00,  2.33285550e+00,\n",
       "        1.99358406e+00,  1.47589299e+00,  7.37795056e-01, -2.72247638e-01,\n",
       "       -1.61856178e+00, -3.38218554e+00, -5.66567187e+00, -8.59903003e+00,\n",
       "       -1.23471329e+01, -1.71190021e+01, -2.31794872e+01, -3.08639893e+01,\n",
       "       -4.05970449e+01, -5.29157986e+01, -6.84996639e+01, -8.82078077e+01,\n",
       "       -1.13126529e+02, -1.44629145e+02, -1.84451681e+02, -2.34788548e+02,\n",
       "       -2.98413465e+02, -3.78832307e+02, -4.80476284e+02, -6.08946115e+02,\n",
       "       -7.71320635e+02, -9.76546844e+02, -1.23593290e+03, -1.56377122e+03,\n",
       "       -1.97812598e+03, -2.50182849e+03, -3.16373521e+03, -4.00031777e+03,\n",
       "       -5.05767259e+03, -6.39406082e+03, -8.08311858e+03, -1.02179144e+04,\n",
       "       -1.29160774e+04, -1.63262786e+04, -2.06364229e+04, -2.60840031e+04,\n",
       "       -3.29691854e+04, -4.16713493e+04, -5.26699913e+04, -6.65711460e+04,\n",
       "       -8.41407788e+04, -1.06346991e+05, -1.34413365e+05, -1.69886381e+05,\n",
       "       -2.14720632e+05, -2.71386525e+05, -3.43006396e+05, -4.33526564e+05,\n",
       "       -5.47934765e+05, -6.92534989e+05, -8.75294832e+05, -1.10628452e+06,\n",
       "       -1.39823177e+06, -1.76722313e+06, -2.23359034e+06, -2.82303064e+06,\n",
       "       -3.56802267e+06, -4.50961614e+06, -5.69969364e+06, -7.20382946e+06,\n",
       "       -9.10490277e+06, -1.15076643e+07, -1.45445083e+07, -1.83827674e+07,\n",
       "       -2.32339330e+07, -2.93653084e+07, -3.71147376e+07, -4.69092208e+07,\n",
       "       -5.92884423e+07, -7.49345078e+07, -9.47095287e+07, -1.19703126e+08,\n",
       "       -1.51292467e+08, -1.91218152e+08, -2.41680120e+08, -3.05458869e+08,\n",
       "       -3.86068662e+08, -4.87951167e+08, -6.16720196e+08, -7.79471033e+08,\n",
       "       -9.85171387e+08, -1.24515552e+09, -1.57374879e+09, -1.98905695e+09])"
      ]
     },
     "execution_count": 213,
     "metadata": {},
     "output_type": "execute_result"
    }
   ],
   "source": []
  },
  {
   "cell_type": "code",
   "execution_count": 466,
   "metadata": {},
   "outputs": [
    {
     "name": "stderr",
     "output_type": "stream",
     "text": [
      "<ipython-input-466-18023d438d5d>:37: RuntimeWarning: invalid value encountered in true_divide\n",
      "  ax1.plot(time[:showplot], (sig_vec[r, :showplot])/(mean[r, :showplot] ), color = color, label = \"sd/mean\")\n",
      "<ipython-input-466-18023d438d5d>:41: RuntimeWarning: invalid value encountered in true_divide\n",
      "  ax1.plot(time[:showplot], (sig_vec[r, :showplot])/(mean[r, :showplot] ), color = color)\n",
      "<ipython-input-466-18023d438d5d>:41: RuntimeWarning: invalid value encountered in true_divide\n",
      "  ax1.plot(time[:showplot], (sig_vec[r, :showplot])/(mean[r, :showplot] ), color = color)\n",
      "<ipython-input-466-18023d438d5d>:41: RuntimeWarning: invalid value encountered in true_divide\n",
      "  ax1.plot(time[:showplot], (sig_vec[r, :showplot])/(mean[r, :showplot] ), color = color)\n",
      "<ipython-input-466-18023d438d5d>:41: RuntimeWarning: invalid value encountered in true_divide\n",
      "  ax1.plot(time[:showplot], (sig_vec[r, :showplot])/(mean[r, :showplot] ), color = color)\n"
     ]
    },
    {
     "data": {
      "image/png": "[encoded data removed]",
      "text/plain": [
       "<Figure size 432x288 with 11 Axes>"
      ]
     },
     "metadata": {},
     "output_type": "display_data"
    }
   ],
   "source": [
    "np.hstack((Tstars, tstars))\n",
    "Tstar_idx\n",
    "time[Tstar_idx]\n",
    "threshold = 100\n",
    "Istars_min = np.zeros_like(Tstar_idx)\n",
    "tst_idx = np.zeros_like(Tstar_idx)\n",
    "for r in range(0, len(Reff_vec)):\n",
    "    Istars_min[r] = mean[r, Tstar_idx[r]]\n",
    "    tst_idx[r] = np.min(np.where(mean[r, :]>=threshold))\n",
    "\n",
    "showplot = int(len(time))\n",
    "\n",
    "fig, axs = plt.subplots(2, 3)\n",
    "for r in range(0, len(Reff_vec)):\n",
    "    RV = np.round(Reff_vec[r]*rtrans_variant, 2)\n",
    "    if r<=2:\n",
    "        b = 0\n",
    "    else:\n",
    "        b=1    \n",
    "    color = 'tab:blue'\n",
    "    if r ==0:\n",
    "        \n",
    "        axs[b, r%3].plot(time[:showplot], np.log(mean[r, :showplot] + np.finfo(float).eps) , color = color, label = \"log mean cases\")\n",
    "    else:\n",
    "        axs[b, r%3].plot(time[:showplot], np.log(mean[r, :showplot] + np.finfo(float).eps) , color = color)\n",
    "        axs[b, r%3].axvline(time[tst_idx[r]], color = 'r', linestyle = '--')\n",
    "    axs[b, r%3].tick_params(axis='y', labelcolor=color)\n",
    "    \n",
    "    axs[b, r%3].set_ylabel(\"log Cases\", color = color)\n",
    "    axs[b, r%3].set_ylabel(\"log Cases\", color = color)\n",
    "    axs[b, r%3].set_xlabel(\"Days\")\n",
    "    axs[b, r%3].set_title(\"R = \" + str(RV))\n",
    "    axs[-1, -1].set_visible(False)\n",
    "    color= 'tab:orange'\n",
    "    ax1 = axs[b, r%3].twinx()\n",
    "    if r ==0:\n",
    "        ax1.plot(time[:showplot], (sig_vec[r, :showplot])/(mean[r, :showplot] ), color = color, label = \"sd/mean\")\n",
    "        axs[b, r%3].axvline(time[tst_idx[r]], color = 'r', linestyle = '--', label = str(threshold) + \" Cases\")\n",
    "\n",
    "    else:\n",
    "        ax1.plot(time[:showplot], (sig_vec[r, :showplot])/(mean[r, :showplot] ), color = color)\n",
    "    ax1.tick_params(axis='y', labelcolor=color)\n",
    "    ax1.set_ylabel(\"sd/mean\", color = color)\n",
    "    \n",
    "    \n",
    "    \n",
    "bottom_right_ax = axs[-1][-1] \n",
    "bottom_right_ax.clear()  \n",
    "bottom_right_ax.set_axis_off()\n",
    "fig.legend(loc='lower right', bbox_to_anchor=(0.95, 0.2),framealpha=1., edgecolor='black', fancybox=False)\n",
    "\n",
    "fig.tight_layout()"
   ]
  },
  {
   "cell_type": "code",
   "execution_count": 482,
   "metadata": {},
   "outputs": [
    {
     "name": "stderr",
     "output_type": "stream",
     "text": [
      "/opt/anaconda3/lib/python3.8/site-packages/seaborn/distributions.py:2557: FutureWarning: `distplot` is a deprecated function and will be removed in a future version. Please adapt your code to use either `displot` (a figure-level function with similar flexibility) or `histplot` (an axes-level function for histograms).\n",
      "  warnings.warn(msg, FutureWarning)\n"
     ]
    },
    {
     "data": {
      "text/plain": [
       "DescribeResult(nobs=10000, minmax=(3.0229077572355436, 725.1130729134887), mean=56.978994282034456, variance=3672.271038646798, skewness=3.1562048858089766, kurtosis=15.861440066185025)"
      ]
     },
     "execution_count": 482,
     "metadata": {},
     "output_type": "execute_result"
    },
    {
     "data": {
      "image/png": "[encoded data removed]",
      "text/plain": [
       "<Figure size 432x288 with 1 Axes>"
      ]
     },
     "metadata": {
      "needs_background": "light"
     },
     "output_type": "display_data"
    }
   ],
   "source": [
    "idx = 0\n",
    "t_idx = Tstar_idx[idx]\n",
    "tval = Tstar_idx[idx]\n",
    "varnew = var_vec[idx, tval]\n",
    "Istar = Istars_min[idx]\n",
    "sd = np.sqrt(varnew)\n",
    "nu = np.log(Istar)\n",
    "wald = np.random.wald(time[tval], (nu**2/((sd/(Istar))**2)), size=10000)\n",
    "df = pd.Series(wald, name = \"Days\")\n",
    "sns.distplot(wald, kde_kws={\"color\": \"g\"})\n",
    "plt.xlim(0, np.quantile(wald, 1-0.025)+20)\n",
    "sp.stats.describe(wald)\n"
   ]
  },
  {
   "cell_type": "code",
   "execution_count": 425,
   "metadata": {},
   "outputs": [
    {
     "data": {
      "text/plain": [
       "1.5814103938835722"
      ]
     },
     "execution_count": 425,
     "metadata": {},
     "output_type": "execute_result"
    }
   ],
   "source": [
    "\n",
    "# sns.distplot(df, stat = \"density\")\n",
    "# sns.kdeplot(df, color = \"orange\") \n",
    "# normal = np.random.normal(nu, nu**2/((sd/(Istar))**2), size=10000)\n",
    "# dfnu = pd.Series(normal, name = \"Days\")\n",
    "# sns.distplot(dfnu, kde_kws={\"color\": \"g\"})\n",
    "\n",
    "\n",
    "# plt.savefig(\"./time_distplot_R0=\" + str(RV) + \".pdf\")\n",
    "# plt.savefig(\"./time_distplot_alternative_R0=\" + str(RV) + \".pdf\")"
   ]
  },
  {
   "cell_type": "code",
   "execution_count": 282,
   "metadata": {},
   "outputs": [
    {
     "name": "stderr",
     "output_type": "stream",
     "text": [
      "\r",
      "  0%|          | 0/100 [00:00<?, ?it/s]"
     ]
    },
    {
     "name": "stdout",
     "output_type": "stream",
     "text": [
      "All eigenvalues of orth are real: True\n"
     ]
    },
    {
     "name": "stderr",
     "output_type": "stream",
     "text": [
      "\r",
      "  1%|          | 1/100 [00:00<00:34,  2.86it/s]"
     ]
    },
    {
     "name": "stdout",
     "output_type": "stream",
     "text": [
      "0.0\n"
     ]
    },
    {
     "name": "stderr",
     "output_type": "stream",
     "text": [
      "\r",
      "  2%|▏         | 2/100 [00:00<00:32,  2.99it/s]"
     ]
    },
    {
     "name": "stdout",
     "output_type": "stream",
     "text": [
      "-0.41459941330254957\n"
     ]
    },
    {
     "name": "stderr",
     "output_type": "stream",
     "text": [
      "\r",
      "  3%|▎         | 3/100 [00:00<00:31,  3.04it/s]"
     ]
    },
    {
     "name": "stdout",
     "output_type": "stream",
     "text": [
      "-0.9799046740664673\n"
     ]
    },
    {
     "name": "stderr",
     "output_type": "stream",
     "text": [
      "\r",
      "  4%|▍         | 4/100 [00:01<00:30,  3.19it/s]"
     ]
    },
    {
     "name": "stdout",
     "output_type": "stream",
     "text": [
      "-1.4482525909558501\n"
     ]
    },
    {
     "name": "stderr",
     "output_type": "stream",
     "text": [
      "\r",
      "  5%|▌         | 5/100 [00:01<00:30,  3.13it/s]"
     ]
    },
    {
     "name": "stdout",
     "output_type": "stream",
     "text": [
      "-1.8113114566249569\n"
     ]
    },
    {
     "name": "stderr",
     "output_type": "stream",
     "text": [
      "\r",
      "  6%|▌         | 6/100 [00:02<00:32,  2.89it/s]"
     ]
    },
    {
     "name": "stdout",
     "output_type": "stream",
     "text": [
      "-2.6948045322628906\n"
     ]
    },
    {
     "name": "stderr",
     "output_type": "stream",
     "text": [
      "\r",
      "  7%|▋         | 7/100 [00:02<00:29,  3.12it/s]"
     ]
    },
    {
     "name": "stdout",
     "output_type": "stream",
     "text": [
      "-4.266499112012518\n"
     ]
    },
    {
     "name": "stderr",
     "output_type": "stream",
     "text": [
      "\r",
      "  8%|▊         | 8/100 [00:02<00:27,  3.31it/s]"
     ]
    },
    {
     "name": "stdout",
     "output_type": "stream",
     "text": [
      "-6.292162180421178\n"
     ]
    },
    {
     "name": "stderr",
     "output_type": "stream",
     "text": [
      "\r",
      "  9%|▉         | 9/100 [00:02<00:26,  3.46it/s]"
     ]
    },
    {
     "name": "stdout",
     "output_type": "stream",
     "text": [
      "-8.833047456345625\n"
     ]
    },
    {
     "name": "stderr",
     "output_type": "stream",
     "text": [
      "\r",
      " 10%|█         | 10/100 [00:03<00:25,  3.53it/s]"
     ]
    },
    {
     "name": "stdout",
     "output_type": "stream",
     "text": [
      "-11.969804129915381\n"
     ]
    },
    {
     "name": "stderr",
     "output_type": "stream",
     "text": [
      "\r",
      " 11%|█         | 11/100 [00:03<00:26,  3.40it/s]"
     ]
    },
    {
     "name": "stdout",
     "output_type": "stream",
     "text": [
      "-15.85786279279793\n"
     ]
    },
    {
     "name": "stderr",
     "output_type": "stream",
     "text": [
      "\r",
      " 12%|█▏        | 12/100 [00:03<00:25,  3.44it/s]"
     ]
    },
    {
     "name": "stdout",
     "output_type": "stream",
     "text": [
      "-20.56705181405603\n"
     ]
    },
    {
     "name": "stderr",
     "output_type": "stream",
     "text": [
      "\r",
      " 13%|█▎        | 13/100 [00:03<00:24,  3.58it/s]"
     ]
    },
    {
     "name": "stdout",
     "output_type": "stream",
     "text": [
      "-26.232956268285037\n"
     ]
    },
    {
     "name": "stderr",
     "output_type": "stream",
     "text": [
      "\r",
      " 14%|█▍        | 14/100 [00:04<00:24,  3.47it/s]"
     ]
    },
    {
     "name": "stdout",
     "output_type": "stream",
     "text": [
      "-33.01588083584912\n"
     ]
    },
    {
     "name": "stderr",
     "output_type": "stream",
     "text": [
      "\r",
      " 15%|█▌        | 15/100 [00:04<00:24,  3.51it/s]"
     ]
    },
    {
     "name": "stdout",
     "output_type": "stream",
     "text": [
      "-41.104577982559306\n"
     ]
    },
    {
     "name": "stderr",
     "output_type": "stream",
     "text": [
      "\r",
      " 16%|█▌        | 16/100 [00:04<00:24,  3.44it/s]"
     ]
    },
    {
     "name": "stdout",
     "output_type": "stream",
     "text": [
      "-50.72065510819553\n"
     ]
    },
    {
     "name": "stderr",
     "output_type": "stream",
     "text": [
      "\r",
      " 17%|█▋        | 17/100 [00:05<00:23,  3.54it/s]"
     ]
    },
    {
     "name": "stdout",
     "output_type": "stream",
     "text": [
      "-62.12376357807979\n"
     ]
    },
    {
     "name": "stderr",
     "output_type": "stream",
     "text": [
      "\r",
      " 18%|█▊        | 18/100 [00:05<00:22,  3.62it/s]"
     ]
    },
    {
     "name": "stdout",
     "output_type": "stream",
     "text": [
      "-75.61768646497806\n"
     ]
    },
    {
     "name": "stderr",
     "output_type": "stream",
     "text": [
      "\r",
      " 19%|█▉        | 19/100 [00:05<00:21,  3.70it/s]"
     ]
    },
    {
     "name": "stdout",
     "output_type": "stream",
     "text": [
      "-91.5574614842777\n"
     ]
    },
    {
     "name": "stderr",
     "output_type": "stream",
     "text": [
      "\r",
      " 20%|██        | 20/100 [00:05<00:21,  3.73it/s]"
     ]
    },
    {
     "name": "stdout",
     "output_type": "stream",
     "text": [
      "-110.35769952794656\n"
     ]
    },
    {
     "name": "stderr",
     "output_type": "stream",
     "text": [
      "\r",
      " 21%|██        | 21/100 [00:06<00:21,  3.73it/s]"
     ]
    },
    {
     "name": "stdout",
     "output_type": "stream",
     "text": [
      "-132.502287104989\n"
     ]
    },
    {
     "name": "stderr",
     "output_type": "stream",
     "text": [
      "\r",
      " 22%|██▏       | 22/100 [00:06<00:20,  3.75it/s]"
     ]
    },
    {
     "name": "stdout",
     "output_type": "stream",
     "text": [
      "-158.55569318734416\n"
     ]
    },
    {
     "name": "stderr",
     "output_type": "stream",
     "text": [
      "\r",
      " 23%|██▎       | 23/100 [00:06<00:21,  3.61it/s]"
     ]
    },
    {
     "name": "stdout",
     "output_type": "stream",
     "text": [
      "-189.1761380696889\n"
     ]
    },
    {
     "name": "stderr",
     "output_type": "stream",
     "text": [
      "\r",
      " 24%|██▍       | 24/100 [00:07<00:21,  3.50it/s]"
     ]
    },
    {
     "name": "stdout",
     "output_type": "stream",
     "text": [
      "-225.13092471063632\n"
     ]
    },
    {
     "name": "stderr",
     "output_type": "stream",
     "text": [
      "\r",
      " 25%|██▌       | 25/100 [00:07<00:21,  3.43it/s]"
     ]
    },
    {
     "name": "stdout",
     "output_type": "stream",
     "text": [
      "-267.3142826244276\n"
     ]
    },
    {
     "name": "stderr",
     "output_type": "stream",
     "text": [
      "\r",
      " 26%|██▌       | 26/100 [00:07<00:21,  3.52it/s]"
     ]
    },
    {
     "name": "stdout",
     "output_type": "stream",
     "text": [
      "-316.76813188943834\n"
     ]
    },
    {
     "name": "stderr",
     "output_type": "stream",
     "text": [
      "\r",
      " 27%|██▋       | 27/100 [00:07<00:21,  3.42it/s]"
     ]
    },
    {
     "name": "stdout",
     "output_type": "stream",
     "text": [
      "-374.7062415629139\n"
     ]
    },
    {
     "name": "stderr",
     "output_type": "stream",
     "text": [
      "\r",
      " 28%|██▊       | 28/100 [00:08<00:20,  3.54it/s]"
     ]
    },
    {
     "name": "stdout",
     "output_type": "stream",
     "text": [
      "-442.54233427565305\n"
     ]
    },
    {
     "name": "stderr",
     "output_type": "stream",
     "text": [
      "\r",
      " 29%|██▉       | 29/100 [00:08<00:20,  3.51it/s]"
     ]
    },
    {
     "name": "stdout",
     "output_type": "stream",
     "text": [
      "-521.9227788013276\n"
     ]
    },
    {
     "name": "stderr",
     "output_type": "stream",
     "text": [
      "\r",
      " 30%|███       | 30/100 [00:08<00:19,  3.51it/s]"
     ]
    },
    {
     "name": "stdout",
     "output_type": "stream",
     "text": [
      "-614.7646170097312\n"
     ]
    },
    {
     "name": "stderr",
     "output_type": "stream",
     "text": [
      "\r",
      " 31%|███       | 31/100 [00:08<00:19,  3.57it/s]"
     ]
    },
    {
     "name": "stdout",
     "output_type": "stream",
     "text": [
      "-723.2997932076627\n"
     ]
    },
    {
     "name": "stderr",
     "output_type": "stream",
     "text": [
      "\r",
      " 32%|███▏      | 32/100 [00:09<00:19,  3.46it/s]"
     ]
    },
    {
     "name": "stdout",
     "output_type": "stream",
     "text": [
      "-850.126595215849\n"
     ]
    },
    {
     "name": "stderr",
     "output_type": "stream",
     "text": [
      "\r",
      " 33%|███▎      | 33/100 [00:09<00:18,  3.54it/s]"
     ]
    },
    {
     "name": "stdout",
     "output_type": "stream",
     "text": [
      "-998.2694808438762\n"
     ]
    },
    {
     "name": "stderr",
     "output_type": "stream",
     "text": [
      "\r",
      " 34%|███▍      | 34/100 [00:09<00:18,  3.48it/s]"
     ]
    },
    {
     "name": "stdout",
     "output_type": "stream",
     "text": [
      "-1171.2486544475482\n"
     ]
    },
    {
     "name": "stderr",
     "output_type": "stream",
     "text": [
      "\r",
      " 35%|███▌      | 35/100 [00:10<00:17,  3.62it/s]"
     ]
    },
    {
     "name": "stdout",
     "output_type": "stream",
     "text": [
      "-1373.1609803316233\n"
     ]
    },
    {
     "name": "stderr",
     "output_type": "stream",
     "text": [
      "\r",
      " 36%|███▌      | 36/100 [00:10<00:18,  3.41it/s]"
     ]
    },
    {
     "name": "stdout",
     "output_type": "stream",
     "text": [
      "-1608.774077948552\n"
     ]
    },
    {
     "name": "stderr",
     "output_type": "stream",
     "text": [
      "\r",
      " 37%|███▋      | 37/100 [00:10<00:18,  3.39it/s]"
     ]
    },
    {
     "name": "stdout",
     "output_type": "stream",
     "text": [
      "-1883.6357440150775\n"
     ]
    },
    {
     "name": "stderr",
     "output_type": "stream",
     "text": [
      "\r",
      " 38%|███▊      | 38/100 [00:11<00:19,  3.25it/s]"
     ]
    },
    {
     "name": "stdout",
     "output_type": "stream",
     "text": [
      "-2204.2011956521233\n"
     ]
    },
    {
     "name": "stderr",
     "output_type": "stream",
     "text": [
      "\r",
      " 39%|███▉      | 39/100 [00:11<00:19,  3.21it/s]"
     ]
    },
    {
     "name": "stdout",
     "output_type": "stream",
     "text": [
      "-2577.9810343889703\n"
     ]
    },
    {
     "name": "stderr",
     "output_type": "stream",
     "text": [
      "\r",
      " 40%|████      | 40/100 [00:11<00:17,  3.38it/s]"
     ]
    },
    {
     "name": "stdout",
     "output_type": "stream",
     "text": [
      "-3013.7133025898065\n"
     ]
    },
    {
     "name": "stderr",
     "output_type": "stream",
     "text": [
      "\r",
      " 41%|████      | 41/100 [00:11<00:17,  3.47it/s]"
     ]
    },
    {
     "name": "stdout",
     "output_type": "stream",
     "text": [
      "-3521.5635522903012\n"
     ]
    },
    {
     "name": "stderr",
     "output_type": "stream",
     "text": [
      "\r",
      " 42%|████▏     | 42/100 [00:12<00:17,  3.27it/s]"
     ]
    },
    {
     "name": "stdout",
     "output_type": "stream",
     "text": [
      "-4113.357484049485\n"
     ]
    },
    {
     "name": "stderr",
     "output_type": "stream",
     "text": [
      "\r",
      " 43%|████▎     | 43/100 [00:12<00:17,  3.22it/s]"
     ]
    },
    {
     "name": "stdout",
     "output_type": "stream",
     "text": [
      "-4802.851454731334\n"
     ]
    },
    {
     "name": "stderr",
     "output_type": "stream",
     "text": [
      "\r",
      " 44%|████▍     | 44/100 [00:12<00:16,  3.31it/s]"
     ]
    },
    {
     "name": "stdout",
     "output_type": "stream",
     "text": [
      "-5606.047014994354\n"
     ]
    },
    {
     "name": "stderr",
     "output_type": "stream",
     "text": [
      "\r",
      " 45%|████▌     | 45/100 [00:13<00:16,  3.38it/s]"
     ]
    },
    {
     "name": "stdout",
     "output_type": "stream",
     "text": [
      "-6541.556639289254\n"
     ]
    },
    {
     "name": "stderr",
     "output_type": "stream",
     "text": [
      "\r",
      " 46%|████▌     | 46/100 [00:13<00:15,  3.45it/s]"
     ]
    },
    {
     "name": "stdout",
     "output_type": "stream",
     "text": [
      "-7631.028976137596\n"
     ]
    },
    {
     "name": "stderr",
     "output_type": "stream",
     "text": [
      "\r",
      " 47%|████▋     | 47/100 [00:13<00:15,  3.47it/s]"
     ]
    },
    {
     "name": "stdout",
     "output_type": "stream",
     "text": [
      "-8899.643300885376\n"
     ]
    },
    {
     "name": "stderr",
     "output_type": "stream",
     "text": [
      "\r",
      " 48%|████▊     | 48/100 [00:14<00:14,  3.49it/s]"
     ]
    },
    {
     "name": "stdout",
     "output_type": "stream",
     "text": [
      "-10376.684427802404\n"
     ]
    },
    {
     "name": "stderr",
     "output_type": "stream",
     "text": [
      "\r",
      " 49%|████▉     | 49/100 [00:14<00:14,  3.51it/s]"
     ]
    },
    {
     "name": "stdout",
     "output_type": "stream",
     "text": [
      "-12096.211169146787\n"
     ]
    },
    {
     "name": "stderr",
     "output_type": "stream",
     "text": [
      "\r",
      " 50%|█████     | 50/100 [00:14<00:14,  3.53it/s]"
     ]
    },
    {
     "name": "stdout",
     "output_type": "stream",
     "text": [
      "-14097.83355727464\n"
     ]
    },
    {
     "name": "stderr",
     "output_type": "stream",
     "text": [
      "\r",
      " 51%|█████     | 51/100 [00:14<00:13,  3.65it/s]"
     ]
    },
    {
     "name": "stdout",
     "output_type": "stream",
     "text": [
      "-16427.61652045895\n"
     ]
    },
    {
     "name": "stderr",
     "output_type": "stream",
     "text": [
      "\r",
      " 52%|█████▏    | 52/100 [00:15<00:12,  3.73it/s]"
     ]
    },
    {
     "name": "stdout",
     "output_type": "stream",
     "text": [
      "-19139.13058007227\n"
     ]
    },
    {
     "name": "stderr",
     "output_type": "stream",
     "text": [
      "\r",
      " 53%|█████▎    | 53/100 [00:15<00:12,  3.78it/s]"
     ]
    },
    {
     "name": "stdout",
     "output_type": "stream",
     "text": [
      "-22294.673481620222\n"
     ]
    },
    {
     "name": "stderr",
     "output_type": "stream",
     "text": [
      "\r",
      " 54%|█████▍    | 54/100 [00:15<00:12,  3.73it/s]"
     ]
    },
    {
     "name": "stdout",
     "output_type": "stream",
     "text": [
      "-25966.690560862342\n"
     ]
    },
    {
     "name": "stderr",
     "output_type": "stream",
     "text": [
      "\r",
      " 55%|█████▌    | 55/100 [00:15<00:12,  3.71it/s]"
     ]
    },
    {
     "name": "stdout",
     "output_type": "stream",
     "text": [
      "-30239.42616736878\n"
     ]
    },
    {
     "name": "stderr",
     "output_type": "stream",
     "text": [
      " 55%|█████▌    | 55/100 [00:16<00:13,  3.41it/s]\n"
     ]
    },
    {
     "ename": "KeyboardInterrupt",
     "evalue": "",
     "output_type": "error",
     "traceback": [
      "\u001b[0;31m---------------------------------------------------------------------------\u001b[0m",
      "\u001b[0;31mKeyboardInterrupt\u001b[0m                         Traceback (most recent call last)",
      "\u001b[0;32m<ipython-input-282-459a41d5b736>\u001b[0m in \u001b[0;36m<module>\u001b[0;34m\u001b[0m\n\u001b[1;32m    183\u001b[0m         \u001b[0;32mif\u001b[0m \u001b[0mcluster_im\u001b[0m\u001b[0;34m:\u001b[0m\u001b[0;34m\u001b[0m\u001b[0;34m\u001b[0m\u001b[0m\n\u001b[1;32m    184\u001b[0m             \u001b[0;32mif\u001b[0m \u001b[0mdiscount_imports\u001b[0m\u001b[0;34m:\u001b[0m\u001b[0;34m\u001b[0m\u001b[0;34m\u001b[0m\u001b[0m\n\u001b[0;32m--> 185\u001b[0;31m                 \u001b[0mvar_vec_test\u001b[0m\u001b[0;34m[\u001b[0m\u001b[0mT\u001b[0m\u001b[0;34m]\u001b[0m \u001b[0;34m=\u001b[0m \u001b[0mnp\u001b[0m\u001b[0;34m.\u001b[0m\u001b[0msum\u001b[0m\u001b[0;34m(\u001b[0m\u001b[0mvar\u001b[0m\u001b[0;34m(\u001b[0m\u001b[0mTime\u001b[0m\u001b[0;34m)\u001b[0m\u001b[0;34m[\u001b[0m\u001b[0;34m:\u001b[0m\u001b[0;34m,\u001b[0m \u001b[0;36m1\u001b[0m\u001b[0;34m:\u001b[0m\u001b[0;34m,\u001b[0m \u001b[0;36m1\u001b[0m\u001b[0;34m:\u001b[0m\u001b[0;34m]\u001b[0m\u001b[0;34m)\u001b[0m\u001b[0;34m\u001b[0m\u001b[0;34m\u001b[0m\u001b[0m\n\u001b[0m\u001b[1;32m    186\u001b[0m             \u001b[0;32melse\u001b[0m\u001b[0;34m:\u001b[0m\u001b[0;34m\u001b[0m\u001b[0;34m\u001b[0m\u001b[0m\n\u001b[1;32m    187\u001b[0m                 \u001b[0mvar_vec_test\u001b[0m\u001b[0;34m[\u001b[0m\u001b[0mT\u001b[0m\u001b[0;34m]\u001b[0m \u001b[0;34m=\u001b[0m \u001b[0mnp\u001b[0m\u001b[0;34m.\u001b[0m\u001b[0msum\u001b[0m\u001b[0;34m(\u001b[0m\u001b[0mvar\u001b[0m\u001b[0;34m(\u001b[0m\u001b[0mTime\u001b[0m\u001b[0;34m)\u001b[0m\u001b[0;34m)\u001b[0m\u001b[0;34m\u001b[0m\u001b[0;34m\u001b[0m\u001b[0m\n",
      "\u001b[0;32m<ipython-input-282-459a41d5b736>\u001b[0m in \u001b[0;36mvar\u001b[0;34m(t)\u001b[0m\n\u001b[1;32m    158\u001b[0m     \u001b[0mvec_w\u001b[0m \u001b[0;34m=\u001b[0m \u001b[0mnp\u001b[0m\u001b[0;34m.\u001b[0m\u001b[0mzeros\u001b[0m\u001b[0;34m(\u001b[0m\u001b[0mntypes\u001b[0m\u001b[0;34m**\u001b[0m\u001b[0;36m3\u001b[0m\u001b[0;34m)\u001b[0m\u001b[0;34m\u001b[0m\u001b[0;34m\u001b[0m\u001b[0m\n\u001b[1;32m    159\u001b[0m \u001b[0;31m#         Amat_inv = nla.inv(Amat.copy())\u001b[0m\u001b[0;34m\u001b[0m\u001b[0;34m\u001b[0m\u001b[0;34m\u001b[0m\u001b[0m\n\u001b[0;32m--> 160\u001b[0;31m     \u001b[0mvecvar\u001b[0m \u001b[0;34m=\u001b[0m  \u001b[0mH\u001b[0m \u001b[0;34m@\u001b[0m \u001b[0mDeltamat_im\u001b[0m\u001b[0;34m(\u001b[0m\u001b[0mt\u001b[0m\u001b[0;34m,\u001b[0m \u001b[0mim_vec\u001b[0m\u001b[0;34m,\u001b[0m \u001b[0meigvls\u001b[0m\u001b[0;34m)\u001b[0m \u001b[0;34m@\u001b[0m \u001b[0mHinvC\u001b[0m\u001b[0;34m\u001b[0m\u001b[0;34m\u001b[0m\u001b[0m\n\u001b[0m\u001b[1;32m    161\u001b[0m     \u001b[0mprint\u001b[0m\u001b[0;34m(\u001b[0m\u001b[0mnp\u001b[0m\u001b[0;34m.\u001b[0m\u001b[0mmin\u001b[0m\u001b[0;34m(\u001b[0m\u001b[0mvecvar\u001b[0m\u001b[0;34m)\u001b[0m\u001b[0;34m)\u001b[0m\u001b[0;34m\u001b[0m\u001b[0;34m\u001b[0m\u001b[0m\n\u001b[1;32m    162\u001b[0m     \u001b[0;32mfor\u001b[0m \u001b[0mi\u001b[0m \u001b[0;32min\u001b[0m \u001b[0mrange\u001b[0m\u001b[0;34m(\u001b[0m\u001b[0;36m0\u001b[0m\u001b[0;34m,\u001b[0m \u001b[0mntypes\u001b[0m\u001b[0;34m)\u001b[0m\u001b[0;34m:\u001b[0m\u001b[0;34m\u001b[0m\u001b[0;34m\u001b[0m\u001b[0m\n",
      "\u001b[0;31mKeyboardInterrupt\u001b[0m: "
     ]
    }
   ],
   "source": [
    "# Diagnose issues for specific R0\n",
    "r = 0\n",
    "Reff = Reff_vec[r]\n",
    "beta_SA = Reff*gamma*rtrans_variant\n",
    "RV = Reff*rtrans_variant\n",
    "tol = 14\n",
    "def Omega(t): # Matrix of first partial derivatives of offspring distribution minus lifetimes*identity\n",
    "        Omat = np.zeros((ntypes, ntypes))\n",
    "        omega_vec = sigma * np.ones(ntypes)       \n",
    "        if cluster_im:\n",
    "            omega_vec[0] = np.sum(const_vec*prop_vec*cluster_size)\n",
    "            for nex in range(0, nexposed):\n",
    "                Omat[0, nex+1] = const_vec[nex]*prop_vec[nex]*cluster_size\n",
    "                omega_vec[nex + nexposed+1] = np.sum(const_vec*prop_vec*beta_SA) + gamma\n",
    "                Omat[nex+1, nex+nexposed+1] = omega_vec[nex+1]\n",
    "                Omat[nex+nexposed+1, 1:(nexposed+1)] = const_vec*prop_vec*beta_SA \n",
    "                Omat[nex+nexposed+1, nex+nexposed+1] = np.sum(const_vec * beta_SA * prop_vec)\n",
    "\n",
    "            Omat -= np.diag(omega_vec)\n",
    "        else:\n",
    "            for nex in range(0, nexposed):\n",
    "                omega_vec[nex + nexposed] = np.sum(const_vec*prop_vec*beta_SA) + gamma\n",
    "                Omat[nex, nex+nexposed] = omega_vec[nex]\n",
    "                Omat[nex+nexposed, :nexposed] = const_vec*prop_vec*beta_SA \n",
    "                Omat[nex+nexposed, nex+nexposed] = np.sum(const_vec * beta_SA * prop_vec)\n",
    "\n",
    "            Omat -= np.diag(omega_vec)\n",
    "        return Omat\n",
    "\n",
    "# Diagonalise Omega and find H as in Garden of BPs paper\n",
    "\n",
    "eigvls, orth = nla.eig(Omega(0))\n",
    "eigvls = np.real_if_close(eigvls)\n",
    "orth = orth\n",
    "lamb = np.max(eigvls)\n",
    "diagmat = np.real_if_close(np.diag(eigvls))\n",
    "if np.isreal(eigvls).all():\n",
    "    for ev in range(0, len(orth)):\n",
    "        orth[:, ev] = np.real_if_close(orth[:, ev])\n",
    "        if not np.isreal(orth[:, ev]).all():\n",
    "            orth[:, ev+1] = np.imag(orth[:, ev])\n",
    "            orth[:, ev] = np.real(orth[:, ev])\n",
    "\n",
    "print(\"All eigenvalues of orth are real: \" + str(np.isreal(orth.all())))\n",
    "\n",
    "orth = np.real_if_close(orth)\n",
    "orth_inv = nla.inv(orth)\n",
    "orth_c = orth.copy().conjugate()\n",
    "orthc_inv = nla.inv(orth_c)\n",
    "H = np.kron(orth, np.kron((orthc_inv), orthc_inv))\n",
    "# H[6*ntypes*ntypes:(8)*ntypes*ntypes, 6*ntypes*ntypes:(8)*ntypes*ntypes] = 0\n",
    "Hinv = np.kron(orth_inv, np.kron(orth_c, orth_c))\n",
    "\n",
    "\n",
    "\n",
    "# Hinv = nla.inv(H)\n",
    "\n",
    "def H_mat(t, beta): # Hessian of the Offspring Distribution \n",
    "\n",
    "    Hmat = np.zeros((ntypes, ntypes, ntypes))\n",
    "    omega_vec = sigma * np.ones(ntypes)\n",
    "\n",
    "\n",
    "    if cluster_im:\n",
    "        for i in range(1, nexposed+1):\n",
    "            Hmat[0, i, i] = const_vec[i-1]*prop_vec[i-1] * (cluster_size**2) * (alpha+1)/alpha\n",
    "\n",
    "        for level in range(1, nexposed+1):\n",
    "            omega_vec[level + nexposed] = np.sum(const_vec*prop_vec*beta) + gamma\n",
    "            for i in range(1, nexposed+1):\n",
    "\n",
    "    #             Hmat[level + nexposed, i, i] =  (const_vec[i]*beta_SA*prop_vec[i])/(omega_vec[level+nexposed])\n",
    "                Hmat[level + nexposed, level+nexposed, i] = (beta * const_vec[i-1]*prop_vec[i-1])/(omega_vec[level+nexposed-1])\n",
    "                Hmat[level + nexposed, i, level+nexposed] = (beta * const_vec[i-1]*prop_vec[i-1])/(omega_vec[level+nexposed-1])\n",
    "\n",
    "    else:\n",
    "        for level in range(0, nexposed):\n",
    "            omega_vec[level + nexposed] = np.sum(const_vec*prop_vec*beta) + gamma\n",
    "            for i in range(0, nexposed):\n",
    "\n",
    "    #             Hmat[level + nexposed, i, i] =  (const_vec[i]*beta_SA*prop_vec[i])/(omega_vec[level+nexposed])\n",
    "                Hmat[level + nexposed, level+nexposed, i] = (beta * const_vec[i]*prop_vec[i])/(omega_vec[level+nexposed])\n",
    "                Hmat[level + nexposed, i, level+nexposed] = (beta * const_vec[i]*prop_vec[i])/(omega_vec[level+nexposed])\n",
    "\n",
    "    return Hmat\n",
    "\n",
    "def P_vecs(t, beta): # Essentially the same as Omega matrix - matrix of partial derivatives - columns should be partial derivatives of each P_i(s)\n",
    "\n",
    "    Omat = np.zeros((ntypes, ntypes))\n",
    "    omega_vec = sigma * np.ones(ntypes)\n",
    "    if cluster_im:\n",
    "        omega_vec[0] = np.sum(const_vec*prop_vec*cluster_size)\n",
    "        for nex in range(0, nexposed):\n",
    "            Omat[0, nex+1] = const_vec[nex]*prop_vec[nex]*cluster_size\n",
    "            omega_vec[nex + nexposed+1] = np.sum(const_vec*prop_vec*beta_SA) + gamma\n",
    "            Omat[nex+1, nex+nexposed+1] = omega_vec[nex+1]\n",
    "            Omat[nex+nexposed+1, 1:(nexposed+1)] = const_vec*prop_vec*beta_SA \n",
    "            Omat[nex+nexposed+1, nex+nexposed+1] = np.sum(const_vec * beta_SA * prop_vec)\n",
    "\n",
    "        else:\n",
    "            for nex in range(0, nexposed):\n",
    "                omega_vec[nex + nexposed] = np.sum(const_vec*prop_vec*beta_SA) + gamma\n",
    "                Omat[nex, nex+nexposed] = omega_vec[nex]\n",
    "                Omat[nex+nexposed, :nexposed] = const_vec*prop_vec*beta_SA \n",
    "                Omat[nex+nexposed, nex+nexposed] = np.sum(const_vec * beta_SA * prop_vec)\n",
    "\n",
    "    return Omat\n",
    "\n",
    "\n",
    "# Compose Gmat\n",
    "\n",
    "Gmat = np.zeros((ntypes, ntypes, ntypes))\n",
    "C = np.zeros(ntypes**3)\n",
    "omega_vec = sigma * np.ones(ntypes)\n",
    "for nex in range(0, nexposed):\n",
    "    omega_vec[nex + nexposed] = np.sum(const_vec*prop_vec*beta_SA) + gamma\n",
    "for l in range(0, ntypes):\n",
    "\n",
    "    Gmat[l, :, :] = H_mat(0, beta_SA)[l, :, :] + np.diag(P_vecs(0, beta_SA)[:, l]) - np.outer(P_vecs(0, beta_SA)[:, l], P_vecs(0, beta_SA)[:, l])\n",
    "    unitvec = np.zeros(ntypes)\n",
    "    unitvec[l] = 1\n",
    "    Gmat[l, :, :] += np.outer(unitvec, unitvec) + np.outer(P_vecs(0, beta_SA)[:, l], P_vecs(0, beta_SA)[:, l]) - np.outer(unitvec, P_vecs(0, beta_SA)[:, l]) - np.outer(P_vecs(0, beta_SA)[:, l], unitvec)\n",
    "    Gmat[l, :, :] *= omega_vec[l]\n",
    "    C[l*ntypes*ntypes:(l+1)*ntypes*ntypes] = Gmat[l, :, :].flatten('F') # Stack columns for 'vec' operator\n",
    "\n",
    "Amat = np.kron(nla.inv(orth.conjugate()), nla.inv(orth.conjugate()))\n",
    "vec_w = np.zeros(ntypes**3)\n",
    "Amat_inv = nla.inv(Amat)\n",
    "\n",
    "HinvC = nla.solve(H, C)\n",
    "\n",
    "def Deltamat(t, immigration, eigvls, l):\n",
    "    Delta = np.zeros(ntypes**2)\n",
    "    eigs = eigvls.copy()\n",
    "    for j in range(0, ntypes):\n",
    "        for n in range(0, ntypes):\n",
    "            Delta[j*ntypes + n] =  immigration[l]*(1-np.exp((eigs[j] + eigs[n])*t))/(-eigs[j] - eigs[n])\n",
    "    Deltamat = np.diag(Delta)\n",
    "    return Deltamat\n",
    "\n",
    "\n",
    "def Deltamat_im(t, immigration, eigvls):\n",
    "    Delta = np.zeros(ntypes**3)\n",
    "    eigs = eigvls.copy()\n",
    "    for l in range(0, ntypes):\n",
    "        for j in range(0, ntypes):\n",
    "            for n in range(0, ntypes):\n",
    "                Delta[l*ntypes*ntypes + j*ntypes + n] =  (1/(eigs[l] - (eigs[j] + eigs[n])))*((np.exp(eigs[l]*t) - 1)/(eigs[l]) - (np.exp((eigs[j] + eigs[n])*t) - 1)/(eigs[j] + eigs[n]))\n",
    "#                 Delta[l*ntypes*ntypes + j*ntypes + n] =  (1/(eigs[l] - (eigs[j] + eigs[n])))*((np.exp(eigs[l]*t) - 1)/(eigs[l]) - (np.exp((eigs[j] + eigs[n])*t) - 1)/(eigs[j] + eigs[n]))\n",
    "\n",
    "    Deltamat = np.diag(Delta)\n",
    "    return Deltamat\n",
    "\n",
    "\n",
    "# Build both components for variance with immigration from eq. 21 and final eq. on p.213\n",
    "def var(t):\n",
    "#         Amat = np.kron(nla.inv(orth_c.copy()), nla.inv(orth_c.copy()))\n",
    "    vec_w = np.zeros(ntypes**3)\n",
    "#         Amat_inv = nla.inv(Amat.copy())\n",
    "    vecvar =  H @ Deltamat_im(t, im_vec, eigvls) @ HinvC\n",
    "#     print(np.min(vecvar))\n",
    "    for i in range(0, ntypes):\n",
    "        unitvec = np.zeros(ntypes)\n",
    "        unitvec[i] = 1.\n",
    "        unit_outer_prod = np.outer(unitvec, unitvec).flatten('F') # Stack columns for 'vec' operator\n",
    "        vec_wi =  Amat @ ( Deltamat(t, im_vec, eigvls, i)) @ Amat_inv @unit_outer_prod\n",
    "        vec_w[i*ntypes*ntypes:(i+1)*ntypes*ntypes] = vec_wi\n",
    "        vecvar[i*ntypes*ntypes:(i+1)*ntypes*ntypes] *=im_vec[i]\n",
    "\n",
    "\n",
    "\n",
    "#     vecvar =  H @ Deltamat_im(t, im_vec, eigvls) @ HinvC\n",
    "    var_im = np.reshape(vecvar, (ntypes, ntypes, ntypes)).transpose(0, 2, 1)\n",
    "    w = np.reshape(vec_w, (ntypes, ntypes, ntypes)).transpose(0, 2, 1)\n",
    "\n",
    "    var_im += w\n",
    "    return var_im # np.reshape(vec_w, (ntypes, ntypes, ntypes)).transpose(0, 2, 1)\n",
    "\n",
    "var_vec_test = np.zeros(len(time))\n",
    "T = 0\n",
    "for Time in tqdm(time):\n",
    "# for Time in time:\n",
    "        if cluster_im:\n",
    "            if discount_imports:\n",
    "                var_vec_test[T] = np.sum(var(Time)[:, 1:, 1:])\n",
    "            else:\n",
    "                var_vec_test[T] = np.sum(var(Time))\n",
    "        else:\n",
    "            var_vec_test[T] = np.sum(var(Time))\n",
    "        T+=1"
   ]
  },
  {
   "cell_type": "code",
   "execution_count": null,
   "metadata": {},
   "outputs": [],
   "source": []
  },
  {
   "cell_type": "code",
   "execution_count": null,
   "metadata": {},
   "outputs": [],
   "source": []
  }
 ],
 "metadata": {
  "kernelspec": {
   "display_name": "Python 3",
   "language": "python",
   "name": "python3"
  },
  "language_info": {
   "codemirror_mode": {
    "name": "ipython",
    "version": 3
   },
   "file_extension": ".py",
   "mimetype": "text/x-python",
   "name": "python",
   "nbconvert_exporter": "python",
   "pygments_lexer": "ipython3",
   "version": "3.8.3"
  }
 },
 "nbformat": 4,
 "nbformat_minor": 4
}
