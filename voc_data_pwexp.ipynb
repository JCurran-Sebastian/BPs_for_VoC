{
 "cells": [
  {
   "cell_type": "markdown",
   "metadata": {},
   "source": [
    "# Analysis of VoC data\n",
    "\n",
    "Look at data provided to SPI-M on the B.1.351 VoC. \n",
    "\n",
    "Data file not included in the repo, so change path if running independently. \n",
    "\n",
    "This version:\n",
    "* Data is that provided on 7 May\n",
    "* Be clearer about travel versus non - London non-travel seems to have consistent exp.\n",
    "* Be clearer about exponential versus constant\n",
    "* Clearer labels of calendar dates\n",
    "\n",
    "Note that linkage to the linelist on finalid should be possible."
   ]
  },
  {
   "cell_type": "code",
   "execution_count": 1,
   "metadata": {},
   "outputs": [],
   "source": [
    "%matplotlib inline\n",
    "import numpy as np\n",
    "import scipy.stats as st\n",
    "import scipy.special as sp\n",
    "import matplotlib.pyplot as plt\n",
    "import pandas as pd\n",
    "import datetime\n",
    "import scipy.optimize as op\n",
    "from numpy import linalg as LA"
   ]
  },
  {
   "cell_type": "code",
   "execution_count": 2,
   "metadata": {},
   "outputs": [],
   "source": [
    "df = pd.read_excel(\n",
    "    '/Volumes/COVID19_Epi_modelling/DstlDailyData/2021-05-07/VOC202012_02_linelist_20210507.xlsx',\n",
    "    sheet_name=1,\n",
    ")\n",
    "df.dropna(subset=['earliest_specimen_date'],inplace=True)"
   ]
  },
  {
   "cell_type": "code",
   "execution_count": 3,
   "metadata": {},
   "outputs": [],
   "source": [
    "def todays(x):\n",
    "    return np.array((pd.to_datetime(x['earliest_specimen_date'], format='%Y-%m-%d') - pd.Timestamp(\"2020-10-01\")) // pd.Timedelta('1D'))"
   ]
  },
  {
   "cell_type": "code",
   "execution_count": 4,
   "metadata": {},
   "outputs": [
    {
     "data": {
      "text/html": [
       "<div>\n",
       "<style scoped>\n",
       "    .dataframe tbody tr th:only-of-type {\n",
       "        vertical-align: middle;\n",
       "    }\n",
       "\n",
       "    .dataframe tbody tr th {\n",
       "        vertical-align: top;\n",
       "    }\n",
       "\n",
       "    .dataframe thead th {\n",
       "        text-align: right;\n",
       "    }\n",
       "</style>\n",
       "<table border=\"1\" class=\"dataframe\">\n",
       "  <thead>\n",
       "    <tr style=\"text-align: right;\">\n",
       "      <th></th>\n",
       "      <th>earliest_specimen_date</th>\n",
       "    </tr>\n",
       "  </thead>\n",
       "  <tbody>\n",
       "    <tr>\n",
       "      <th>0</th>\n",
       "      <td>2020-10-01</td>\n",
       "    </tr>\n",
       "    <tr>\n",
       "      <th>1</th>\n",
       "      <td>2020-11-01</td>\n",
       "    </tr>\n",
       "    <tr>\n",
       "      <th>2</th>\n",
       "      <td>2020-12-01</td>\n",
       "    </tr>\n",
       "    <tr>\n",
       "      <th>3</th>\n",
       "      <td>2021-01-01</td>\n",
       "    </tr>\n",
       "    <tr>\n",
       "      <th>4</th>\n",
       "      <td>2021-02-01</td>\n",
       "    </tr>\n",
       "    <tr>\n",
       "      <th>5</th>\n",
       "      <td>2021-03-01</td>\n",
       "    </tr>\n",
       "    <tr>\n",
       "      <th>6</th>\n",
       "      <td>2021-04-01</td>\n",
       "    </tr>\n",
       "    <tr>\n",
       "      <th>7</th>\n",
       "      <td>2021-05-01</td>\n",
       "    </tr>\n",
       "  </tbody>\n",
       "</table>\n",
       "</div>"
      ],
      "text/plain": [
       "  earliest_specimen_date\n",
       "0             2020-10-01\n",
       "1             2020-11-01\n",
       "2             2020-12-01\n",
       "3             2021-01-01\n",
       "4             2021-02-01\n",
       "5             2021-03-01\n",
       "6             2021-04-01\n",
       "7             2021-05-01"
      ]
     },
     "execution_count": 4,
     "metadata": {},
     "output_type": "execute_result"
    }
   ],
   "source": [
    "monthstarts = pd.DataFrame([\n",
    "    '2020-10-01','2020-11-01','2020-12-01','2021-01-01','2021-02-01','2021-03-01','2021-04-01','2021-05-01'\n",
    "],columns=['earliest_specimen_date'])\n",
    "monthstarts"
   ]
  },
  {
   "cell_type": "code",
   "execution_count": 5,
   "metadata": {},
   "outputs": [],
   "source": [
    "def tods(x):\n",
    "    return pd.to_datetime(x['earliest_specimen_date'], format='%Y-%m-%d').dt.strftime('%d %b')"
   ]
  },
  {
   "cell_type": "code",
   "execution_count": 6,
   "metadata": {},
   "outputs": [
    {
     "data": {
      "text/html": [
       "<div>\n",
       "<style scoped>\n",
       "    .dataframe tbody tr th:only-of-type {\n",
       "        vertical-align: middle;\n",
       "    }\n",
       "\n",
       "    .dataframe tbody tr th {\n",
       "        vertical-align: top;\n",
       "    }\n",
       "\n",
       "    .dataframe thead th {\n",
       "        text-align: right;\n",
       "    }\n",
       "</style>\n",
       "<table border=\"1\" class=\"dataframe\">\n",
       "  <thead>\n",
       "    <tr style=\"text-align: right;\">\n",
       "      <th></th>\n",
       "      <th>earliest_specimen_date</th>\n",
       "      <th>date_name</th>\n",
       "    </tr>\n",
       "  </thead>\n",
       "  <tbody>\n",
       "    <tr>\n",
       "      <th>0</th>\n",
       "      <td>2021-01-01</td>\n",
       "      <td>Start of 2021</td>\n",
       "    </tr>\n",
       "    <tr>\n",
       "      <th>1</th>\n",
       "      <td>2021-03-08</td>\n",
       "      <td>Roadmap Start</td>\n",
       "    </tr>\n",
       "    <tr>\n",
       "      <th>2</th>\n",
       "      <td>2021-04-30</td>\n",
       "      <td>Sequence Delay</td>\n",
       "    </tr>\n",
       "  </tbody>\n",
       "</table>\n",
       "</div>"
      ],
      "text/plain": [
       "  earliest_specimen_date       date_name\n",
       "0             2021-01-01   Start of 2021\n",
       "1             2021-03-08   Roadmap Start\n",
       "2             2021-04-30  Sequence Delay"
      ]
     },
     "execution_count": 6,
     "metadata": {},
     "output_type": "execute_result"
    }
   ],
   "source": [
    "keydates = pd.DataFrame([\n",
    "    ['2021-01-01','Start of 2021'],\n",
    "    ['2021-03-08','Roadmap Start'],\n",
    "    ['2021-04-30','Sequence Delay'],\n",
    "],columns=['earliest_specimen_date','date_name'])\n",
    "keydates"
   ]
  },
  {
   "cell_type": "code",
   "execution_count": 7,
   "metadata": {},
   "outputs": [],
   "source": [
    "dfr = df.groupby('PHEC_name').apply(todays)"
   ]
  },
  {
   "cell_type": "code",
   "execution_count": 8,
   "metadata": {},
   "outputs": [
    {
     "data": {
      "text/plain": [
       "212"
      ]
     },
     "execution_count": 8,
     "metadata": {},
     "output_type": "execute_result"
    }
   ],
   "source": [
    "np.max(todays(monthstarts))"
   ]
  },
  {
   "cell_type": "code",
   "execution_count": 9,
   "metadata": {},
   "outputs": [
    {
     "data": {
      "image/png": "[encoded data removed]",
      "text/plain": [
       "<Figure size 576x288 with 1 Axes>"
      ]
     },
     "metadata": {
      "needs_background": "light"
     },
     "output_type": "display_data"
    }
   ],
   "source": [
    "lq = len(dfr.index)\n",
    "cmp = plt.cm.get_cmap('Set2', lq+1)\n",
    "plt.figure(figsize=(8,4))\n",
    "for i in range(0,lq):\n",
    "    x = dfr[i]\n",
    "    plt.plot(np.sort(x),np.arange(1,len(x)+1),label=dfr.index[i], lw=2, c=cmp(i))\n",
    "#for i, d in keydates.iterrows():\n",
    "#    plt.plot(todays(d)*np.ones(2),np.array([0,500]),ls='--',label=d.date_name)\n",
    "plt.legend()\n",
    "plt.xlabel('Specimen Date')\n",
    "plt.ylabel('Cumulative Incidence')\n",
    "plt.xticks(todays(monthstarts),tods(monthstarts))\n",
    "plt.xlim([0,212])\n",
    "plt.ylim([1,500])\n",
    "plt.yscale('log')\n",
    "plt.title('England')\n",
    "plt.tight_layout()\n",
    "plt.savefig('./figures/voc_region_log.pdf')"
   ]
  },
  {
   "cell_type": "code",
   "execution_count": 10,
   "metadata": {},
   "outputs": [],
   "source": [
    "# From the above, London is far largest so look at that\n",
    "li = np.argwhere(dfr.index == 'London')[0]\n",
    "x = dfr[li].values[0]"
   ]
  },
  {
   "cell_type": "code",
   "execution_count": 11,
   "metadata": {},
   "outputs": [
    {
     "data": {
      "text/html": [
       "<div>\n",
       "<style scoped>\n",
       "    .dataframe tbody tr th:only-of-type {\n",
       "        vertical-align: middle;\n",
       "    }\n",
       "\n",
       "    .dataframe tbody tr th {\n",
       "        vertical-align: top;\n",
       "    }\n",
       "\n",
       "    .dataframe thead th {\n",
       "        text-align: right;\n",
       "    }\n",
       "</style>\n",
       "<table border=\"1\" class=\"dataframe\">\n",
       "  <thead>\n",
       "    <tr style=\"text-align: right;\">\n",
       "      <th></th>\n",
       "      <th>finalid</th>\n",
       "      <th>specimen_date_sk</th>\n",
       "      <th>seq_result</th>\n",
       "      <th>earliest_specimen_date</th>\n",
       "      <th>PHEC_name</th>\n",
       "      <th>exposure_type</th>\n",
       "      <th>survey_or_intervention</th>\n",
       "      <th>hh_id</th>\n",
       "    </tr>\n",
       "  </thead>\n",
       "  <tbody>\n",
       "    <tr>\n",
       "      <th>0</th>\n",
       "      <td>-3311042.0</td>\n",
       "      <td>20210502.0</td>\n",
       "      <td>Provisional Genotyping</td>\n",
       "      <td>2021-05-02</td>\n",
       "      <td>London</td>\n",
       "      <td>Awaiting information</td>\n",
       "      <td>NaN</td>\n",
       "      <td>2.0</td>\n",
       "    </tr>\n",
       "    <tr>\n",
       "      <th>1</th>\n",
       "      <td>-3306285.0</td>\n",
       "      <td>20210428.0</td>\n",
       "      <td>Provisional Genotyping</td>\n",
       "      <td>2021-04-28</td>\n",
       "      <td>London</td>\n",
       "      <td>Awaiting information</td>\n",
       "      <td>NaN</td>\n",
       "      <td>277.0</td>\n",
       "    </tr>\n",
       "    <tr>\n",
       "      <th>2</th>\n",
       "      <td>-3304744.0</td>\n",
       "      <td>20210501.0</td>\n",
       "      <td>Provisional Genotyping</td>\n",
       "      <td>2021-04-29</td>\n",
       "      <td>London</td>\n",
       "      <td>Awaiting information</td>\n",
       "      <td>NaN</td>\n",
       "      <td>593.0</td>\n",
       "    </tr>\n",
       "    <tr>\n",
       "      <th>3</th>\n",
       "      <td>-3304640.0</td>\n",
       "      <td>20210428.0</td>\n",
       "      <td>Provisional Genotyping</td>\n",
       "      <td>2021-04-28</td>\n",
       "      <td>London</td>\n",
       "      <td>Awaiting information</td>\n",
       "      <td>NaN</td>\n",
       "      <td>293.0</td>\n",
       "    </tr>\n",
       "    <tr>\n",
       "      <th>4</th>\n",
       "      <td>-3304562.0</td>\n",
       "      <td>20210501.0</td>\n",
       "      <td>Provisional Genotyping</td>\n",
       "      <td>2021-04-29</td>\n",
       "      <td>London</td>\n",
       "      <td>Awaiting information</td>\n",
       "      <td>NaN</td>\n",
       "      <td>512.0</td>\n",
       "    </tr>\n",
       "    <tr>\n",
       "      <th>...</th>\n",
       "      <td>...</td>\n",
       "      <td>...</td>\n",
       "      <td>...</td>\n",
       "      <td>...</td>\n",
       "      <td>...</td>\n",
       "      <td>...</td>\n",
       "      <td>...</td>\n",
       "      <td>...</td>\n",
       "    </tr>\n",
       "    <tr>\n",
       "      <th>348</th>\n",
       "      <td>1672607.0</td>\n",
       "      <td>20210416.0</td>\n",
       "      <td>Confirmed</td>\n",
       "      <td>2021-04-16</td>\n",
       "      <td>London</td>\n",
       "      <td>Awaiting information</td>\n",
       "      <td>NaN</td>\n",
       "      <td>487.0</td>\n",
       "    </tr>\n",
       "    <tr>\n",
       "      <th>349</th>\n",
       "      <td>1672956.0</td>\n",
       "      <td>20210410.0</td>\n",
       "      <td>Confirmed</td>\n",
       "      <td>2021-04-10</td>\n",
       "      <td>London</td>\n",
       "      <td>Not travel-associated</td>\n",
       "      <td>NaN</td>\n",
       "      <td>488.0</td>\n",
       "    </tr>\n",
       "    <tr>\n",
       "      <th>350</th>\n",
       "      <td>1673678.0</td>\n",
       "      <td>20210419.0</td>\n",
       "      <td>Confirmed</td>\n",
       "      <td>2021-04-19</td>\n",
       "      <td>London</td>\n",
       "      <td>Awaiting information</td>\n",
       "      <td>NaN</td>\n",
       "      <td>489.0</td>\n",
       "    </tr>\n",
       "    <tr>\n",
       "      <th>351</th>\n",
       "      <td>1673679.0</td>\n",
       "      <td>20210420.0</td>\n",
       "      <td>Confirmed</td>\n",
       "      <td>2021-04-20</td>\n",
       "      <td>London</td>\n",
       "      <td>Awaiting information</td>\n",
       "      <td>NaN</td>\n",
       "      <td>490.0</td>\n",
       "    </tr>\n",
       "    <tr>\n",
       "      <th>352</th>\n",
       "      <td>1673685.0</td>\n",
       "      <td>20210419.0</td>\n",
       "      <td>Confirmed</td>\n",
       "      <td>2021-04-19</td>\n",
       "      <td>London</td>\n",
       "      <td>Awaiting information</td>\n",
       "      <td>NaN</td>\n",
       "      <td>333.0</td>\n",
       "    </tr>\n",
       "  </tbody>\n",
       "</table>\n",
       "<p>353 rows × 8 columns</p>\n",
       "</div>"
      ],
      "text/plain": [
       "       finalid  specimen_date_sk              seq_result  \\\n",
       "0   -3311042.0        20210502.0  Provisional Genotyping   \n",
       "1   -3306285.0        20210428.0  Provisional Genotyping   \n",
       "2   -3304744.0        20210501.0  Provisional Genotyping   \n",
       "3   -3304640.0        20210428.0  Provisional Genotyping   \n",
       "4   -3304562.0        20210501.0  Provisional Genotyping   \n",
       "..         ...               ...                     ...   \n",
       "348  1672607.0        20210416.0               Confirmed   \n",
       "349  1672956.0        20210410.0               Confirmed   \n",
       "350  1673678.0        20210419.0               Confirmed   \n",
       "351  1673679.0        20210420.0               Confirmed   \n",
       "352  1673685.0        20210419.0               Confirmed   \n",
       "\n",
       "    earliest_specimen_date PHEC_name          exposure_type  \\\n",
       "0               2021-05-02    London   Awaiting information   \n",
       "1               2021-04-28    London   Awaiting information   \n",
       "2               2021-04-29    London   Awaiting information   \n",
       "3               2021-04-28    London   Awaiting information   \n",
       "4               2021-04-29    London   Awaiting information   \n",
       "..                     ...       ...                    ...   \n",
       "348             2021-04-16    London   Awaiting information   \n",
       "349             2021-04-10    London  Not travel-associated   \n",
       "350             2021-04-19    London   Awaiting information   \n",
       "351             2021-04-20    London   Awaiting information   \n",
       "352             2021-04-19    London   Awaiting information   \n",
       "\n",
       "    survey_or_intervention  hh_id  \n",
       "0                      NaN    2.0  \n",
       "1                      NaN  277.0  \n",
       "2                      NaN  593.0  \n",
       "3                      NaN  293.0  \n",
       "4                      NaN  512.0  \n",
       "..                     ...    ...  \n",
       "348                    NaN  487.0  \n",
       "349                    NaN  488.0  \n",
       "350                    NaN  489.0  \n",
       "351                    NaN  490.0  \n",
       "352                    NaN  333.0  \n",
       "\n",
       "[353 rows x 8 columns]"
      ]
     },
     "execution_count": 11,
     "metadata": {},
     "output_type": "execute_result"
    }
   ],
   "source": [
    "dfl = df[df.PHEC_name == 'London']\n",
    "dfl.reset_index(drop=True,inplace=True)\n",
    "dfl"
   ]
  },
  {
   "cell_type": "code",
   "execution_count": 12,
   "metadata": {},
   "outputs": [],
   "source": [
    "dfg = df.groupby('exposure_type').apply(todays)"
   ]
  },
  {
   "cell_type": "code",
   "execution_count": 13,
   "metadata": {},
   "outputs": [
    {
     "data": {
      "image/png": "[encoded data removed]",
      "text/plain": [
       "<Figure size 576x288 with 1 Axes>"
      ]
     },
     "metadata": {
      "needs_background": "light"
     },
     "output_type": "display_data"
    }
   ],
   "source": [
    "lq = len(dfg.index)\n",
    "cmp = plt.cm.get_cmap('Set1', lq)\n",
    "plt.figure(figsize=(8,4))\n",
    "for i in range(0,lq):\n",
    "    x = dfg[i]\n",
    "    plt.plot(np.sort(x),np.arange(1,len(x)+1),label=dfg.index[i], lw=2, c=cmp(i))\n",
    "plt.legend()\n",
    "plt.xlabel('Specimen Date')\n",
    "plt.ylabel('Cumulative Incidence')\n",
    "plt.xticks(todays(monthstarts),tods(monthstarts))\n",
    "plt.ylim([1,500])\n",
    "plt.xlim([0,212])\n",
    "plt.yscale('log')\n",
    "plt.title('London')\n",
    "plt.tight_layout()\n",
    "plt.savefig('./figures/voc_london_log.pdf')"
   ]
  },
  {
   "cell_type": "code",
   "execution_count": 14,
   "metadata": {},
   "outputs": [
    {
     "data": {
      "text/plain": [
       "205"
      ]
     },
     "execution_count": 14,
     "metadata": {},
     "output_type": "execute_result"
    }
   ],
   "source": [
    "# From the above, Not travel London\n",
    "li = np.argwhere(dfg.index == 'Not travel-associated')[0]\n",
    "x = dfg[li].values[0]\n",
    "len(x)"
   ]
  },
  {
   "cell_type": "code",
   "execution_count": 15,
   "metadata": {},
   "outputs": [],
   "source": [
    "def mymu(x,tt,n):\n",
    "    mu = np.concatenate([\n",
    "        x[0]*np.exp(x[1]*tt[0:n]),\n",
    "        x[0]*np.exp(x[1]*tt[n-1])*np.exp(x[3]*(tt[n:]-tt[n-1]))\n",
    "    ])\n",
    "    return mu\n",
    "\n",
    "def myod(x,tt,n):\n",
    "    od = np.concatenate([\n",
    "        x[2]*np.ones(len(tt[0:n])),\n",
    "        x[4]*np.ones(len(tt[n:]))\n",
    "    ])\n",
    "    return od\n",
    "\n",
    "def mynll(y,x,tt):\n",
    "    mu = x[0]*np.exp(x[1]*tt)\n",
    "    od = x[2]*np.ones(len(tt))\n",
    "    p = 1/od\n",
    "    r = mu/(od-1)\n",
    "    return -np.sum(st.nbinom.logpmf(y,r,p))\n",
    "\n",
    "def mynll2(y,x,tt,n):\n",
    "    mu = mymu(x,tt,n)\n",
    "    od = myod(x,tt,n)\n",
    "    p = 1/od\n",
    "    r = mu/(od-1)\n",
    "    return -np.sum(st.nbinom.logpmf(y,r,p))"
   ]
  },
  {
   "cell_type": "code",
   "execution_count": 16,
   "metadata": {},
   "outputs": [
    {
     "data": {
      "text/html": [
       "<div>\n",
       "<style scoped>\n",
       "    .dataframe tbody tr th:only-of-type {\n",
       "        vertical-align: middle;\n",
       "    }\n",
       "\n",
       "    .dataframe tbody tr th {\n",
       "        vertical-align: top;\n",
       "    }\n",
       "\n",
       "    .dataframe thead th {\n",
       "        text-align: right;\n",
       "    }\n",
       "</style>\n",
       "<table border=\"1\" class=\"dataframe\">\n",
       "  <thead>\n",
       "    <tr style=\"text-align: right;\">\n",
       "      <th></th>\n",
       "      <th>earliest_specimen_date</th>\n",
       "      <th>date_name</th>\n",
       "    </tr>\n",
       "  </thead>\n",
       "  <tbody>\n",
       "    <tr>\n",
       "      <th>0</th>\n",
       "      <td>2021-01-01</td>\n",
       "      <td>Start of 2021</td>\n",
       "    </tr>\n",
       "    <tr>\n",
       "      <th>1</th>\n",
       "      <td>2021-03-08</td>\n",
       "      <td>Roadmap Start</td>\n",
       "    </tr>\n",
       "    <tr>\n",
       "      <th>2</th>\n",
       "      <td>2021-04-30</td>\n",
       "      <td>Sequence Delay</td>\n",
       "    </tr>\n",
       "  </tbody>\n",
       "</table>\n",
       "</div>"
      ],
      "text/plain": [
       "  earliest_specimen_date       date_name\n",
       "0             2021-01-01   Start of 2021\n",
       "1             2021-03-08   Roadmap Start\n",
       "2             2021-04-30  Sequence Delay"
      ]
     },
     "execution_count": 16,
     "metadata": {},
     "output_type": "execute_result"
    }
   ],
   "source": [
    "keydates = pd.DataFrame([\n",
    "    ['2021-01-01','Start of 2021'],\n",
    "    ['2021-03-08','Roadmap Start'],\n",
    "    ['2021-04-30','Sequence Delay'],\n",
    "],columns=['earliest_specimen_date','date_name'])\n",
    "keydates"
   ]
  },
  {
   "cell_type": "code",
   "execution_count": 20,
   "metadata": {},
   "outputs": [],
   "source": [
    "tk = todays(keydates)\n",
    "z = np.bincount(x)\n",
    "uu = np.arange(0,np.max(x)+1)\n",
    "yy = z[tk[0]:tk[-1]]\n",
    "tt = np.arange(0,len(yy))\n",
    "n = tk[1]-tk[0]"
   ]
  },
  {
   "cell_type": "code",
   "execution_count": 21,
   "metadata": {},
   "outputs": [
    {
     "name": "stdout",
     "output_type": "stream",
     "text": [
      "134.43721331933065\n",
      "66.07347393719384\n"
     ]
    }
   ],
   "source": [
    "x02 = np.array([1,0.25,5,0.15,5])\n",
    "nll = lambda xx: mynll2(yy,xx,tt,n)\n",
    "fout2 = op.minimize(nll,x02,method='Nelder-Mead')   \n",
    "mu = mymu(fout2.x,tt,n)\n",
    "od = myod(fout2.x,tt,n)\n",
    "p = 1/od\n",
    "r = mu/(od-1)\n",
    "dt1 = np.log(2.0)/fout2.x[1]\n",
    "dt2 = np.log(2.0)/fout2.x[3]\n",
    "print(dt1)\n",
    "print(dt2)"
   ]
  },
  {
   "cell_type": "code",
   "execution_count": 22,
   "metadata": {},
   "outputs": [
    {
     "data": {
      "image/png": "[encoded data removed]",
      "text/plain": [
       "<Figure size 576x288 with 1 Axes>"
      ]
     },
     "metadata": {
      "needs_background": "light"
     },
     "output_type": "display_data"
    }
   ],
   "source": [
    "plt.figure(figsize=(8,4))\n",
    "plt.xlabel('Date')\n",
    "plt.ylabel('New Cases')\n",
    "plt.xticks(todays(monthstarts),tods(monthstarts))\n",
    "plt.plot(tk[0]+tt[0:n],mu[0:n],linestyle='-',c='r',label='Doubling time {:.0f} days'.format(dt1))\n",
    "plt.plot(tk[0]+tt[(n-1):],mu[(n-1):],linestyle='-',c='b',label='Doubling time {:.0f} days'.format(dt2))\n",
    "plt.plot(tk[0]+tt[0:n],st.nbinom.ppf(1/6,r[0:n],p[0:n]),linestyle='--',c='r')\n",
    "plt.plot(tk[0]+tt[0:n],st.nbinom.ppf(5/6,r[0:n],p[0:n]),linestyle='--',c='r')\n",
    "plt.plot(tk[0]+tt[(n-1):],st.nbinom.ppf(1/6,r[(n-1):],p[(n-1):]),linestyle='--',c='b')\n",
    "plt.plot(tk[0]+tt[(n-1):],st.nbinom.ppf(5/6,r[(n-1):],p[(n-1):]),linestyle='--',c='b')\n",
    "plt.plot(tk[0]+tt[0:n],st.nbinom.ppf(0.025,r[0:n],p[0:n]),linestyle=':',c='r')\n",
    "plt.plot(tk[0]+tt[0:n],st.nbinom.ppf(0.975,r[0:n],p[0:n]),linestyle=':',c='r')\n",
    "plt.plot(tk[0]+tt[(n-1):],st.nbinom.ppf(0.025,r[(n-1):],p[(n-1):]),linestyle=':',c='b')\n",
    "plt.plot(tk[0]+tt[(n-1):],st.nbinom.ppf(0.975,r[(n-1):],p[(n-1):]),linestyle=':',c='b')\n",
    "plt.scatter(uu,z,marker='o',c='w',s=16,zorder=3)\n",
    "plt.scatter(uu,z,marker='o',c='k',s=12,label='New cases by specimen date',zorder=3)\n",
    "plt.xlim([0,212])\n",
    "plt.legend()\n",
    "plt.title('London Not Travel Associated')\n",
    "plt.tight_layout()\n",
    "plt.savefig('./figures/voc_london_nta_fit.pdf')"
   ]
  },
  {
   "cell_type": "code",
   "execution_count": 23,
   "metadata": {},
   "outputs": [
    {
     "data": {
      "text/plain": [
       "array([1.12430246, 0.00515592, 1.29482544, 0.01049055, 1.40135644])"
      ]
     },
     "execution_count": 23,
     "metadata": {},
     "output_type": "execute_result"
    }
   ],
   "source": [
    "xhat = fout2.x\n",
    "xhat"
   ]
  },
  {
   "cell_type": "code",
   "execution_count": 24,
   "metadata": {},
   "outputs": [
    {
     "name": "stdout",
     "output_type": "stream",
     "text": [
      "[0.26509632 0.00519759 0.28338963 0.00597192 0.28357679]\n"
     ]
    }
   ],
   "source": [
    "pn = len(x02)\n",
    "delta = 1e-2 # Some tuning of this by hand is inevitable\n",
    "dx = delta*xhat\n",
    "ej = np.zeros(pn)\n",
    "ek = np.zeros(pn)\n",
    "Hinv = np.zeros((pn,pn))\n",
    "for j in range(0,pn):\n",
    "    ej[j] = dx[j]\n",
    "    for k in range(0,j):\n",
    "        ek[k] = dx[k]\n",
    "        Hinv[j,k] = nll(xhat+ej+ek) - nll(xhat+ej-ek) - nll(xhat-ej+ek) + nll(xhat-ej-ek)\n",
    "        ek[k] = 0.\n",
    "    Hinv[j,j] = - nll(xhat+2*ej) + 16*nll(xhat+ej) - 30*nll(xhat) + 16*nll(xhat-ej) - nll(xhat-2*ej)\n",
    "    ej[j] = 0.\n",
    "Hinv += np.triu(Hinv.T,1)\n",
    "Hinv /= (4.*np.outer(dx,dx) + np.diag(8.*dx**2)) # TO DO: replace with a chol ...\n",
    "covmat = LA.inv(0.5*(Hinv+Hinv.T))\n",
    "stds = np.sqrt(np.diag(covmat))\n",
    "print(stds)"
   ]
  },
  {
   "cell_type": "code",
   "execution_count": 25,
   "metadata": {},
   "outputs": [],
   "source": [
    "dfs = pd.read_csv('./perc_r_lon.csv')"
   ]
  },
  {
   "cell_type": "code",
   "execution_count": 26,
   "metadata": {},
   "outputs": [],
   "source": [
    "def stodays(x):\n",
    "    return np.array((pd.to_datetime(x['Date'], format='%d-%b-%y') - pd.Timestamp(\"2020-10-01\")) // pd.Timedelta('1D'))"
   ]
  },
  {
   "cell_type": "code",
   "execution_count": 27,
   "metadata": {},
   "outputs": [],
   "source": [
    "gl = dfs.Lower.values/100\n",
    "gu = dfs.Upper.values/100\n",
    "gt = stodays(dfs)-7 # Assume that the SPI-M estimates come with a 7 day delay"
   ]
  },
  {
   "cell_type": "code",
   "execution_count": 28,
   "metadata": {},
   "outputs": [],
   "source": [
    "rt = np.array([tk[0],tk[1],tk[1],tk[2]])\n",
    "rl = np.concatenate([(xhat[1]-1.96*stds[1])*np.ones(2), (xhat[3]-1.96*stds[3])*np.ones(2)])\n",
    "ru = np.concatenate([(xhat[1]+1.96*stds[1])*np.ones(2), (xhat[3]+1.96*stds[3])*np.ones(2)])\n",
    "rm = np.concatenate([(xhat[1])*np.ones(2), (xhat[3])*np.ones(2)])"
   ]
  },
  {
   "cell_type": "code",
   "execution_count": 29,
   "metadata": {},
   "outputs": [
    {
     "data": {
      "image/png": "[encoded data removed]",
      "text/plain": [
       "<Figure size 576x288 with 1 Axes>"
      ]
     },
     "metadata": {
      "needs_background": "light"
     },
     "output_type": "display_data"
    }
   ],
   "source": [
    "#plt.plot(gt,gl)\n",
    "#plt.plot(gt,gu)\n",
    "plt.figure(figsize=(8,4))\n",
    "plt.xlabel('Date')\n",
    "plt.ylabel('Growth Rate')\n",
    "plt.xticks(todays(monthstarts),tods(monthstarts))\n",
    "plt.plot(rt,rm,color='maroon',label='B.1.351 Estimate')\n",
    "plt.fill_between(rt,rl,ru,color='indianred',alpha=0.5,label='B.1.351 95% CI')\n",
    "plt.fill_between(gt,gl,gu,color='cadetblue',alpha=0.5,label='SAGE consensus')\n",
    "#plt.plot(np.array([tk[0],tk[1]]),xhat[1]*np.ones(2))\n",
    "#plt.plot(np.array([tk[1],tk[2]]),xhat[3]*np.ones(2))\n",
    "plt.xlim([0,212])\n",
    "plt.legend()\n",
    "plt.title('London Not Travel Associated vs. SAGE Growth Rate')\n",
    "plt.tight_layout()\n",
    "plt.savefig('./figures/voc_london_nta_comp.pdf')"
   ]
  },
  {
   "cell_type": "code",
   "execution_count": null,
   "metadata": {},
   "outputs": [],
   "source": []
  },
  {
   "cell_type": "code",
   "execution_count": null,
   "metadata": {},
   "outputs": [],
   "source": []
  },
  {
   "cell_type": "code",
   "execution_count": null,
   "metadata": {},
   "outputs": [],
   "source": []
  },
  {
   "cell_type": "code",
   "execution_count": null,
   "metadata": {},
   "outputs": [],
   "source": []
  }
 ],
 "metadata": {
  "kernelspec": {
   "display_name": "Python 3",
   "language": "python",
   "name": "python3"
  },
  "language_info": {
   "codemirror_mode": {
    "name": "ipython",
    "version": 3
   },
   "file_extension": ".py",
   "mimetype": "text/x-python",
   "name": "python",
   "nbconvert_exporter": "python",
   "pygments_lexer": "ipython3",
   "version": "3.8.5"
  }
 },
 "nbformat": 4,
 "nbformat_minor": 4
}
