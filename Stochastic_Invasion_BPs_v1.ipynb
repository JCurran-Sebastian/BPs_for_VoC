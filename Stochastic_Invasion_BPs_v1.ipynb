{
 "cells": [
  {
   "cell_type": "markdown",
   "metadata": {},
   "source": [
    "# Produce some plots of importation probabilities\n",
    "\n",
    "Use the analytical formulas from Wallinga and Scalia Tomba\n"
   ]
  },
  {
   "cell_type": "code",
   "execution_count": 1,
   "metadata": {},
   "outputs": [],
   "source": [
    "%matplotlib inline\n",
    "import numpy as np\n",
    "import matplotlib.pyplot as plt\n",
    "from matplotlib.colors import ListedColormap, LinearSegmentedColormap\n",
    "import seaborn as sns\n",
    "from tqdm import tqdm"
   ]
  },
  {
   "cell_type": "markdown",
   "metadata": {},
   "source": [
    "## Jacob"
   ]
  },
  {
   "cell_type": "code",
   "execution_count": 2,
   "metadata": {},
   "outputs": [],
   "source": [
    "# =============================================================================\n",
    "# Class for solving ODEs\n",
    "# =============================================================================\n",
    "class ODESolver:\n",
    "    def __init__(self, f):\n",
    "        self.f = f\n",
    "    \n",
    "    def advance(self):\n",
    "        raise NotImplementedError\n",
    "    \n",
    "    def set_ic(self, u0):\n",
    "        if not isinstance(u0, float):\n",
    "            self.u0 = u0.astype(float)\n",
    "        else:\n",
    "            self.u0 = u0\n",
    "    \n",
    "    def solver(self, time_points):\n",
    "        self.t = np.asarray(time_points)\n",
    "        self.tlen = len(self.t)\n",
    "        if isinstance(self.u0, float):\n",
    "            self.numeqs=1\n",
    "        else:\n",
    "            self.numeqs = np.shape(self.u0)[0]\n",
    "        self.u = np.zeros((self.numeqs, self.tlen))\n",
    "        self.u[:,0] = self.u0\n",
    "        for k in range(0,self.tlen-1):\n",
    "            self.k=k\n",
    "            self.u[:, k+1] = self.advance()\n",
    "        return self.u, self.t\n",
    "    \n",
    "\n",
    "class ForwardEuler(ODESolver): # Runs faster than Runge Kutta\n",
    "    def advance(self):\n",
    "        u, f, k, t = self.u, self.f, self.k, self.t\n",
    "        dt = t[k+1] - t[k]\n",
    "        unew = u[:, k] + dt*f(u[:, k], t[k])\n",
    "        return unew\n",
    "\n",
    "class RungeKutta4(ODESolver): # Alternatively, can use Runge Kutta (may be preferable to Euler if inhomogeneous rates are particularly pathological)\n",
    "    def advance(self):\n",
    "        u, f, k, t = self.u, self.f, self.k, self.t\n",
    "        numeqs = np.shape(u)[0]\n",
    "        dt = t[k+1]-t[k]\n",
    "        dt2 = dt/2.0\n",
    "        unew = np.zeros(numeqs)\n",
    "        \n",
    "        K1 = dt*f(u[:, k], t[k])\n",
    "        K2 = dt*f(u[:, k] + 0.5*K1, t[k]+dt2)\n",
    "        K3 = dt*f(u[:, k] + 0.5*K2, t[k] + dt2)\n",
    "        K4 = dt*f(u[:, k] + K3, t[k] + dt)\n",
    "    \n",
    "        unew = u[:, k] + (1/6.0)*(K1 + 2*K2 + 2*K3 + K4)\n",
    "        return unew\n",
    "    \n",
    "    "
   ]
  },
  {
   "cell_type": "code",
   "execution_count": 3,
   "metadata": {},
   "outputs": [],
   "source": [
    "# =============================================================================\n",
    "# Class for extinction probability of multi-type branching process (MTBP)\n",
    "# =============================================================================\n",
    "\n",
    "class MTBP_extinct:\n",
    "    def __init__(self, offspring):\n",
    "        self.offspring = offspring\n",
    "    def set_lifespans(self, omega):\n",
    "        self.omega = omega\n",
    "    def set_immigration(self, eta):\n",
    "        \n",
    "        self.eta = eta\n",
    "    \n",
    "    def set_odes(self, u, t):\n",
    "        omega = self.omega\n",
    "        P = self.offspring\n",
    "        eta = self.eta\n",
    "        if isinstance(eta(t), float):\n",
    "            self.numeqs=1\n",
    "            deriv = np.zeros(self.numeqs + 1)\n",
    "            deriv[0] = -omega(t)*u[0] + omega(t)*P(u[0:-1], t)[0]\n",
    "            sumqs = eta(t)*u[0]\n",
    "            deriv[-1] = -np.sum(eta(t))*u[-1] + u[-1]*sumqs\n",
    "        else:\n",
    "            self.numeqs = len(eta(t))\n",
    "            sumqs = 0\n",
    "            deriv = np.zeros(self.numeqs + 1)\n",
    "            for i in range(0, self.numeqs):\n",
    "                deriv[i] = -omega(t)[i]*u[i] + omega(t)[i]*P(u[0:-1], t)[i]\n",
    "\n",
    "                sumqs += eta(t)[i]*u[i]\n",
    "\n",
    "            deriv[-1] = -np.sum(eta(t))*u[-1] + u[-1]*sumqs\n",
    "\n",
    "        return deriv\n",
    "\n",
    "    def solve_odes(self, set_odes, t, ics, n0, methodclass=RungeKutta4, Full = False):\n",
    "        method = methodclass(set_odes)\n",
    "        method.set_ic(u0=ics)\n",
    "        R, t = method.solver(time_points=t)\n",
    "        numqs = np.shape(R)[0] - 1\n",
    "        tlen = len(t)\n",
    "        Qprod = np.ones(tlen)\n",
    "        r = R[-1,:]\n",
    "        if Full:\n",
    "            return R\n",
    "        else:\n",
    "            if isinstance(n0, float):\n",
    "                for i in range(0, numqs):\n",
    "                    Qprod *= R[i,:]**(n0)\n",
    "            else:\n",
    "                for i in range(0, numqs):\n",
    "                    Qprod *= R[i,:]**(n0[i])\n",
    "            rho = r*Qprod\n",
    "            sol = np.stack((Qprod, rho), axis=0)\n",
    "            return sol\n",
    "    \n",
    "    def time_to_pextinct(self, t, p, sol):\n",
    "        rho = sol[-1,:]\n",
    "        numqs = np.shape(sol)[0] - 1\n",
    "        q = np.ones_like(rho)\n",
    "        for i in range(0, numqs):\n",
    "            q*=sol[i, :]\n",
    "        if isinstance(p, float):\n",
    "            qwhere = np.where(q>=p)[0]\n",
    "            rhowhere = np.where(rho>=p)[0]\n",
    "            if len(qwhere)>0:\n",
    "                qmin = np.min(t[np.where(q>=p)])\n",
    "            else:\n",
    "                qmin = np.inf\n",
    "            if (len(rhowhere)>0) and (rho[-1]>=p):\n",
    "                rhomin = np.min(t[np.where(rho>=p)])\n",
    "            else:\n",
    "                rhomin =  np.inf\n",
    "            return np.array((qmin, rhomin))\n",
    "        elif len(p)>1:\n",
    "            qmin = np.zeros_like(p)\n",
    "            rhomin = np.zeros_like(p)\n",
    "            extinct_times = np.zeros((len(p), 2)) \n",
    "            for j in range(0, len(p)):\n",
    "                qwhere = np.where(q>=p[j])[0]\n",
    "                rhowhere = np.where(rho>=p[j])[0]\n",
    "                if len(qwhere)>0:\n",
    "                    qmin[j] = np.min(t[np.where(q>=p[j])])\n",
    "                else:\n",
    "                    qmin[j] = np.inf\n",
    "                if (len(rhowhere)>0) and (rho[-1]>=p[j]):\n",
    "                    rhomin[j] = np.min(t[np.where(rho>=p[j])])\n",
    "                else:\n",
    "                    rhomin[j] =  np.inf\n",
    "            extinct_times[:,0] = qmin\n",
    "            extinct_times[:,1] = rhomin\n",
    "            return(extinct_times)\n",
    "    \n",
    "    def qr_final(self, sol):\n",
    "        sol = sol[-1,:]\n",
    "        q_final = np.prod(sol[0:-1,-1])\n",
    "        rho_final = sol[-1, -1]\n",
    "        return [q_final, rho_final]\n",
    "    \n",
    "    def set_Omega(self, Omega):\n",
    "        self.Omega=Omega\n",
    "        return None\n",
    "    \n",
    "    def set_mean_odes(self, u, t):\n",
    "        try:\n",
    "            Omega = self.Omega\n",
    "        except NotImplementedError:\n",
    "            print(\"Need to set Omega first!\")\n",
    "        P = self.offspring\n",
    "        eta = self.eta\n",
    "        omega = self.omega\n",
    "        if isinstance(u, float):\n",
    "            self.meaneqs=1\n",
    "            deriv = np.zeros(self.meaneqs)\n",
    "            deriv[0] = u*Omega(t) + eta(t)\n",
    "            return deriv\n",
    "        else:\n",
    "            self.meaneqs = len(u)\n",
    "            meaneqs = self.meaneqs\n",
    "            deriv = np.zeros(meaneqs)\n",
    "            deriv = u@Omega(t) + eta(t)\n",
    "            return deriv\n",
    "        \n",
    "    def solve_mean_odes(self, set_mean_odes, t, ics, methodclass=RungeKutta4):\n",
    "        method = methodclass(set_mean_odes)\n",
    "        method.set_ic(u0=ics)\n",
    "        M, t = method.solver(time_points=t)\n",
    "        return M\n",
    "        "
   ]
  },
  {
   "cell_type": "markdown",
   "metadata": {},
   "source": [
    "# Variants Paper"
   ]
  },
  {
   "cell_type": "code",
   "execution_count": 268,
   "metadata": {},
   "outputs": [
    {
     "data": {
      "text/plain": [
       "<matplotlib.legend.Legend at 0x7fb67ea89970>"
      ]
     },
     "execution_count": 268,
     "metadata": {},
     "output_type": "execute_result"
    },
    {
     "data": {
      "image/png": "[encoded data removed]",
      "text/plain": [
       "<Figure size 432x288 with 1 Axes>"
      ]
     },
     "metadata": {
      "needs_background": "light"
     },
     "output_type": "display_data"
    }
   ],
   "source": [
    "# Disease Parameters\n",
    "\n",
    "Reff_vec = np.array((1.22, 1.54, 1.79, 2.52, 2.94)) # R without immunity for wildtype with roadmap changes\n",
    "rtrans_variant = 1.5 # Relative transmissability of SA variant compared to wildtype\n",
    "gamma = 0.4 # Recovery Rate\n",
    "sigma = 0.3 # Progression rate from exposed to infectious\n",
    "\n",
    "# Vaccine parameters for transmission reduction \n",
    "\n",
    "sus_uk = 1-0.9 # Susceptibility of unvaccinated B.1.351 recovereds against wildtype\n",
    "sus_sa = 1-0.4 # Susceptibility of unvaccinated wildtype recovereds against B.1.351\n",
    "az_vac_uk = 1-0.6 # Reduction in transmission of UK variant due to AstraZeneca vaccine\n",
    "pfi_vac_uk = 1-0.7 # Reduction in transmission of UK variant due to Pfizer vaccine\n",
    "new_vac_uk = 1-0.6 # Reduction in transmission of UK variant due to new vaccine\n",
    "az_vac_sa = 1-0.1 # Reduction in transmission of SA variant due to AstraZeneca vaccine\n",
    "pfi_vac_sa = 1-0.5 # Reduction in transmission of SA variant due to Pfizer vaccine\n",
    "new_vac_sa = 1-0.9 # Reduction in transmission of SA variant due to new vaccine\n",
    "vaccine_vec = np.array((1., az_vac_sa, pfi_vac_sa, new_vac_sa))\n",
    "\n",
    "k = 1/10 # Dispersion Endo et al.\n",
    "\n",
    "time = np.linspace(0, 150, num=1000)\n",
    "\n",
    "# Reduced transmissability for each type based on infection/vaccine immunity\n",
    "const_vec = np.array((1., sus_sa, az_vac_sa, az_vac_sa*sus_sa, pfi_vac_sa, pfi_vac_sa*sus_sa, new_vac_sa, new_vac_sa*sus_sa))\n",
    "\n",
    "ntypes = 16\n",
    "nsus_trans = int(ntypes/2)\n",
    "rho_mat = np.zeros((len(Reff_vec), len(time)))\n",
    "q_mat = np.zeros_like(rho_mat)\n",
    "for r, Reff in enumerate(Reff_vec):\n",
    "    beta_SA = Reff*gamma*rtrans_variant\n",
    "    RV = Reff*rtrans_variant\n",
    "\n",
    "    # Probability of extinction with immigration\n",
    "\n",
    "    omega_infectious = beta_SA*np.ones(nsus_trans)\n",
    "    omega_infectious[1::2] *= sus_sa\n",
    "    for i in range(0, len(vaccine_vec)):\n",
    "        omega_infectious[2*i:2*i+2]*= vaccine_vec[i]\n",
    "    omega_infectious += gamma\n",
    "    om_vec = np.append(sigma*np.ones(nsus_trans), omega_infectious)\n",
    "\n",
    "    def omega(t): # Return vector of lifetimes for each state\n",
    "        return om_vec\n",
    "\n",
    "    beta_vec = beta_SA*np.ones(nsus_trans)\n",
    "    for i in range(0, len(vaccine_vec)):\n",
    "        beta_vec[2*i:2*i+2]*= vaccine_vec[i]\n",
    "\n",
    "#     def P(u, t):\n",
    "        \n",
    "#         pvec = np.zeros_like(u)\n",
    "#         nexposed = int(ntypes/2)\n",
    "#         sum_gen_funcs = np.sum((beta_SA/(beta_SA*const_vec + gamma))*const_vec*(1+(1/k)*(1-u[:nexposed]))**(-k))/nexposed\n",
    "# #         sum_gen_funcs = np.sum(const_vec*(1+(1/k)*(1-u[:nexposed]))**(-k))/nexposed\n",
    "\n",
    "#     #     sum_gen_funcs = np.sum(immunity_vec*(u[:nexposed]))/nexposed\n",
    "\n",
    "#         for nex in range(0, nexposed):\n",
    "#             pvec[nex] = u[nex+nexposed] \n",
    "#             pvec[nex+nexposed] =  u[nex+nexposed] * sum_gen_funcs + (gamma/(beta_SA + gamma))\n",
    "#         return pvec\n",
    "    \n",
    "    def P(u, t): # Offspring distribution (above is old (wrong) code)\n",
    "        \n",
    "        \n",
    "        pvec = np.zeros_like(u)\n",
    "        nexposed = int(ntypes/2)\n",
    "        omega = (1/nexposed * np.sum(const_vec) * beta_SA + gamma)\n",
    "        sum_gen_funcs = np.sum((beta_SA/omega)*const_vec*(1+(1/k)*(1-u[:nexposed]))**(-k))/nexposed\n",
    "\n",
    "\n",
    "        for nex in range(0, nexposed):\n",
    "            pvec[nex] = u[nex+nexposed] \n",
    "            pvec[nex+nexposed] =  u[nex+nexposed] * sum_gen_funcs + (gamma/omega)\n",
    "        return pvec\n",
    "    \n",
    "    \n",
    "    \n",
    "    im_vec = np.zeros(ntypes)\n",
    "    im_vec[0] = 1/5\n",
    "    def eta(t):\n",
    "        return im_vec.astype(float)\n",
    "    ics = np.zeros(ntypes+1)\n",
    "    ics[-1] = 1.\n",
    "    n0vec = np.ones(ntypes)\n",
    "    n0vec[-1] = 0\n",
    "\n",
    "\n",
    "    offspring = P\n",
    "    outbreak = MTBP_extinct(offspring)\n",
    "    outbreak.set_lifespans(omega)\n",
    "    outbreak.set_immigration(eta)\n",
    "    rho = outbreak.solve_odes(outbreak.set_odes, time, ics, n0vec, Full = False)\n",
    "    q_mat [r, :] = rho[0, :]\n",
    "    rho_mat[r, :] = rho[1, :] # Take 0th row for qs, -1th row for rs\n",
    "\n",
    "    plt.plot(time, rho_mat[r, :], label = \"R0 = \" + str(np.round(RV, 2)))\n",
    "\n",
    "plt.title(\"P(Z(t) = 0) \" )\n",
    "plt.xlabel(\"Days after initial case\")\n",
    "plt.ylabel(\"Probability\")\n",
    "plt.savefig(\"./pnocases_R0=\" + str(RV) + \".pdf\")\n",
    "plt.legend(loc=2, bbox_to_anchor=(1.05, 1), framealpha=1., edgecolor='black', fancybox=False)"
   ]
  },
  {
   "cell_type": "code",
   "execution_count": 269,
   "metadata": {},
   "outputs": [
    {
     "data": {
      "text/plain": [
       "<matplotlib.legend.Legend at 0x7fb67e957bb0>"
      ]
     },
     "execution_count": 269,
     "metadata": {},
     "output_type": "execute_result"
    },
    {
     "data": {
      "image/png": "[encoded data removed]",
      "text/plain": [
       "<Figure size 432x288 with 1 Axes>"
      ]
     },
     "metadata": {
      "needs_background": "light"
     },
     "output_type": "display_data"
    }
   ],
   "source": [
    "for r, Reff in enumerate(Reff_vec):\n",
    "    RV = Reff*rtrans_variant\n",
    "    plt.plot(time, q_mat[r, :], label = \"R0 = \" + str(np.round(RV, 2)))\n",
    "\n",
    "plt.title(\"P(Y(t) = 0) \") # Y(t) is process for an individual lineage to go extinct without immigration\n",
    "plt.xlabel(\"Days after initial case\")\n",
    "plt.ylabel(\"Probability\")\n",
    "plt.savefig(\"./pnocases_R0=\" + str(RV) + \".pdf\")\n",
    "plt.legend(loc=2, bbox_to_anchor=(1.05, 1), framealpha=1., edgecolor='black', fancybox=False)"
   ]
  },
  {
   "cell_type": "code",
   "execution_count": 264,
   "metadata": {},
   "outputs": [
    {
     "data": {
      "text/plain": [
       "<matplotlib.legend.Legend at 0x7fb6de4809a0>"
      ]
     },
     "execution_count": 264,
     "metadata": {},
     "output_type": "execute_result"
    },
    {
     "data": {
      "image/png": "[encoded data removed]",
      "text/plain": [
       "<Figure size 432x288 with 1 Axes>"
      ]
     },
     "metadata": {
      "needs_background": "light"
     },
     "output_type": "display_data"
    }
   ],
   "source": [
    "# Mean over time \n",
    "\n",
    "\n",
    "const_vec = np.array((1., sus_sa, az_vac_sa, az_vac_sa*sus_sa, pfi_vac_sa, pfi_vac_sa*sus_sa, new_vac_sa, new_vac_sa*sus_sa))\n",
    "time = np.linspace(0, 30, num=1000) \n",
    "for r, Reff in enumerate(Reff_vec):\n",
    "    beta_SA = Reff*gamma*rtrans_variant\n",
    "    RV = Reff*rtrans_variant\n",
    "    \n",
    "    def Omega(t): # Matrix of first partial derivatives of offspring distribution.\n",
    "        nexposed = len(const_vec)\n",
    "        Omat = np.zeros((ntypes, ntypes))\n",
    "        omega_vec = sigma * np.ones(ntypes)\n",
    "        \n",
    "        for nex in range(0, nexposed):\n",
    "            omega_vec[nex + nexposed] = (np.sum(const_vec)*beta_SA/nexposed) + gamma\n",
    "            Omat[nex, nex+nexposed] = omega_vec[nex]\n",
    "            Omat[nex+nexposed, :nexposed] = ((const_vec[nex]/len(const_vec))*beta_SA) \n",
    "            Omat[nex+nexposed, nex+nexposed] = (((np.sum(const_vec * beta_SA))/len(const_vec)))\n",
    "\n",
    "        Omat -= np.diag(omega_vec)\n",
    "        \n",
    "        return Omat\n",
    "    outbreak.set_Omega(Omega)\n",
    "    n0s = np.zeros(ntypes)\n",
    "    Mvec = outbreak.solve_mean_odes(outbreak.set_mean_odes, time, n0s)\n",
    "    plt.plot(time, np.sum(Mvec/(1-rho_mat[r, :]), axis=0), label = 'R0 = ' + str(np.round(RV, 2)))\n",
    "plt.title(\"Mean number of cases - R0 = \" + str(np.round(RV, 2)))\n",
    "plt.xlabel(\"Days after initial case\")\n",
    "plt.ylabel(\"Cases\")\n",
    "plt.savefig(\"./meancases_R0=\" + str(np.round(RV, 2)) + \".pdf\")\n",
    "plt.legend(loc=2, bbox_to_anchor=(1.05, 1), framealpha=1., edgecolor='black', fancybox=False)\n"
   ]
  },
  {
   "cell_type": "code",
   "execution_count": 6,
   "metadata": {},
   "outputs": [],
   "source": [
    "import numpy.linalg as nla"
   ]
  },
  {
   "cell_type": "code",
   "execution_count": 7,
   "metadata": {},
   "outputs": [],
   "source": [
    "beta_SA = Reff_vec[-1]*gamma*rtrans_variant\n",
    "\n",
    "def Omega(t): # Repeat matrix of partial derivatives for just one R0 \n",
    "    nexposed = len(const_vec)\n",
    "    Omat = np.zeros((ntypes, ntypes))\n",
    "    omega_vec = sigma * np.ones(ntypes)\n",
    "\n",
    "    for nex in range(0, nexposed):\n",
    "        omega_vec[nex + nexposed] = (np.sum(const_vec)*beta_SA/nexposed) + gamma\n",
    "        \n",
    "        Omat[nex, nex+nexposed] = omega_vec[nex]\n",
    "        Omat[nex+nexposed, :nexposed] = ((const_vec[nex]/len(const_vec))*beta_SA) \n",
    "        Omat[nex+nexposed, nex+nexposed] = (((np.sum(const_vec * beta_SA))/len(const_vec)))\n",
    "\n",
    "    Omat -= np.diag(omega_vec)\n",
    "\n",
    "    return Omat\n",
    "\n",
    "# Diagonalise Omega and find H as in Garden of BPs paper\n",
    "\n",
    "eigvls, orth = nla.eig(Omega(0))\n",
    "diagmat = np.diag(eigvls)\n",
    "H = np.kron(orth, np.kron(nla.inv(orth.conjugate()), nla.inv(orth.conjugate())))\n",
    "Hinv = np.kron(nla.inv(orth), np.kron(orth.conjugate(), orth.conjugate()))\n",
    "Hinv = nla.inv(H)"
   ]
  },
  {
   "cell_type": "code",
   "execution_count": 198,
   "metadata": {},
   "outputs": [],
   "source": [
    "def H_mat(t): # Hessian of the Offspring Distribution \n",
    "    nexposed = int(ntypes/2)\n",
    "    omega_vec = sigma * np.ones(ntypes)\n",
    "    \n",
    "    Hmat = np.zeros((ntypes, ntypes, ntypes))\n",
    "    for level in range(0, nexposed):\n",
    "        omega_vec[level + nexposed] = 1/nexposed * beta_SA * np.sum(const_vec) + gamma\n",
    "        for i in range(0, nexposed):\n",
    "\n",
    "            Hmat[level + nexposed, i, i] = (1 + (k+1)/k) * (const_vec[i])*beta_SA/(omega_vec[level+nexposed]*nexposed)\n",
    "\n",
    "            Hmat[level + nexposed, level+nexposed, i] = beta_SA * const_vec[i]/(omega_vec[level+nexposed]*nexposed)\n",
    "            Hmat[level + nexposed, i, level+nexposed] = beta_SA * const_vec[i]/(omega_vec[level+nexposed]*nexposed)\n",
    "#             Gmat[level + nexposed, nexposed:, i+nexposed] = (const_vec[i]/len(const_vec))*beta_SA/(beta_SA*gamma)\n",
    "    return Hmat\n",
    "\n",
    "def P_vecs(t): # Essentially the same as Omega matrix - matrix of partial derivatives - columns should be partial derivatives of each P_i(s)\n",
    "    nexposed = int(ntypes/2)\n",
    "    Omat = np.zeros((ntypes, ntypes))\n",
    "    omega_vec = sigma * np.ones(ntypes)\n",
    "    omega_vec[nexposed:] = 1/nexposed * beta_SA * np.sum(const_vec) + gamma\n",
    "    for nex in range(0, nexposed):\n",
    "        Omat[nex + nexposed, nex] = 1\n",
    "        Omat[:nexposed, nex+nexposed] =  ((const_vec[nex]/len(const_vec))*beta_SA)/omega_vec[nex+nexposed] \n",
    "        Omat[nex+nexposed, nex+nexposed] = (((np.sum(const_vec * beta_SA))/len(const_vec)))/omega_vec[nex+nexposed] \n",
    "    \n",
    "    return np.transpose(Omat)"
   ]
  },
  {
   "cell_type": "code",
   "execution_count": 199,
   "metadata": {},
   "outputs": [],
   "source": [
    "# Build a vector C from matrix G as in Garden of BPs \n",
    "nexposed = int(ntypes/2)\n",
    "Gmat = np.zeros((ntypes, ntypes, ntypes))\n",
    "omega_vec = sigma * np.ones(ntypes)\n",
    "omega_vec[nexposed:] = 1/nexposed * beta_SA * np.sum(const_vec) + gamma\n",
    "C = np.zeros(ntypes**3)\n",
    "for l in range(0, ntypes):\n",
    "    Gmat[l, :, :] = H_mat(0)[l, :, :] + np.diag(P_vecs(0)[:, l]) - np.outer(P_vecs(0)[:, l], P_vecs(0)[:, l])\n",
    "    unitvec = np.zeros(ntypes)\n",
    "    unitvec[l] = 1\n",
    "    Gmat[l, :, :] += np.outer(unitvec, unitvec) + np.outer(P_vecs(0)[:, l], P_vecs(0)[:, l]) - np.outer(unitvec, P_vecs(0)[:, l]) - np.outer(P_vecs(0)[:, l], unitvec)\n",
    "    Gmat[l, :, :] *= omega_vec[l]\n",
    "    C[l*ntypes*ntypes:(l+1)*ntypes*ntypes] = Gmat[l, :, :].flatten('F') # Stack columns for 'vec' operator\n"
   ]
  },
  {
   "cell_type": "code",
   "execution_count": 246,
   "metadata": {},
   "outputs": [],
   "source": [
    "def Deltamat(t, immigration):\n",
    "    Delta = np.zeros(ntypes**2)\n",
    "    eigs = eigvls.copy()\n",
    "    for j in range(0, ntypes):\n",
    "        for n in range(0, ntypes):\n",
    "            Delta[j*ntypes + n] =  (1-np.exp((eigs[j] + eigs[n])*t))/(-eigs[j] - eigs[n])\n",
    "    Deltamat = np.diag(Delta)\n",
    "    return Deltamat\n",
    "\n",
    "\n",
    "def Deltamat_im(t, immigration):\n",
    "    Delta = np.zeros(ntypes**3)\n",
    "    eigs = eigvls.copy()\n",
    "    for l in range(0, ntypes):\n",
    "        for j in range(0, ntypes):\n",
    "            for n in range(0, ntypes):\n",
    "                Delta[l*ntypes*ntypes + j*ntypes + n] = (1/(eigs[l] - (eigs[j] + eigs[n])))*((np.exp(eigs[l]*t) - 1)/(eigs[l]) - (np.exp((eigs[j] + eigs[n])*t) - 1)/(eigs[j] + eigs[n]))\n",
    "                \n",
    "    Deltamat = np.diag(Delta)\n",
    "    return Deltamat"
   ]
  },
  {
   "cell_type": "code",
   "execution_count": 247,
   "metadata": {},
   "outputs": [],
   "source": [
    "def var(t):\n",
    "    # Build both components for variance with immigration from eq. 21 and final eq. on p.213\n",
    "    \n",
    "    Amat = np.kron(nla.inv(orth.conjugate()), nla.inv(orth.conjugate()))\n",
    "    vec_w = np.zeros(ntypes**3)\n",
    "    for i in range(0, ntypes):\n",
    "        unitvec = np.zeros(ntypes)\n",
    "        unitvec[i] = 1.\n",
    "        unit_outer_prod = np.outer(unitvec, unitvec).flatten('F') # Stack columns for 'vec' operator\n",
    "        vec_wi =  Amat @ Deltamat(t, im_vec) @ nla.inv(Amat)@unit_outer_prod\n",
    "        vec_w[i*ntypes*ntypes:(i+1)*ntypes*ntypes] = vec_wi\n",
    "    \n",
    "    Amat = np.kron(nla.inv(orth.conjugate()), nla.inv(orth.conjugate()))\n",
    "    vecvar =  H @ Deltamat_im(t, im_vec) @ Hinv @ C + vec_w\n",
    "#     var = np.zeros((ntypes, ntypes, ntypes))\n",
    "    var = np.reshape(vecvar, (ntypes, ntypes, ntypes)).transpose(0, 2, 1)\n",
    "    for i in range(0, ntypes):\n",
    "        var[i]*=im_vec[i]\n",
    "#     for l in range(0, ntypes): # This was a source of errors\n",
    "#         for j in range(0, ntypes):\n",
    "#             for n in range(0, ntypes):\n",
    "#                 var[l, j, n] = vecvar[l*ntypes*ntypes + j*ntypes + i]\n",
    "    \n",
    "    return var"
   ]
  },
  {
   "cell_type": "code",
   "execution_count": 261,
   "metadata": {
    "scrolled": false
   },
   "outputs": [],
   "source": [
    "varmat = np.sum(var(30), axis=0) # Sum variance for all different types into total variance"
   ]
  },
  {
   "cell_type": "code",
   "execution_count": 262,
   "metadata": {},
   "outputs": [
    {
     "data": {
      "text/plain": [
       "array([ 87.55114722, 225.10620076,  91.6099866 ,  24.08409072,\n",
       "        31.8655359 ,  47.96292088,  19.36382618,  10.72035549,\n",
       "         5.01867682,  92.97290868,  71.06018513,  12.51330359,\n",
       "         4.94893324,   3.04269219,  94.59503509,   7.04442925])"
      ]
     },
     "execution_count": 262,
     "metadata": {},
     "output_type": "execute_result"
    }
   ],
   "source": [
    "np.sqrt(np.diagonal(varmat))"
   ]
  },
  {
   "cell_type": "code",
   "execution_count": null,
   "metadata": {},
   "outputs": [],
   "source": [
    "np.mean(np.sum(var(30), axis=0))"
   ]
  },
  {
   "cell_type": "code",
   "execution_count": null,
   "metadata": {},
   "outputs": [],
   "source": [
    "np.kron(nla.inv(orth.conjugate()), nla.inv(orth.conjugate())).shape"
   ]
  },
  {
   "cell_type": "code",
   "execution_count": 215,
   "metadata": {},
   "outputs": [
    {
     "data": {
      "text/plain": [
       "array([ 0,  1,  2,  3,  4,  5,  6,  7,  8,  9, 10, 11, 12, 13, 14, 15, 16,\n",
       "       17, 18, 19, 20, 21, 22, 23, 24, 25, 26])"
      ]
     },
     "execution_count": 215,
     "metadata": {},
     "output_type": "execute_result"
    }
   ],
   "source": [
    "np.reshape(np.arange(27), (3, 3, 3))"
   ]
  },
  {
   "cell_type": "code",
   "execution_count": null,
   "metadata": {},
   "outputs": [],
   "source": []
  }
 ],
 "metadata": {
  "kernelspec": {
   "display_name": "Python 3",
   "language": "python",
   "name": "python3"
  },
  "language_info": {
   "codemirror_mode": {
    "name": "ipython",
    "version": 3
   },
   "file_extension": ".py",
   "mimetype": "text/x-python",
   "name": "python",
   "nbconvert_exporter": "python",
   "pygments_lexer": "ipython3",
   "version": "3.8.3"
  }
 },
 "nbformat": 4,
 "nbformat_minor": 4
}
