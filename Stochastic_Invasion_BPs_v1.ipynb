{
 "cells": [
  {
   "cell_type": "markdown",
   "metadata": {},
   "source": [
    "# Produce some plots of importation probabilities\n",
    "\n",
    "Use the analytical formulas from Wallinga and Scalia Tomba\n"
   ]
  },
  {
   "cell_type": "code",
   "execution_count": 1,
   "metadata": {},
   "outputs": [],
   "source": [
    "%matplotlib inline\n",
    "import numpy as np\n",
    "import matplotlib.pyplot as plt\n",
    "from matplotlib.colors import ListedColormap, LinearSegmentedColormap\n",
    "import seaborn as sns\n",
    "from tqdm import tqdm"
   ]
  },
  {
   "cell_type": "markdown",
   "metadata": {},
   "source": [
    "## Jacob"
   ]
  },
  {
   "cell_type": "code",
   "execution_count": 2,
   "metadata": {},
   "outputs": [],
   "source": [
    "# =============================================================================\n",
    "# Class for solving ODEs\n",
    "# =============================================================================\n",
    "class ODESolver:\n",
    "    def __init__(self, f):\n",
    "        self.f = f\n",
    "    \n",
    "    def advance(self):\n",
    "        raise NotImplementedError\n",
    "    \n",
    "    def set_ic(self, u0):\n",
    "        if not isinstance(u0, float):\n",
    "            self.u0 = u0.astype(float)\n",
    "        else:\n",
    "            self.u0 = u0\n",
    "    \n",
    "    def solver(self, time_points):\n",
    "        self.t = np.asarray(time_points)\n",
    "        self.tlen = len(self.t)\n",
    "        if isinstance(self.u0, float):\n",
    "            self.numeqs=1\n",
    "        else:\n",
    "            self.numeqs = np.shape(self.u0)[0]\n",
    "        self.u = np.zeros((self.numeqs, self.tlen))\n",
    "        self.u[:,0] = self.u0\n",
    "        for k in range(0,self.tlen-1):\n",
    "            self.k=k\n",
    "            self.u[:, k+1] = self.advance()\n",
    "        return self.u, self.t\n",
    "    \n",
    "\n",
    "class ForwardEuler(ODESolver): # Runs faster than Runge Kutta\n",
    "    def advance(self):\n",
    "        u, f, k, t = self.u, self.f, self.k, self.t\n",
    "        dt = t[k+1] - t[k]\n",
    "        unew = u[:, k] + dt*f(u[:, k], t[k])\n",
    "        return unew\n",
    "\n",
    "class RungeKutta4(ODESolver): # Alternatively, can use Runge Kutta (may be preferable to Euler if inhomogeneous rates are particularly pathological)\n",
    "    def advance(self):\n",
    "        u, f, k, t = self.u, self.f, self.k, self.t\n",
    "        numeqs = np.shape(u)[0]\n",
    "        dt = t[k+1]-t[k]\n",
    "        dt2 = dt/2.0\n",
    "        unew = np.zeros(numeqs)\n",
    "        \n",
    "        K1 = dt*f(u[:, k], t[k])\n",
    "        K2 = dt*f(u[:, k] + 0.5*K1, t[k]+dt2)\n",
    "        K3 = dt*f(u[:, k] + 0.5*K2, t[k] + dt2)\n",
    "        K4 = dt*f(u[:, k] + K3, t[k] + dt)\n",
    "    \n",
    "        unew = u[:, k] + (1/6.0)*(K1 + 2*K2 + 2*K3 + K4)\n",
    "        return unew\n",
    "    \n",
    "    "
   ]
  },
  {
   "cell_type": "code",
   "execution_count": 3,
   "metadata": {},
   "outputs": [],
   "source": [
    "# =============================================================================\n",
    "# Class for extinction probability of multi-type branching process (MTBP)\n",
    "# =============================================================================\n",
    "\n",
    "class MTBP_extinct:\n",
    "    def __init__(self, offspring):\n",
    "        self.offspring = offspring\n",
    "    def set_lifespans(self, omega):\n",
    "        self.omega = omega\n",
    "    def set_immigration(self, eta):\n",
    "        \n",
    "        self.eta = eta\n",
    "    \n",
    "    def set_odes(self, u, t):\n",
    "        omega = self.omega\n",
    "        P = self.offspring\n",
    "        eta = self.eta\n",
    "        if isinstance(eta(t), float):\n",
    "            self.numeqs=1\n",
    "            deriv = np.zeros(self.numeqs + 1)\n",
    "            deriv[0] = -omega(t)*u[0] + omega(t)*P(u[0:-1], t)[0]\n",
    "            sumqs = eta(t)*u[0]\n",
    "            deriv[-1] = -np.sum(eta(t))*u[-1] + u[-1]*sumqs\n",
    "        else:\n",
    "            self.numeqs = len(eta(t))\n",
    "            sumqs = 0\n",
    "            deriv = np.zeros(self.numeqs + 1)\n",
    "            for i in range(0, self.numeqs):\n",
    "                deriv[i] = -omega(t)[i]*u[i] + omega(t)[i]*P(u[0:-1], t)[i]\n",
    "\n",
    "                sumqs += eta(t)[i]*u[i]\n",
    "\n",
    "            deriv[-1] = -np.sum(eta(t))*u[-1] + u[-1]*sumqs\n",
    "\n",
    "        return deriv\n",
    "\n",
    "    def solve_odes(self, set_odes, t, ics, n0, methodclass=RungeKutta4, Full = False):\n",
    "        method = methodclass(set_odes)\n",
    "        method.set_ic(u0=ics)\n",
    "        R, t = method.solver(time_points=t)\n",
    "        numqs = np.shape(R)[0] - 1\n",
    "        tlen = len(t)\n",
    "        Qprod = np.ones(tlen)\n",
    "        r = R[-1,:]\n",
    "        if Full:\n",
    "            return R\n",
    "        else:\n",
    "            if isinstance(n0, float):\n",
    "                for i in range(0, numqs):\n",
    "                    Qprod *= R[i,:]**(n0)\n",
    "            else:\n",
    "                for i in range(0, numqs):\n",
    "                    Qprod *= R[i,:]**(n0[i])\n",
    "            rho = r*Qprod\n",
    "            sol = np.stack((Qprod, rho), axis=0)\n",
    "            return sol\n",
    "    \n",
    "    def time_to_pextinct(self, t, p, sol):\n",
    "        rho = sol[-1,:]\n",
    "        numqs = np.shape(sol)[0] - 1\n",
    "        q = np.ones_like(rho)\n",
    "        for i in range(0, numqs):\n",
    "            q*=sol[i, :]\n",
    "        if isinstance(p, float):\n",
    "            qwhere = np.where(q>=p)[0]\n",
    "            rhowhere = np.where(rho>=p)[0]\n",
    "            if len(qwhere)>0:\n",
    "                qmin = np.min(t[np.where(q>=p)])\n",
    "            else:\n",
    "                qmin = np.inf\n",
    "            if (len(rhowhere)>0) and (rho[-1]>=p):\n",
    "                rhomin = np.min(t[np.where(rho>=p)])\n",
    "            else:\n",
    "                rhomin =  np.inf\n",
    "            return np.array((qmin, rhomin))\n",
    "        elif len(p)>1:\n",
    "            qmin = np.zeros_like(p)\n",
    "            rhomin = np.zeros_like(p)\n",
    "            extinct_times = np.zeros((len(p), 2)) \n",
    "            for j in range(0, len(p)):\n",
    "                qwhere = np.where(q>=p[j])[0]\n",
    "                rhowhere = np.where(rho>=p[j])[0]\n",
    "                if len(qwhere)>0:\n",
    "                    qmin[j] = np.min(t[np.where(q>=p[j])])\n",
    "                else:\n",
    "                    qmin[j] = np.inf\n",
    "                if (len(rhowhere)>0) and (rho[-1]>=p[j]):\n",
    "                    rhomin[j] = np.min(t[np.where(rho>=p[j])])\n",
    "                else:\n",
    "                    rhomin[j] =  np.inf\n",
    "            extinct_times[:,0] = qmin\n",
    "            extinct_times[:,1] = rhomin\n",
    "            return(extinct_times)\n",
    "    \n",
    "    def qr_final(self, sol):\n",
    "        sol = sol[-1,:]\n",
    "        q_final = np.prod(sol[0:-1,-1])\n",
    "        rho_final = sol[-1, -1]\n",
    "        return [q_final, rho_final]\n",
    "    \n",
    "    def set_Omega(self, Omega):\n",
    "        self.Omega=Omega\n",
    "        return None\n",
    "    \n",
    "    def set_mean_odes(self, u, t):\n",
    "        try:\n",
    "            Omega = self.Omega\n",
    "        except NotImplementedError:\n",
    "            print(\"Need to set Omega first!\")\n",
    "        P = self.offspring\n",
    "        eta = self.eta\n",
    "        omega = self.omega\n",
    "        if isinstance(u, float):\n",
    "            self.meaneqs=1\n",
    "            deriv = np.zeros(self.meaneqs)\n",
    "            deriv[0] = u*Omega(t) + eta(t)\n",
    "            return deriv\n",
    "        else:\n",
    "            self.meaneqs = len(u)\n",
    "            meaneqs = self.meaneqs\n",
    "            deriv = np.zeros(meaneqs)\n",
    "            deriv = u@Omega(t) + eta(t)\n",
    "            return deriv\n",
    "        \n",
    "    def solve_mean_odes(self, set_mean_odes, t, ics, methodclass=RungeKutta4):\n",
    "        method = methodclass(set_mean_odes)\n",
    "        method.set_ic(u0=ics)\n",
    "        M, t = method.solver(time_points=t)\n",
    "        return M\n",
    "        "
   ]
  },
  {
   "cell_type": "markdown",
   "metadata": {},
   "source": [
    "# Variants Paper"
   ]
  },
  {
   "cell_type": "code",
   "execution_count": 334,
   "metadata": {},
   "outputs": [],
   "source": [
    "# Parameters to change \n",
    "\n",
    "# Disease Parameters\n",
    "\n",
    "Reff_vec = np.array((1.22, 1.54, 1.79, 2.52, 2.94)) # R without immunity for wildtype with roadmap changes\n",
    "rtrans_variant = 1.5 # Relative transmissability of SA variant compared to wildtype\n",
    "gamma = 0.4 # Recovery Rate\n",
    "sigma = 0.3 # Progression rate from exposed to infectious\n",
    "\n",
    "# Vaccine parameters for transmission reduction \n",
    "\n",
    "sus_uk = 1-0.9 # Susceptibility of unvaccinated B.1.351 recovereds against wildtype\n",
    "sus_sa = 1-0.4 # Susceptibility of unvaccinated wildtype recovereds against B.1.351\n",
    "az_vac_uk = 1-0.6 # Reduction in transmission of UK variant due to AstraZeneca vaccine\n",
    "pfi_vac_uk = 1-0.7 # Reduction in transmission of UK variant due to Pfizer vaccine\n",
    "new_vac_uk = 1-0.6 # Reduction in transmission of UK variant due to new vaccine\n",
    "az_vac_sa = 1-0.1 # Reduction in transmission of SA variant due to AstraZeneca vaccine\n",
    "pfi_vac_sa = 1-0.5 # Reduction in transmission of SA variant due to Pfizer vaccine\n",
    "new_vac_sa = 1-0.9 # Reduction in transmission of SA variant due to new vaccine\n",
    "vaccine_vec = np.array((1., az_vac_sa, pfi_vac_sa, new_vac_sa))\n",
    "\n",
    "k = 1/10 # Dispersion Endo et al.\n",
    "\n",
    "time = np.linspace(0, 150, num=1000)\n",
    "\n",
    "# Reduced transmissability for each type based on infection/vaccine immunity\n",
    "const_vec = np.array((1., sus_sa, az_vac_sa, az_vac_sa*sus_sa, pfi_vac_sa, pfi_vac_sa*sus_sa, new_vac_sa, new_vac_sa*sus_sa))\n",
    "\n",
    "# Vector of immigrants at each type - currently only\n",
    "im_vec = np.zeros(ntypes)\n",
    "im_vec[0] = 2."
   ]
  },
  {
   "cell_type": "code",
   "execution_count": 335,
   "metadata": {},
   "outputs": [
    {
     "data": {
      "text/plain": [
       "<matplotlib.legend.Legend at 0x7fb5ee549d30>"
      ]
     },
     "execution_count": 335,
     "metadata": {},
     "output_type": "execute_result"
    },
    {
     "data": {
      "image/png": "[encoded data removed]",
      "text/plain": [
       "<Figure size 432x288 with 1 Axes>"
      ]
     },
     "metadata": {
      "needs_background": "light"
     },
     "output_type": "display_data"
    }
   ],
   "source": [
    "# Solve ODEs \n",
    "\n",
    "ntypes = 16\n",
    "nexposed = int(ntypes/2)\n",
    "rho_mat = np.zeros((len(Reff_vec), len(time)))\n",
    "q_mat = np.zeros_like(rho_mat)\n",
    "R_vec = np.zeros_like(Reff_vec)\n",
    "for r, Reff in enumerate(Reff_vec):\n",
    "    beta_SA = Reff*gamma*rtrans_variant\n",
    "    RV = Reff*rtrans_variant\n",
    "\n",
    "    # Probability of extinction with immigration\n",
    "\n",
    "    omega_infectious = beta_SA*np.ones(nsus_trans)\n",
    "    omega_infectious[1::2] *= sus_sa\n",
    "    for i in range(0, len(vaccine_vec)):\n",
    "        omega_infectious[2*i:2*i+2]*= vaccine_vec[i]\n",
    "    omega_infectious += gamma\n",
    "    om_vec = np.append(sigma*np.ones(nexposed), omega_infectious)\n",
    "\n",
    "    def omega(t): # Return vector of lifetimes for each state\n",
    "        return om_vec\n",
    "\n",
    "    beta_vec = beta_SA*np.ones(nsus_trans)\n",
    "    for i in range(0, len(vaccine_vec)):\n",
    "        beta_vec[2*i:2*i+2]*= vaccine_vec[i]\n",
    "    \n",
    "    def P(u, t): # Offspring distribution\n",
    "\n",
    "        pvec = np.zeros_like(u)\n",
    "        nexposed = int(ntypes/2)\n",
    "        omega = (1/nexposed * np.sum(const_vec) * beta_SA + gamma)\n",
    "        sum_gen_funcs = np.sum((beta_SA/omega)*const_vec*(1+(1/k)*(1-u[:nexposed]))**(-k))/nexposed\n",
    "\n",
    "\n",
    "        for nex in range(0, nexposed):\n",
    "            pvec[nex] = u[nex+nexposed] \n",
    "            pvec[nex+nexposed] =  u[nex+nexposed] * sum_gen_funcs + (gamma/omega)\n",
    "        return pvec            \n",
    "            \n",
    "            \n",
    "    def eta(t):\n",
    "        return im_vec.astype(float)\n",
    "    ics = np.zeros(ntypes+1)\n",
    "    ics[-1] = 1.\n",
    "    n0vec = np.ones(ntypes)\n",
    "    n0vec[-1] = 0\n",
    "\n",
    "\n",
    "    offspring = P\n",
    "    outbreak = MTBP_extinct(offspring)\n",
    "    outbreak.set_lifespans(omega)\n",
    "    outbreak.set_immigration(eta)\n",
    "    rho = outbreak.solve_odes(outbreak.set_odes, time, ics, n0vec, Full = False)\n",
    "    q_mat [r, :] = rho[0, :]\n",
    "    rho_mat[r, :] = rho[1, :] # Take 0th row for qs, -1th row for rs\n",
    "\n",
    "    plt.plot(time, rho_mat[r, :], label = \"R0 = \" + str(np.round(RV, 2)))\n",
    "\n",
    "plt.title(\"P(Z(t) = 0) \" )\n",
    "plt.xlabel(\"Days after initial case\")\n",
    "plt.ylabel(\"Probability\")\n",
    "plt.savefig(\"./pnocases_R0=\" + str(RV) + \".pdf\")\n",
    "plt.legend(loc=2, bbox_to_anchor=(1.05, 1), framealpha=1., edgecolor='black', fancybox=False)"
   ]
  },
  {
   "cell_type": "code",
   "execution_count": 333,
   "metadata": {},
   "outputs": [
    {
     "name": "stdout",
     "output_type": "stream",
     "text": [
      "[0. 0. 0. 0. 0. 0. 0. 0. 0. 0. 0. 0. 0. 0. 0. 0.]\n"
     ]
    },
    {
     "data": {
      "text/plain": [
       "0.0"
      ]
     },
     "execution_count": 333,
     "metadata": {},
     "output_type": "execute_result"
    }
   ],
   "source": [
    "# Ignore for now\n",
    "# def R_eff(): \n",
    "#         Sig = np.zeros((ntypes, ntypes))\n",
    "#         for i in range(0, nexposed):\n",
    "#             Sig[i, i] -= sigma\n",
    "#             Sig[i, i+nexposed] += sigma\n",
    "#             Sig[i +nexposed, i+nexposed] -= gamma\n",
    "#         SigInv = nla.inv(Sig)\n",
    "        \n",
    "#         T = np.zeros((ntypes, ntypes))\n",
    "#         for i in range(0, nexposed):\n",
    "#             T[i, i+nexposed] += beta_SA\n",
    "        \n",
    "#         Rmat_eig = np.max(nla.eig(-T@SigInv)[0])\n",
    "#         return Rmat_eig\n",
    "# R_eff()"
   ]
  },
  {
   "cell_type": "code",
   "execution_count": 321,
   "metadata": {},
   "outputs": [
    {
     "data": {
      "text/plain": [
       "<matplotlib.legend.Legend at 0x7fb67e5f0160>"
      ]
     },
     "execution_count": 321,
     "metadata": {},
     "output_type": "execute_result"
    },
    {
     "data": {
      "image/png": "[encoded data removed]",
      "text/plain": [
       "<Figure size 432x288 with 1 Axes>"
      ]
     },
     "metadata": {
      "needs_background": "light"
     },
     "output_type": "display_data"
    }
   ],
   "source": [
    "# Equivalent probabilities for a single lineage - no immigration\n",
    "\n",
    "for r, Reff in enumerate(Reff_vec):\n",
    "    RV = Reff*rtrans_variant\n",
    "    plt.plot(time, q_mat[r, :], label = \"R0 = \" + str(np.round(RV, 2)))\n",
    "\n",
    "plt.title(\"P(Y(t) = 0) \") # Y(t) is process for an individual lineage to go extinct without immigration\n",
    "plt.xlabel(\"Days after initial case\")\n",
    "plt.ylabel(\"Probability\")\n",
    "plt.savefig(\"./pnocases_R0=\" + str(RV) + \".pdf\")\n",
    "plt.legend(loc=2, bbox_to_anchor=(1.05, 1), framealpha=1., edgecolor='black', fancybox=False)"
   ]
  },
  {
   "cell_type": "code",
   "execution_count": 309,
   "metadata": {},
   "outputs": [
    {
     "data": {
      "text/plain": [
       "<matplotlib.legend.Legend at 0x7fb60662ac70>"
      ]
     },
     "execution_count": 309,
     "metadata": {},
     "output_type": "execute_result"
    },
    {
     "data": {
      "image/png": "[encoded data removed]",
      "text/plain": [
       "<Figure size 432x288 with 1 Axes>"
      ]
     },
     "metadata": {
      "needs_background": "light"
     },
     "output_type": "display_data"
    }
   ],
   "source": [
    "# Mean over time \n",
    "\n",
    "\n",
    "const_vec = np.array((1., sus_sa, az_vac_sa, az_vac_sa*sus_sa, pfi_vac_sa, pfi_vac_sa*sus_sa, new_vac_sa, new_vac_sa*sus_sa))\n",
    "time = np.linspace(0, 50, num=1000) \n",
    "for r, Reff in enumerate(Reff_vec[:-3]):\n",
    "    beta_SA = Reff*gamma*rtrans_variant\n",
    "    RV = Reff*rtrans_variant\n",
    "    \n",
    "    def Omega(t): # Matrix of first partial derivatives of offspring distribution.\n",
    "        nexposed = len(const_vec)\n",
    "        Omat = np.zeros((ntypes, ntypes))\n",
    "        omega_vec = sigma * np.ones(ntypes)\n",
    "        \n",
    "        for nex in range(0, nexposed):\n",
    "            omega_vec[nex + nexposed] = (np.sum(const_vec)*beta_SA/nexposed) + gamma\n",
    "            Omat[nex, nex+nexposed] = omega_vec[nex]\n",
    "            Omat[nex+nexposed, :nexposed] = ((const_vec[nex]/len(const_vec))*beta_SA) \n",
    "            Omat[nex+nexposed, nex+nexposed] = (((np.sum(const_vec * beta_SA))/len(const_vec)))\n",
    "\n",
    "        Omat -= np.diag(omega_vec)\n",
    "        \n",
    "        return Omat\n",
    "    outbreak.set_Omega(Omega)\n",
    "    n0s = np.zeros(ntypes)\n",
    "    Mvec = outbreak.solve_mean_odes(outbreak.set_mean_odes, time, n0s)\n",
    "    plt.plot(time, np.sum(Mvec/(1-rho_mat[r, :]), axis=0), label = 'R0 = ' + str(np.round(RV, 2)))\n",
    "plt.title(\"Mean number of cases - R0 = \" + str(np.round(RV, 2)))\n",
    "plt.xlabel(\"Days after initial case\")\n",
    "plt.ylabel(\"Cases\")\n",
    "plt.savefig(\"./meancases_R0=\" + str(np.round(RV, 2)) + \".pdf\")\n",
    "plt.legend(loc=2, bbox_to_anchor=(1.05, 1), framealpha=1., edgecolor='black', fancybox=False)\n"
   ]
  },
  {
   "cell_type": "code",
   "execution_count": 6,
   "metadata": {},
   "outputs": [],
   "source": [
    "import numpy.linalg as nla"
   ]
  },
  {
   "cell_type": "code",
   "execution_count": 314,
   "metadata": {},
   "outputs": [],
   "source": [
    "beta_SA = Reff_vec[-1]*gamma*rtrans_variant\n",
    "\n",
    "def Omega(t): # Repeat matrix of partial derivatives for just one R0 \n",
    "    nexposed = len(const_vec)\n",
    "    Omat = np.zeros((ntypes, ntypes))\n",
    "    omega_vec = sigma * np.ones(ntypes)\n",
    "\n",
    "    for nex in range(0, nexposed):\n",
    "        omega_vec[nex + nexposed] = (np.sum(const_vec)*beta_SA/nexposed) + gamma\n",
    "        \n",
    "        Omat[nex, nex+nexposed] = omega_vec[nex]\n",
    "        Omat[nex+nexposed, :nexposed] = ((const_vec[nex]/len(const_vec))*beta_SA) \n",
    "        Omat[nex+nexposed, nex+nexposed] = (((np.sum(const_vec * beta_SA))/len(const_vec)))\n",
    "\n",
    "    Omat -= np.diag(omega_vec)\n",
    "\n",
    "    return Omat\n",
    "\n",
    "# Diagonalise Omega and find H as in Garden of BPs paper\n",
    "\n",
    "eigvls, orth = nla.eig(Omega(0))\n",
    "diagmat = np.diag(eigvls)\n",
    "H = np.kron(orth, np.kron(nla.inv(orth.conjugate()), nla.inv(orth.conjugate())))\n",
    "Hinv = np.kron(nla.inv(orth), np.kron(orth.conjugate(), orth.conjugate()))\n",
    "Hinv = nla.inv(H)"
   ]
  },
  {
   "cell_type": "code",
   "execution_count": 301,
   "metadata": {},
   "outputs": [],
   "source": [
    "def H_mat(t): # Hessian of the Offspring Distribution \n",
    "    nexposed = int(ntypes/2)\n",
    "    omega_vec = sigma * np.ones(ntypes)\n",
    "    \n",
    "    Hmat = np.zeros((ntypes, ntypes, ntypes))\n",
    "    for level in range(0, nexposed):\n",
    "        omega_vec[level + nexposed] = 1/nexposed * beta_SA * np.sum(const_vec) + gamma\n",
    "        for i in range(0, nexposed):\n",
    "\n",
    "            Hmat[level + nexposed, i, i] = (1 + (k+1)/k) * (const_vec[i])*beta_SA/(omega_vec[level+nexposed]*nexposed)\n",
    "\n",
    "            Hmat[level + nexposed, level+nexposed, i] = beta_SA * const_vec[i]/(omega_vec[level+nexposed]*nexposed)\n",
    "            Hmat[level + nexposed, i, level+nexposed] = beta_SA * const_vec[i]/(omega_vec[level+nexposed]*nexposed)\n",
    "#             Gmat[level + nexposed, nexposed:, i+nexposed] = (const_vec[i]/len(const_vec))*beta_SA/(beta_SA*gamma)\n",
    "    return Hmat\n",
    "\n",
    "def P_vecs(t): # Essentially the same as Omega matrix - matrix of partial derivatives - columns should be partial derivatives of each P_i(s)\n",
    "    nexposed = int(ntypes/2)\n",
    "    Omat = np.zeros((ntypes, ntypes))\n",
    "    omega_vec = sigma * np.ones(ntypes)\n",
    "    omega_vec[nexposed:] = 1/nexposed * beta_SA * np.sum(const_vec) + gamma\n",
    "    for nex in range(0, nexposed):\n",
    "        Omat[nex + nexposed, nex] = 1\n",
    "        Omat[:nexposed, nex+nexposed] =  ((const_vec[nex]/len(const_vec))*beta_SA)/omega_vec[nex+nexposed] \n",
    "        Omat[nex+nexposed, nex+nexposed] = (((np.sum(const_vec * beta_SA))/len(const_vec)))/omega_vec[nex+nexposed] \n",
    "    \n",
    "    return np.transpose(Omat)\n"
   ]
  },
  {
   "cell_type": "code",
   "execution_count": 302,
   "metadata": {},
   "outputs": [],
   "source": [
    "# Build a vector C from matrix G as in Garden of BPs \n",
    "nexposed = int(ntypes/2)\n",
    "Gmat = np.zeros((ntypes, ntypes, ntypes))\n",
    "omega_vec = sigma * np.ones(ntypes)\n",
    "omega_vec[nexposed:] = 1/nexposed * beta_SA * np.sum(const_vec) + gamma\n",
    "C = np.zeros(ntypes**3)\n",
    "for l in range(0, ntypes):\n",
    "    Gmat[l, :, :] = H_mat(0)[l, :, :] + np.diag(P_vecs(0)[:, l]) - np.outer(P_vecs(0)[:, l], P_vecs(0)[:, l])\n",
    "    unitvec = np.zeros(ntypes)\n",
    "    unitvec[l] = 1\n",
    "    Gmat[l, :, :] += np.outer(unitvec, unitvec) + np.outer(P_vecs(0)[:, l], P_vecs(0)[:, l]) - np.outer(unitvec, P_vecs(0)[:, l]) - np.outer(P_vecs(0)[:, l], unitvec)\n",
    "    Gmat[l, :, :] *= omega_vec[l]\n",
    "    C[l*ntypes*ntypes:(l+1)*ntypes*ntypes] = Gmat[l, :, :].flatten('F') # Stack columns for 'vec' operator\n"
   ]
  },
  {
   "cell_type": "code",
   "execution_count": 303,
   "metadata": {},
   "outputs": [],
   "source": [
    "def Deltamat(t, immigration):\n",
    "    Delta = np.zeros(ntypes**2)\n",
    "    eigs = eigvls.copy()\n",
    "    for j in range(0, ntypes):\n",
    "        for n in range(0, ntypes):\n",
    "            Delta[j*ntypes + n] =  (1-np.exp((eigs[j] + eigs[n])*t))/(-eigs[j] - eigs[n])\n",
    "    Deltamat = np.diag(Delta)\n",
    "    return Deltamat\n",
    "\n",
    "\n",
    "def Deltamat_im(t, immigration):\n",
    "    Delta = np.zeros(ntypes**3)\n",
    "    eigs = eigvls.copy()\n",
    "    for l in range(0, ntypes):\n",
    "        for j in range(0, ntypes):\n",
    "            for n in range(0, ntypes):\n",
    "                Delta[l*ntypes*ntypes + j*ntypes + n] = (1/(eigs[l] - (eigs[j] + eigs[n])))*((np.exp(eigs[l]*t) - 1)/(eigs[l]) - (np.exp((eigs[j] + eigs[n])*t) - 1)/(eigs[j] + eigs[n]))\n",
    "                \n",
    "    Deltamat = np.diag(Delta)\n",
    "    return Deltamat"
   ]
  },
  {
   "cell_type": "code",
   "execution_count": 304,
   "metadata": {},
   "outputs": [],
   "source": [
    "def var(t):\n",
    "    # Build both components for variance with immigration from eq. 21 and final eq. on p.213\n",
    "    \n",
    "    Amat = np.kron(nla.inv(orth.conjugate()), nla.inv(orth.conjugate()))\n",
    "    vec_w = np.zeros(ntypes**3)\n",
    "    for i in range(0, ntypes):\n",
    "        unitvec = np.zeros(ntypes)\n",
    "        unitvec[i] = 1.\n",
    "        unit_outer_prod = np.outer(unitvec, unitvec).flatten('F') # Stack columns for 'vec' operator\n",
    "        vec_wi =  Amat @ Deltamat(t, im_vec) @ nla.inv(Amat)@unit_outer_prod\n",
    "        vec_w[i*ntypes*ntypes:(i+1)*ntypes*ntypes] = vec_wi\n",
    "    \n",
    "    Amat = np.kron(nla.inv(orth.conjugate()), nla.inv(orth.conjugate()))\n",
    "    vecvar =  H @ Deltamat_im(t, im_vec) @ Hinv @ C + vec_w\n",
    "#     var = np.zeros((ntypes, ntypes, ntypes))\n",
    "    var = np.reshape(vecvar, (ntypes, ntypes, ntypes)).transpose(0, 2, 1)\n",
    "    for i in range(0, ntypes):\n",
    "        var[i]*=im_vec[i]\n",
    "#     for l in range(0, ntypes): # This was a source of errors\n",
    "#         for j in range(0, ntypes):\n",
    "#             for n in range(0, ntypes):\n",
    "#                 var[l, j, n] = vecvar[l*ntypes*ntypes + j*ntypes + i]\n",
    "    \n",
    "    return var"
   ]
  },
  {
   "cell_type": "code",
   "execution_count": 305,
   "metadata": {
    "scrolled": false
   },
   "outputs": [
    {
     "name": "stderr",
     "output_type": "stream",
     "text": [
      "<ipython-input-303-a2548ef66e71>:6: ComplexWarning: Casting complex values to real discards the imaginary part\n",
      "  Delta[j*ntypes + n] =  (1-np.exp((eigs[j] + eigs[n])*t))/(-eigs[j] - eigs[n])\n",
      "<ipython-input-304-acc819ec824a>:11: ComplexWarning: Casting complex values to real discards the imaginary part\n",
      "  vec_w[i*ntypes*ntypes:(i+1)*ntypes*ntypes] = vec_wi\n",
      "<ipython-input-303-a2548ef66e71>:17: ComplexWarning: Casting complex values to real discards the imaginary part\n",
      "  Delta[l*ntypes*ntypes + j*ntypes + n] = (1/(eigs[l] - (eigs[j] + eigs[n])))*((np.exp(eigs[l]*t) - 1)/(eigs[l]) - (np.exp((eigs[j] + eigs[n])*t) - 1)/(eigs[j] + eigs[n]))\n"
     ]
    }
   ],
   "source": [
    "varmat = np.sum(var(30), axis=0) # Sum variance for all different types into total variance"
   ]
  },
  {
   "cell_type": "code",
   "execution_count": 315,
   "metadata": {},
   "outputs": [
    {
     "data": {
      "text/plain": [
       "0.16681718237690205"
      ]
     },
     "execution_count": 315,
     "metadata": {},
     "output_type": "execute_result"
    }
   ],
   "source": [
    "lamb = np.max(eigvls)\n",
    "lamb"
   ]
  },
  {
   "cell_type": "code",
   "execution_count": null,
   "metadata": {},
   "outputs": [],
   "source": [
    "np.kron(nla.inv(orth.conjugate()), nla.inv(orth.conjugate())).shape"
   ]
  },
  {
   "cell_type": "code",
   "execution_count": 215,
   "metadata": {},
   "outputs": [
    {
     "data": {
      "text/plain": [
       "array([ 0,  1,  2,  3,  4,  5,  6,  7,  8,  9, 10, 11, 12, 13, 14, 15, 16,\n",
       "       17, 18, 19, 20, 21, 22, 23, 24, 25, 26])"
      ]
     },
     "execution_count": 215,
     "metadata": {},
     "output_type": "execute_result"
    }
   ],
   "source": [
    "np.reshape(np.arange(27), (3, 3, 3))"
   ]
  },
  {
   "cell_type": "code",
   "execution_count": 306,
   "metadata": {},
   "outputs": [
    {
     "data": {
      "text/plain": [
       "array([[ 8.99844116e+00-1.55708226e-02j,  4.91452710e+00-4.95377424e-03j,\n",
       "        -2.31660938e+00-5.86881266e-03j,  5.47236700e-01+1.79440647e-02j,\n",
       "         1.52404775e+00-1.13034810e-02j,  7.33494088e-01-7.11985463e-03j,\n",
       "         4.22844199e+00-5.06822871e-02j,  5.42240074e+00-5.89047494e-02j,\n",
       "        -4.10467853e+00+2.87585927e-02j,  1.41659765e-01-1.38243741e-03j,\n",
       "         3.51915009e-01-2.17008005e+00j,  4.36659939e-01+2.17225060e+00j,\n",
       "         4.24137872e+00-3.58032264e-02j, -3.76644927e+00+1.94960617e-02j,\n",
       "         9.86431330e-01-7.62520100e-03j,  5.41648945e-01-4.12496262e-03j],\n",
       "       [ 4.91452710e+00-4.95377424e-03j,  1.03194067e+01+7.99280812e-02j,\n",
       "        -4.99953747e+00-6.05769603e-02j,  2.22169286e+00+7.35198625e-02j,\n",
       "         1.90684054e-01-2.84293508e-02j,  1.84178252e+00-1.79600485e-02j,\n",
       "         3.43357676e+00-5.69411310e-04j,  4.28580077e+00-3.71707841e-03j,\n",
       "         3.82901047e-01+7.19297375e-02j,  1.69840849e+00-3.44857185e-03j,\n",
       "         7.59371468e-01-4.22520217e+00j,  5.59545166e-01+4.24437244e+00j,\n",
       "        -4.95851029e-01-8.95469450e-02j, -6.52913102e+00-3.12612188e-02j,\n",
       "        -1.63601701e+00-1.90775104e-02j,  9.10981995e-02-1.03163682e-02j],\n",
       "       [-2.31660938e+00-5.86881266e-03j, -4.99953747e+00-6.05769603e-02j,\n",
       "         8.07639373e+00+3.38606136e-02j, -1.61327914e-01-3.79138633e-02j,\n",
       "         5.36169390e-01+1.29442254e-02j,  5.54909676e-01+8.15332935e-03j,\n",
       "         1.83316848e+00-4.56729797e-02j,  1.23681000e+00-4.81130400e-02j,\n",
       "        -2.50468671e+00-3.29330148e-02j,  2.05708764e-01+1.58310361e-03j,\n",
       "        -8.13868521e-01+4.02668581e+00j, -4.13041263e-01-4.03776198e+00j,\n",
       "         2.99398462e+00+4.10002047e-02j,  5.13507614e+00+3.26778955e-02j,\n",
       "         5.64144547e-01+8.73202872e-03j,  3.36088157e-01+4.72371707e-03j],\n",
       "       [ 5.47236700e-01+1.79440647e-02j,  2.22169286e+00+7.35198625e-02j,\n",
       "        -1.61327914e-01-3.79138633e-02j,  4.40815381e+00+3.31027580e-02j,\n",
       "        -4.34708938e-01-6.83974153e-03j,  1.09606367e+00-4.33232391e-03j,\n",
       "         1.96875346e+00+8.41510388e-02j,  1.72236819e+00+9.30748663e-02j,\n",
       "        -1.92469795e-02+1.72192989e-02j,  1.24375674e+00-8.23586251e-04j,\n",
       "         4.67789620e-02+1.07051241e-01j, -4.20631974e-01-9.51449748e-02j,\n",
       "         8.42474045e-03-2.14361471e-02j, -3.94760281e-01-5.23793754e-02j,\n",
       "        -1.00606621e+00-4.56820421e-03j,  9.19182572e-02-2.46946646e-03j],\n",
       "       [ 1.52404775e+00-1.13034810e-02j,  1.90684054e-01-2.84293508e-02j,\n",
       "         5.36169390e-01+1.29442254e-02j, -4.34708938e-01-6.83974153e-03j,\n",
       "         4.59414010e+00-3.19382826e-14j, -5.85246535e-01+1.13722281e-13j,\n",
       "         9.50440549e-01-3.79186151e-02j,  1.64638963e+00-4.35348424e-02j,\n",
       "        -2.03019008e+00-9.05244408e-14j, -1.38837671e+00+1.14228849e-13j,\n",
       "        -1.05645886e-01-4.90966687e-01j,  6.29725815e-03+4.87031291e-01j,\n",
       "         2.34742803e+00+2.02713833e-13j, -5.01780270e-01+2.56975871e-02j,\n",
       "         1.93944731e+00-5.78957102e-14j,  3.84980035e-01+2.47902719e-15j],\n",
       "       [ 7.33494088e-01-7.11985463e-03j,  1.84178252e+00-1.79600485e-02j,\n",
       "         5.54909676e-01+8.15332935e-03j,  1.09606367e+00-4.33232391e-03j,\n",
       "        -5.85246535e-01+2.04379348e-14j,  4.18288151e+00-7.91178254e-16j,\n",
       "         3.56977920e+00-2.40771193e-02j,  3.37578701e+00-2.76153197e-02j,\n",
       "         6.66086118e-04+2.15803602e-14j,  3.19520532e+00+9.21310280e-14j,\n",
       "         5.29721710e-02+5.03088832e-01j,  1.25719413e-01-5.05570369e-01j,\n",
       "         2.21310556e-01-8.50384890e-14j, -5.44623694e-01+1.61953944e-02j,\n",
       "        -2.37052059e+00-7.11107430e-14j,  1.11188115e-01+2.18496863e-14j],\n",
       "       [ 4.22844199e+00-5.06822871e-02j,  3.43357676e+00-5.69411310e-04j,\n",
       "         1.83316848e+00-4.56729797e-02j,  1.96875346e+00+8.41510388e-02j,\n",
       "         9.50440549e-01-3.79186151e-02j,  3.56977920e+00-2.40771193e-02j,\n",
       "         9.91761455e+00-1.60623211e-01j,  9.18467351e+00-1.85615619e-01j,\n",
       "        -5.18038914e+00+9.50123349e-02j,  3.05953766e+00-4.53404299e-03j,\n",
       "         3.24818864e-02+8.00907022e-01j,  2.39171758e-01-7.87082615e-01j,\n",
       "         6.04872806e+00-1.18277126e-01j, -9.73307463e-01+5.45303909e-02j,\n",
       "        -1.31513794e+00-2.52127969e-02j,  7.87366237e-01-1.36250620e-02j],\n",
       "       [ 5.42240074e+00-5.89047494e-02j,  4.28580077e+00-3.71707841e-03j,\n",
       "         1.23681000e+00-4.81130400e-02j,  1.72236819e+00+9.30748663e-02j,\n",
       "         1.64638963e+00-4.35348424e-02j,  3.37578701e+00-2.76153197e-02j,\n",
       "         9.18467351e+00-1.85615619e-01j,  1.13199498e+01-2.14922812e-01j,\n",
       "        -6.05797805e+00+1.09296413e-01j,  2.46441413e+00-5.22057384e-03j,\n",
       "         8.41525767e-02-7.80870086e-02j,  3.24393419e-01+9.28659697e-02j,\n",
       "         7.12587328e+00-1.36060166e-01j, -2.13690876e+00+6.52136771e-02j,\n",
       "        -1.52163988e-01-2.90002198e-02j,  5.23743306e-01-1.56738759e-02j],\n",
       "       [-4.10467853e+00+2.87585927e-02j,  3.82901047e-01+7.19297375e-02j,\n",
       "        -2.50468671e+00-3.29330148e-02j, -1.92469795e-02+1.72192989e-02j,\n",
       "        -2.03019008e+00+7.92444322e-14j,  6.66086120e-04-1.18193538e-13j,\n",
       "        -5.18038914e+00+9.50123349e-02j, -6.05797805e+00+1.09296413e-01j,\n",
       "         7.60628940e+00-1.60865397e-14j,  9.32465416e-01-6.08145572e-14j,\n",
       "         2.53036299e-01-1.67596874e+00j, -1.58875225e-02+1.68596079e+00j,\n",
       "        -8.05404614e+00-1.13295163e-13j, -1.28967483e+00-6.53125761e-02j,\n",
       "        -2.66629558e+00+1.78295258e-13j, -8.41178562e-01-2.52206659e-14j],\n",
       "       [ 1.41659765e-01-1.38243741e-03j,  1.69840849e+00-3.44857185e-03j,\n",
       "         2.05708764e-01+1.58310361e-03j,  1.24375674e+00-8.23586251e-04j,\n",
       "        -1.38837671e+00+2.40635936e-14j,  3.19520532e+00-6.95014346e-14j,\n",
       "         3.05953766e+00-4.53404299e-03j,  2.46441413e+00-5.22057384e-03j,\n",
       "         9.32465416e-01+2.97294613e-14j,  3.90782296e+00+7.48876824e-14j,\n",
       "         1.12426416e-01+5.20371303e-01j,  1.25227855e-01-5.20851159e-01j,\n",
       "        -1.11370811e+00-1.85899007e-13j, -3.00577458e-01+3.13805888e-03j,\n",
       "        -3.15552898e+00+7.15106547e-14j, -3.02164890e-02+1.46790196e-14j],\n",
       "       [ 3.51915009e-01-2.17008005e+00j,  7.59371468e-01-4.22520217e+00j,\n",
       "        -8.13868521e-01+4.02668581e+00j,  4.67789620e-02+1.07051241e-01j,\n",
       "        -1.05645886e-01-4.90966687e-01j,  5.29721710e-02+5.03088832e-01j,\n",
       "         3.24818864e-02+8.00907022e-01j,  8.41525767e-02-7.80870086e-02j,\n",
       "         2.53036299e-01-1.67596874e+00j,  1.12426416e-01+5.20371303e-01j,\n",
       "        -3.84622378e+00-8.89049172e-01j,  4.43513099e+00+3.67752892e-02j,\n",
       "        -3.07886333e-01+1.76333899e+00j, -5.95498918e-01+5.38704719e+00j,\n",
       "        -1.63164660e-01-8.14689499e-02j, -2.76186089e-02+1.53894732e-01j],\n",
       "       [ 4.36659939e-01+2.17225060e+00j,  5.59545166e-01+4.24437244e+00j,\n",
       "        -4.13041263e-01-4.03776198e+00j, -4.20631974e-01-9.51449748e-02j,\n",
       "         6.29725815e-03+4.87031291e-01j,  1.25719413e-01-5.05570369e-01j,\n",
       "         2.39171758e-01-7.87082615e-01j,  3.24393419e-01+9.28659696e-02j,\n",
       "        -1.58875225e-02+1.68596079e+00j,  1.25227855e-01-5.20851159e-01j,\n",
       "         4.43513099e+00+3.67752892e-02j, -3.95382278e+00+8.19064817e-01j,\n",
       "         2.68775910e-02-1.77577855e+00j, -5.79489401e-01-5.39789747e+00j,\n",
       "        -9.17823023e-02+7.88193147e-02j,  1.09430819e-02-1.55327892e-01j],\n",
       "       [ 4.24137872e+00-3.58032264e-02j, -4.95851029e-01-8.95469450e-02j,\n",
       "         2.99398462e+00+4.10002047e-02j,  8.42474045e-03-2.14361471e-02j,\n",
       "         2.34742803e+00-7.13316137e-14j,  2.21310556e-01+1.97155814e-13j,\n",
       "         6.04872806e+00-1.18277126e-01j,  7.12587328e+00-1.36060166e-01j,\n",
       "        -8.05404614e+00-9.82186817e-14j, -1.11370811e+00+2.37289631e-13j,\n",
       "        -3.07886333e-01+1.76333899e+00j,  2.68775910e-02-1.77577855e+00j,\n",
       "         9.63008030e+00+1.61715539e-13j,  1.26265249e+00+8.13109561e-02j,\n",
       "         3.14635278e+00-4.10805344e-13j,  9.96762618e-01-3.43407650e-15j],\n",
       "       [-3.76644927e+00+1.94960617e-02j, -6.52913102e+00-3.12612188e-02j,\n",
       "         5.13507614e+00+3.26778955e-02j, -3.94760281e-01-5.23793754e-02j,\n",
       "        -5.01780270e-01+2.56975871e-02j, -5.44623694e-01+1.61953944e-02j,\n",
       "        -9.73307463e-01+5.45303909e-02j, -2.13690876e+00+6.52136771e-02j,\n",
       "        -1.28967483e+00-6.53125761e-02j, -3.00577458e-01+3.13805888e-03j,\n",
       "        -5.95498918e-01+5.38704719e+00j, -5.79489401e-01-5.39789747e+00j,\n",
       "         1.26265249e+00+8.13109561e-02j,  7.57841059e+00-7.49552485e-03j,\n",
       "         4.32566293e-01+1.73182750e-02j,  5.66477850e-02+9.36791321e-03j],\n",
       "       [ 9.86431330e-01-7.62520100e-03j, -1.63601701e+00-1.90775104e-02j,\n",
       "         5.64144547e-01+8.73202872e-03j, -1.00606621e+00-4.56820421e-03j,\n",
       "         1.93944731e+00-6.66427243e-14j, -2.37052059e+00+1.00458325e-13j,\n",
       "        -1.31513794e+00-2.52127969e-02j, -1.52163988e-01-2.90002198e-02j,\n",
       "        -2.66629558e+00-1.29109953e-13j, -3.15552898e+00-1.09149685e-13j,\n",
       "        -1.63164660e-01-8.14689499e-02j, -9.17823023e-02+7.88193147e-02j,\n",
       "         3.14635278e+00+3.19476709e-13j,  4.32566293e-01+1.73182750e-02j,\n",
       "         3.51708451e+00-5.83045627e-14j,  2.80377699e-01-5.58363842e-15j],\n",
       "       [ 5.41648945e-01-4.12496262e-03j,  9.10981995e-02-1.03163682e-02j,\n",
       "         3.36088157e-01+4.72371707e-03j,  9.19182572e-02-2.46946646e-03j,\n",
       "         3.84980035e-01-4.28439570e-14j,  1.11188115e-01+7.14411401e-14j,\n",
       "         7.87366237e-01-1.36250620e-02j,  5.23743306e-01-1.56738759e-02j,\n",
       "        -8.41178562e-01-4.04449990e-15j, -3.02164890e-02+4.71966782e-14j,\n",
       "        -2.76186089e-02+1.53894732e-01j,  1.09430819e-02-1.55327892e-01j,\n",
       "         9.96762618e-01-8.08985082e-14j,  5.66477850e-02+9.36791321e-03j,\n",
       "         2.80377699e-01-1.18670553e-13j,  3.08049247e-01+3.34250889e-14j]])"
      ]
     },
     "execution_count": 306,
     "metadata": {},
     "output_type": "execute_result"
    }
   ],
   "source": [
    "varmat"
   ]
  },
  {
   "cell_type": "code",
   "execution_count": null,
   "metadata": {},
   "outputs": [],
   "source": []
  }
 ],
 "metadata": {
  "kernelspec": {
   "display_name": "Python 3",
   "language": "python",
   "name": "python3"
  },
  "language_info": {
   "codemirror_mode": {
    "name": "ipython",
    "version": 3
   },
   "file_extension": ".py",
   "mimetype": "text/x-python",
   "name": "python",
   "nbconvert_exporter": "python",
   "pygments_lexer": "ipython3",
   "version": "3.8.3"
  }
 },
 "nbformat": 4,
 "nbformat_minor": 4
}
