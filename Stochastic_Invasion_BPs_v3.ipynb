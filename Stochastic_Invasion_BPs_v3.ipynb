{
 "cells": [
  {
   "cell_type": "markdown",
   "metadata": {},
   "source": [
    "# Produce some plots of importation probabilities\n",
    "\n",
    "Use the analytical formulas from Wallinga and Scalia Tomba\n"
   ]
  },
  {
   "cell_type": "code",
   "execution_count": 1,
   "metadata": {},
   "outputs": [],
   "source": [
    "%matplotlib inline\n",
    "import numpy as np\n",
    "import matplotlib.pyplot as plt\n",
    "from matplotlib.colors import ListedColormap, LinearSegmentedColormap\n",
    "import seaborn as sns\n",
    "from tqdm import tqdm\n",
    "import numpy.linalg as nla"
   ]
  },
  {
   "cell_type": "markdown",
   "metadata": {},
   "source": [
    "## Jacob"
   ]
  },
  {
   "cell_type": "code",
   "execution_count": 2,
   "metadata": {},
   "outputs": [],
   "source": [
    "# =============================================================================\n",
    "# Class for solving ODEs\n",
    "# =============================================================================\n",
    "class ODESolver:\n",
    "    def __init__(self, f):\n",
    "        self.f = f\n",
    "    \n",
    "    def advance(self):\n",
    "        raise NotImplementedError\n",
    "    \n",
    "    def set_ic(self, u0):\n",
    "        if not isinstance(u0, float):\n",
    "            self.u0 = u0.astype(float)\n",
    "        else:\n",
    "            self.u0 = u0\n",
    "    \n",
    "    def solver(self, time_points):\n",
    "        self.t = np.asarray(time_points)\n",
    "        self.tlen = len(self.t)\n",
    "        if isinstance(self.u0, float):\n",
    "            self.numeqs=1\n",
    "        else:\n",
    "            self.numeqs = np.shape(self.u0)[0]\n",
    "        self.u = np.zeros((self.numeqs, self.tlen))\n",
    "        self.u[:,0] = self.u0\n",
    "        for k in range(0,self.tlen-1):\n",
    "            self.k=k\n",
    "            self.u[:, k+1] = self.advance()\n",
    "        return self.u, self.t\n",
    "    \n",
    "\n",
    "class ForwardEuler(ODESolver): # Runs faster than Runge Kutta\n",
    "    def advance(self):\n",
    "        u, f, k, t = self.u, self.f, self.k, self.t\n",
    "        dt = t[k+1] - t[k]\n",
    "        unew = u[:, k] + dt*f(u[:, k], t[k])\n",
    "        return unew\n",
    "\n",
    "class RungeKutta4(ODESolver): # Alternatively, can use Runge Kutta (may be preferable to Euler if inhomogeneous rates are particularly pathological)\n",
    "    def advance(self):\n",
    "        u, f, k, t = self.u, self.f, self.k, self.t\n",
    "        numeqs = np.shape(u)[0]\n",
    "        dt = t[k+1]-t[k]\n",
    "        dt2 = dt/2.0\n",
    "        unew = np.zeros(numeqs)\n",
    "        \n",
    "        K1 = dt*f(u[:, k], t[k])\n",
    "        K2 = dt*f(u[:, k] + 0.5*K1, t[k]+dt2)\n",
    "        K3 = dt*f(u[:, k] + 0.5*K2, t[k] + dt2)\n",
    "        K4 = dt*f(u[:, k] + K3, t[k] + dt)\n",
    "    \n",
    "        unew = u[:, k] + (1/6.0)*(K1 + 2*K2 + 2*K3 + K4)\n",
    "        return unew\n",
    "    \n",
    "    "
   ]
  },
  {
   "cell_type": "code",
   "execution_count": 3,
   "metadata": {},
   "outputs": [],
   "source": [
    "# =============================================================================\n",
    "# Class for extinction probability of multi-type branching process (MTBP)\n",
    "# =============================================================================\n",
    "\n",
    "class MTBP_extinct:\n",
    "    def __init__(self, offspring):\n",
    "        self.offspring = offspring\n",
    "    def set_lifespans(self, omega):\n",
    "        self.omega = omega\n",
    "    def set_immigration(self, eta):\n",
    "        \n",
    "        self.eta = eta\n",
    "    \n",
    "    def set_odes(self, u, t):\n",
    "        omega = self.omega\n",
    "        P = self.offspring\n",
    "        eta = self.eta\n",
    "        if isinstance(eta(t), float):\n",
    "            self.numeqs=1\n",
    "            deriv = np.zeros(self.numeqs + 1)\n",
    "            deriv[0] = -omega(t)*u[0] + omega(t)*P(u[0:-1], t)[0]\n",
    "            sumqs = eta(t)*u[0]\n",
    "            deriv[-1] = -np.sum(eta(t))*u[-1] + u[-1]*sumqs\n",
    "        else:\n",
    "            self.numeqs = len(eta(t))\n",
    "            sumqs = 0\n",
    "            deriv = np.zeros(self.numeqs + 1)\n",
    "            for i in range(0, self.numeqs):\n",
    "                deriv[i] = -omega(t)[i]*u[i] + omega(t)[i]*P(u[0:-1], t)[i]\n",
    "\n",
    "                sumqs += eta(t)[i]*u[i]\n",
    "\n",
    "            deriv[-1] = -np.sum(eta(t))*u[-1] + u[-1]*sumqs\n",
    "\n",
    "        return deriv\n",
    "\n",
    "    def solve_odes(self, set_odes, t, ics, n0, methodclass=RungeKutta4, Full = False):\n",
    "        method = methodclass(set_odes)\n",
    "        method.set_ic(u0=ics)\n",
    "        R, t = method.solver(time_points=t)\n",
    "        numqs = np.shape(R)[0] - 1\n",
    "        tlen = len(t)\n",
    "        Qprod = np.ones(tlen)\n",
    "        r = R[-1,:]\n",
    "        if Full:\n",
    "            return R\n",
    "        else:\n",
    "            if isinstance(n0, float):\n",
    "                for i in range(0, numqs):\n",
    "                    Qprod *= R[i,:]**(n0)\n",
    "            else:\n",
    "                for i in range(0, numqs):\n",
    "                    Qprod *= R[i,:]**(n0[i])\n",
    "            rho = r*Qprod\n",
    "            sol = np.stack((Qprod, rho), axis=0)\n",
    "            return sol\n",
    "    \n",
    "    def time_to_pextinct(self, t, p, sol):\n",
    "        rho = sol[-1,:]\n",
    "        numqs = np.shape(sol)[0] - 1\n",
    "        q = np.ones_like(rho)\n",
    "        for i in range(0, numqs):\n",
    "            q*=sol[i, :]\n",
    "        if isinstance(p, float):\n",
    "            qwhere = np.where(q>=p)[0]\n",
    "            rhowhere = np.where(rho>=p)[0]\n",
    "            if len(qwhere)>0:\n",
    "                qmin = np.min(t[np.where(q>=p)])\n",
    "            else:\n",
    "                qmin = np.inf\n",
    "            if (len(rhowhere)>0) and (rho[-1]>=p):\n",
    "                rhomin = np.min(t[np.where(rho>=p)])\n",
    "            else:\n",
    "                rhomin =  np.inf\n",
    "            return np.array((qmin, rhomin))\n",
    "        elif len(p)>1:\n",
    "            qmin = np.zeros_like(p)\n",
    "            rhomin = np.zeros_like(p)\n",
    "            extinct_times = np.zeros((len(p), 2)) \n",
    "            for j in range(0, len(p)):\n",
    "                qwhere = np.where(q>=p[j])[0]\n",
    "                rhowhere = np.where(rho>=p[j])[0]\n",
    "                if len(qwhere)>0:\n",
    "                    qmin[j] = np.min(t[np.where(q>=p[j])])\n",
    "                else:\n",
    "                    qmin[j] = np.inf\n",
    "                if (len(rhowhere)>0) and (rho[-1]>=p[j]):\n",
    "                    rhomin[j] = np.min(t[np.where(rho>=p[j])])\n",
    "                else:\n",
    "                    rhomin[j] =  np.inf\n",
    "            extinct_times[:,0] = qmin\n",
    "            extinct_times[:,1] = rhomin\n",
    "            return(extinct_times)\n",
    "    \n",
    "    def qr_final(self, sol):\n",
    "        sol = sol[-1,:]\n",
    "        q_final = np.prod(sol[0:-1,-1])\n",
    "        rho_final = sol[-1, -1]\n",
    "        return [q_final, rho_final]\n",
    "    \n",
    "    def set_Omega(self, Omega):\n",
    "        self.Omega=Omega\n",
    "        return None\n",
    "    \n",
    "    def set_mean_odes(self, u, t):\n",
    "        try:\n",
    "            Omega = self.Omega\n",
    "        except NotImplementedError:\n",
    "            print(\"Need to set Omega first!\")\n",
    "        P = self.offspring\n",
    "        eta = self.eta\n",
    "        omega = self.omega\n",
    "        if isinstance(u, float):\n",
    "            self.meaneqs=1\n",
    "            deriv = np.zeros(self.meaneqs)\n",
    "            deriv[0] = u*Omega(t) + eta(t)\n",
    "            return deriv\n",
    "        else:\n",
    "            self.meaneqs = len(u)\n",
    "            meaneqs = self.meaneqs\n",
    "            deriv = np.zeros(meaneqs)\n",
    "            deriv = u@Omega(t) + eta(t)\n",
    "            return deriv\n",
    "        \n",
    "    def solve_mean_odes(self, set_mean_odes, t, ics, methodclass=RungeKutta4):\n",
    "        method = methodclass(set_mean_odes)\n",
    "        method.set_ic(u0=ics)\n",
    "        M, t = method.solver(time_points=t)\n",
    "        return M\n",
    "        "
   ]
  },
  {
   "cell_type": "markdown",
   "metadata": {},
   "source": [
    "# Variants Paper"
   ]
  },
  {
   "cell_type": "code",
   "execution_count": 4,
   "metadata": {},
   "outputs": [],
   "source": [
    "# Parameters to change \n",
    "\n",
    "ntypes = 16\n",
    "nexposed = int(ntypes/2)\n",
    "\n",
    "# Disease Parameters\n",
    "\n",
    "Reff_vec = np.array((1.22, 1.54, 1.79, 2.52, 2.94)) # R without immunity for wildtype with roadmap changes\n",
    "rtrans_variant = 1.5 # Relative transmissability of SA variant compared to wildtype\n",
    "gamma = 0.4 # Recovery Rate\n",
    "sigma = 0.3 # Progression rate from exposed to infectious\n",
    "\n",
    "# Vaccine parameters for transmission reduction \n",
    "\n",
    "sus_uk = 1-0.9 # Susceptibility of unvaccinated B.1.351 recovereds against wildtype\n",
    "sus_sa = 1-0.4 # Susceptibility of unvaccinated wildtype recovereds against B.1.351\n",
    "az_vac_uk = 1-0.6 # Reduction in transmission of UK variant due to AstraZeneca vaccine\n",
    "pfi_vac_uk = 1-0.7 # Reduction in transmission of UK variant due to Pfizer vaccine\n",
    "new_vac_uk = 1-0.6 # Reduction in transmission of UK variant due to new vaccine\n",
    "az_vac_sa = 1-0.1 # Reduction in transmission of SA variant due to AstraZeneca vaccine\n",
    "pfi_vac_sa = 1-0.5 # Reduction in transmission of SA variant due to Pfizer vaccine\n",
    "new_vac_sa = 1-0.9 # Reduction in transmission of SA variant due to new vaccine\n",
    "vaccine_vec = np.array((1., az_vac_sa, pfi_vac_sa, new_vac_sa))\n",
    "\n",
    "k = -1 #1/10 # Dispersion Endo et al.\n",
    "\n",
    "Tmax = 100 # \n",
    "time = np.linspace(0, Tmax, num=1000)\n",
    "\n",
    "# Reduced transmissability for each type based on infection/vaccine immunity\n",
    "const_vec = np.array((1., sus_sa, az_vac_sa, az_vac_sa*sus_sa, pfi_vac_sa, pfi_vac_sa*sus_sa, new_vac_sa, new_vac_sa*sus_sa))\n",
    "\n",
    "# Variable beta\n",
    "# beta_vec = np.array((1., ))\n",
    "\n",
    "# Vector of proportions of susceptibles for each type:\n",
    "\n",
    "\n",
    "p_az = 0.32 # % vaccinated with AstraZeneca\n",
    "p_pf = 0.17 # % vaccinated with Pfizer\n",
    "p_new = 0 # % vaccinated with putative new vaccine (currently 0) \n",
    "p_no_vac = 1- p_az - p_pf - p_new # % unvaccinated\n",
    "\n",
    "p_rec = 0.245 # % recovered from previous strains\n",
    "p_sus = 1-p_rec # % never infected with any coronavirus\n",
    "\n",
    "\n",
    "prop_vec = np.array((p_sus*p_no_vac, p_rec*p_no_vac, p_sus*p_az, p_rec*p_az, p_sus*p_pf, p_rec*p_pf, p_sus*p_new, p_rec*p_new))\n",
    "\n",
    "\n",
    "\n",
    "# Vector of immigrants at each type - currently only 1 immigrant of type 1 (unvaccinated, no prior infection) every 5 days\n",
    "im_vec = np.zeros(ntypes)\n",
    "im_vec[:nexposed] = 1/5*prop_vec # Rate of importation for unvaccinated exposed cases of variants with no previous infection history\n",
    "\n",
    "\n",
    "\n"
   ]
  },
  {
   "cell_type": "code",
   "execution_count": 8,
   "metadata": {},
   "outputs": [
    {
     "data": {
      "text/plain": [
       "<matplotlib.legend.Legend at 0x7fd8a2ba9820>"
      ]
     },
     "execution_count": 8,
     "metadata": {},
     "output_type": "execute_result"
    },
    {
     "data": {
      "image/png": "[encoded data removed]",
      "text/plain": [
       "<Figure size 432x288 with 1 Axes>"
      ]
     },
     "metadata": {
      "needs_background": "light"
     },
     "output_type": "display_data"
    }
   ],
   "source": [
    "# Solve ODEs \n",
    "\n",
    "rho_mat = np.zeros((len(Reff_vec), len(time)))\n",
    "q_mat = np.zeros_like(rho_mat)\n",
    "R_vec = np.zeros_like(Reff_vec)\n",
    "for r, Reff in enumerate(Reff_vec):\n",
    "    beta_SA = Reff*gamma*rtrans_variant\n",
    "    beta_vec = beta_SA * prop_vec\n",
    "    RV = Reff*rtrans_variant\n",
    "\n",
    "\n",
    "    \n",
    "    omega_vec = sigma * np.ones(ntypes)              \n",
    "    \n",
    "    for nex in range(0, nexposed):\n",
    "        omega_vec[nex + nexposed] = np.sum(const_vec*prop_vec*beta_SA) + gamma\n",
    "        \n",
    "    def omega(t): # Return vector of lifetimes for each state\n",
    "        return omega_vec\n",
    "\n",
    "    beta_vec = beta_SA*np.ones(nexposed)\n",
    "    for i in range(0, len(vaccine_vec)):\n",
    "        beta_vec[2*i:2*i+2]*= vaccine_vec[i]\n",
    "    \n",
    "    def P(u, t): # Offspring distribution\n",
    "\n",
    "        pvec = np.zeros_like(u)\n",
    "        nexposed = int(ntypes/2)\n",
    "        omega = (np.sum(prop_vec * const_vec * beta_SA) + gamma)\n",
    "#         sum_gen_funcs = np.sum((beta_SA*prop_vec/omega)*const_vec*(1+(1/k)*(1-u[:nexposed]))**(-k))\n",
    "        sum_gen_funcs = np.sum((beta_SA*prop_vec/omega)*const_vec*u[:nexposed])\n",
    "\n",
    "\n",
    "        for nex in range(0, nexposed):\n",
    "            pvec[nex] = u[nex+nexposed] \n",
    "            pvec[nex+nexposed] =  u[nex+nexposed] * sum_gen_funcs + (gamma/omega)\n",
    "        return pvec            \n",
    "            \n",
    "            \n",
    "    def eta(t):\n",
    "        return im_vec.astype(float)\n",
    "    ics = np.zeros(ntypes+1)\n",
    "    ics[-1] = 1.\n",
    "    n0vec = np.zeros(ntypes)\n",
    "#     n0vec[-1] = 0\n",
    "\n",
    "\n",
    "    offspring = P\n",
    "    outbreak = MTBP_extinct(offspring)\n",
    "    outbreak.set_lifespans(omega)\n",
    "    outbreak.set_immigration(eta)\n",
    "    rho = outbreak.solve_odes(outbreak.set_odes, time, ics, n0vec, Full = True) # Solve ODEs for probabilities of extinction/zero\n",
    "    q_mat [r, :] = rho[0, :]\n",
    "    rho_mat[r, :] = rho[-1, :] # Take 0th row for qs, -1th row for rs\n",
    "\n",
    "    plt.plot(time, rho_mat[r, :], label = str(np.round(RV, 2)))\n",
    "\n",
    "plt.title(\"P(Z(t) = 0) \" )\n",
    "plt.xlabel(\"Days after initial case\")\n",
    "plt.ylabel(\"Probability\")\n",
    "plt.savefig(\"./pnocases_R0=\" + str(RV) + \".pdf\")\n",
    "plt.legend(loc=2, bbox_to_anchor=(1.05, 1), framealpha=1., edgecolor='black', fancybox=False, title = \"R0\")"
   ]
  },
  {
   "cell_type": "code",
   "execution_count": 9,
   "metadata": {},
   "outputs": [],
   "source": [
    "# Ignore for now - this is to build next generation matrix\n",
    "# def R_eff(): \n",
    "#         Sig = np.zeros((ntypes, ntypes))\n",
    "#         for i in range(0, nexposed):\n",
    "#             Sig[i, i] -= sigma\n",
    "#             Sig[i, i+nexposed] += sigma\n",
    "#             Sig[i +nexposed, i+nexposed] -= gamma\n",
    "#         SigInv = nla.inv(Sig)\n",
    "        \n",
    "#         T = np.zeros((ntypes, ntypes))\n",
    "#         for i in range(0, nexposed):\n",
    "#             T[i, i+nexposed] += beta_SA\n",
    "        \n",
    "#         Rmat_eig = np.max(nla.eig(-T@SigInv)[0])\n",
    "#         return Rmat_eig\n",
    "# R_eff()"
   ]
  },
  {
   "cell_type": "code",
   "execution_count": 10,
   "metadata": {},
   "outputs": [
    {
     "data": {
      "text/plain": [
       "<matplotlib.legend.Legend at 0x7fd8a2b8a0d0>"
      ]
     },
     "execution_count": 10,
     "metadata": {},
     "output_type": "execute_result"
    },
    {
     "data": {
      "image/png": "[encoded data removed]",
      "text/plain": [
       "<Figure size 432x288 with 1 Axes>"
      ]
     },
     "metadata": {
      "needs_background": "light"
     },
     "output_type": "display_data"
    }
   ],
   "source": [
    "# Equivalent probabilities for a single lineage - no immigration\n",
    "\n",
    "for r, Reff in enumerate(Reff_vec):\n",
    "    RV = Reff*rtrans_variant\n",
    "    plt.plot(time, q_mat[r, :], label = str(np.round(RV, 2)))\n",
    "\n",
    "plt.title(\"P(Y(t) = 0) \") # Y(t) is process for an individual lineage to go extinct without immigration\n",
    "plt.xlabel(\"Days after initial case\")\n",
    "plt.ylabel(\"Probability\")\n",
    "plt.savefig(\"./pnocases_R0=\" + str(RV) + \".pdf\")\n",
    "plt.legend(loc=2, bbox_to_anchor=(1.05, 1), framealpha=1., edgecolor='black', fancybox=False, title = \"R0\")"
   ]
  },
  {
   "cell_type": "code",
   "execution_count": 195,
   "metadata": {},
   "outputs": [
    {
     "data": {
      "text/plain": [
       "<matplotlib.legend.Legend at 0x7fd7fbb89970>"
      ]
     },
     "execution_count": 195,
     "metadata": {},
     "output_type": "execute_result"
    },
    {
     "data": {
      "image/png": "[encoded data removed]",
      "text/plain": [
       "<Figure size 432x288 with 1 Axes>"
      ]
     },
     "metadata": {
      "needs_background": "light"
     },
     "output_type": "display_data"
    }
   ],
   "source": [
    "# Mean over time - not bugged? \n",
    "mean_cond = np.zeros((len(Reff_vec), len(time)))\n",
    "mean_arr = np.zeros((len(Reff_vec), ntypes, len(time)))\n",
    "for r, Reff in enumerate(Reff_vec[:-4]):\n",
    "    beta_SA = Reff*gamma*rtrans_variant\n",
    "    RV = Reff*rtrans_variant\n",
    "    \n",
    "    def Omega(t): # Matrix of first partial derivatives of offspring distribution minus lifetimes*identity\n",
    "        nexposed = len(const_vec)\n",
    "        Omat = np.zeros((ntypes, ntypes))\n",
    "        omega_vec = sigma * np.ones(ntypes)       \n",
    "        \n",
    "        for nex in range(0, nexposed):\n",
    "            omega_vec[nex + nexposed] = np.sum(const_vec*prop_vec*beta_SA) + gamma\n",
    "            Omat[nex, nex+nexposed] = omega_vec[nex]\n",
    "            Omat[nex+nexposed, :nexposed] = const_vec*prop_vec*beta_SA \n",
    "            Omat[nex+nexposed, nex+nexposed] = np.sum(const_vec * beta_SA * prop_vec)\n",
    "\n",
    "        Omat -= np.diag(omega_vec)\n",
    "        \n",
    "        return Omat\n",
    "    outbreak.set_Omega(Omega)\n",
    "    n0s = np.zeros(ntypes)\n",
    "    Mvec = outbreak.solve_mean_odes(outbreak.set_mean_odes, time, n0s)\n",
    "    mean_arr[r, :, :] = Mvec\n",
    "    mean_cond[r, :] = np.sum(Mvec/(1-rho_mat[r, :] + np.finfo(float).eps), axis=0)\n",
    "    plt.plot(time[:600], mean_cond[r, :600], label = str(np.round(RV, 2)))\n",
    "plt.title(\"Mean number of cases\" )\n",
    "plt.xlabel(\"Days\")\n",
    "plt.ylabel(\"Cases\")\n",
    "plt.savefig(\"./meancases_R0=\" + str(np.round(RV, 2)) + \".pdf\")\n",
    "plt.legend(loc=2, bbox_to_anchor=(1.05, 1), framealpha=1., edgecolor='black', fancybox=False, title = \"R0\")\n"
   ]
  },
  {
   "cell_type": "code",
   "execution_count": 12,
   "metadata": {},
   "outputs": [
    {
     "data": {
      "text/plain": [
       "array([51.65165165, 34.73473473, 28.52852853, 19.91991992, 17.41741742])"
      ]
     },
     "execution_count": 12,
     "metadata": {},
     "output_type": "execute_result"
    }
   ],
   "source": [
    "tstars = np.zeros(len(Reff_vec))\n",
    "mean_stars = np.zeros((len(Reff_vec), ntypes))\n",
    "astar = 100\n",
    "for r, Reff in enumerate(Reff_vec):\n",
    "    if mean_cond[r, -1]>=astar:\n",
    "        tstar_idx  = np.min(np.where(mean_cond[r, :] >= astar)[0])\n",
    "        tstar = time[tstar_idx]\n",
    "        mean_stars[r, :] = mean_arr[r, :, tstar_idx]\n",
    "    else:\n",
    "        tstar = np.nan\n",
    "    tstars[r] = tstar\n",
    "tstars"
   ]
  },
  {
   "cell_type": "code",
   "execution_count": 17,
   "metadata": {},
   "outputs": [
    {
     "data": {
      "text/plain": [
       "array([32.5897152 ,  6.37842306, 18.41962391,  3.60713158,  5.4741724 ,\n",
       "        1.07687916,  0.        ,  0.        , 13.88252597,  2.72747835,\n",
       "        7.85139831,  1.54406981,  2.34524214,  0.46479762,  0.        ,\n",
       "        0.        ])"
      ]
     },
     "execution_count": 17,
     "metadata": {},
     "output_type": "execute_result"
    }
   ],
   "source": [
    "mean_stars[-1, :]"
   ]
  },
  {
   "cell_type": "code",
   "execution_count": 10,
   "metadata": {},
   "outputs": [
    {
     "data": {
      "text/plain": [
       "1.0000000000000002"
      ]
     },
     "execution_count": 10,
     "metadata": {},
     "output_type": "execute_result"
    }
   ],
   "source": [
    "np.max(rho_mat[r, :] + np.finfo(float).eps)"
   ]
  },
  {
   "cell_type": "code",
   "execution_count": 74,
   "metadata": {},
   "outputs": [],
   "source": [
    "# Variance  - for highest R0 (or single value to be chosen)\n",
    "\n",
    "beta_SA = Reff_vec[0]*gamma*rtrans_variant\n",
    "RV = Reff*rtrans_variant\n",
    "def Omega(t): # Matrix of first partial derivatives of offspring distribution minus lifetimes*identity\n",
    "        Omat = np.zeros((ntypes, ntypes))\n",
    "        omega_vec = sigma * np.ones(ntypes)       \n",
    "        \n",
    "        for nex in range(0, nexposed):\n",
    "            omega_vec[nex + nexposed] = np.sum(const_vec*prop_vec*beta_SA) + gamma\n",
    "            Omat[nex, nex+nexposed] = omega_vec[nex]\n",
    "            Omat[nex+nexposed, :nexposed] = const_vec*prop_vec*beta_SA \n",
    "            Omat[nex+nexposed, nex+nexposed] = np.sum(const_vec * beta_SA * prop_vec)\n",
    "\n",
    "        Omat -= np.diag(omega_vec)\n",
    "        \n",
    "        return Omat\n",
    "\n",
    "# Diagonalise Omega and find H as in Garden of BPs paper\n",
    "\n",
    "eigvls, orth = nla.eig(Omega(0))\n",
    "diagmat = np.real_if_close(np.diag(eigvls))\n",
    "H = np.kron(orth, np.kron(nla.inv(orth.conjugate()), nla.inv(orth.conjugate())))\n",
    "Hinv = np.kron(nla.inv(orth), np.kron(orth.conjugate(), orth.conjugate()))\n",
    "Hinv = nla.inv(H)"
   ]
  },
  {
   "cell_type": "code",
   "execution_count": 75,
   "metadata": {},
   "outputs": [],
   "source": [
    "def H_mat(t): # Hessian of the Offspring Distribution \n",
    "\n",
    "    Hmat = np.zeros((ntypes, ntypes, ntypes))\n",
    "    \n",
    "    for level in range(0, nexposed):\n",
    "\n",
    "        for i in range(0, nexposed):\n",
    "            \n",
    "#             Hmat[level + nexposed, i, i] =  (const_vec[i]*beta_SA*prop_vec[i])/(omega_vec[level+nexposed])\n",
    "            Hmat[level + nexposed, level+nexposed, i] = (beta_SA * const_vec[i]*prop_vec[i])/(omega_vec[level+nexposed])\n",
    "            Hmat[level + nexposed, i, level+nexposed] = (beta_SA * const_vec[i]*prop_vec[i])/(omega_vec[level+nexposed])\n",
    "    \n",
    "    return Hmat\n",
    "\n",
    "def P_vecs(t): # Essentially the same as Omega matrix - matrix of partial derivatives - columns should be partial derivatives of each P_i(s)\n",
    "\n",
    "    Omat = np.zeros((ntypes, ntypes))\n",
    "    omega_vec = sigma * np.ones(ntypes)\n",
    "    for nex in range(0, nexposed):\n",
    "        omega_vec[nex + nexposed] = np.sum(const_vec*prop_vec*beta_SA) + gamma\n",
    "        Omat[nex + nexposed, nex] = 1\n",
    "        Omat[nex+nexposed, :nexposed] =  (const_vec*beta_SA*prop_vec)/omega_vec[nex+nexposed] \n",
    "        Omat[nex+nexposed, nex+nexposed] = np.sum(const_vec * beta_SA*prop_vec)/omega_vec[nex+nexposed] \n",
    "    \n",
    "    return Omat\n"
   ]
  },
  {
   "cell_type": "code",
   "execution_count": 76,
   "metadata": {},
   "outputs": [],
   "source": [
    "# def H_mat(t): # Hessian of the Offspring Distribution \n",
    "\n",
    "#     Hmat = np.zeros((ntypes, ntypes, ntypes))\n",
    "    \n",
    "#     for level in range(0, nexposed):\n",
    "\n",
    "#         for i in range(0, nexposed):\n",
    "            \n",
    "#             Hmat[level + nexposed, i, i] = (1 + (k+1)/k) * (const_vec[i]*beta_SA*prop_vec[i])/(omega_vec[level+nexposed])\n",
    "#             Hmat[level + nexposed, level+nexposed, i] = (beta_SA * const_vec[i]*prop_vec[i])/(omega_vec[level+nexposed])\n",
    "#             Hmat[level + nexposed, i, level+nexposed] = (beta_SA * const_vec[i]*prop_vec[i])/(omega_vec[level+nexposed])\n",
    "    \n",
    "#     return Hmat\n",
    "\n",
    "# def P_vecs(t): # Essentially the same as Omega matrix - matrix of partial derivatives - columns should be partial derivatives of each P_i(s)\n",
    "\n",
    "#     Omat = np.zeros((ntypes, ntypes))\n",
    "#     omega_vec = sigma * np.ones(ntypes)\n",
    "#     for nex in range(0, nexposed):\n",
    "#         omega_vec[nex + nexposed] = np.sum(const_vec*prop_vec*beta_SA) + gamma\n",
    "#         Omat[nex + nexposed, nex] = 1\n",
    "#         Omat[nex+nexposed, :nexposed] =  (const_vec[nex]*beta_SA*prop_vec[nex])/omega_vec[nex+nexposed] \n",
    "#         Omat[nex+nexposed, nex+nexposed] = np.sum(const_vec * beta_SA*prop_vec)/omega_vec[nex+nexposed] \n",
    "    \n",
    "#     return Omat"
   ]
  },
  {
   "cell_type": "code",
   "execution_count": 77,
   "metadata": {},
   "outputs": [],
   "source": [
    "# Build a vector C from matrix G as in Garden of BPs \n",
    "Gmat = np.zeros((ntypes, ntypes, ntypes))\n",
    "C = np.zeros(ntypes**3)\n",
    "omega_vec = sigma * np.ones(ntypes)\n",
    "for nex in range(0, nexposed):\n",
    "    omega_vec[nex + nexposed] = np.sum(const_vec*prop_vec*beta_SA) + gamma\n",
    "for l in range(0, ntypes):\n",
    "    \n",
    "    Gmat[l, :, :] = H_mat(0)[l, :, :] + np.diag(P_vecs(0)[:, l]) - np.outer(P_vecs(0)[:, l], P_vecs(0)[:, l])\n",
    "    unitvec = np.zeros(ntypes)\n",
    "    unitvec[l] = 1\n",
    "    Gmat[l, :, :] += np.outer(unitvec, unitvec) + np.outer(P_vecs(0)[:, l], P_vecs(0)[:, l]) - np.outer(unitvec, P_vecs(0)[:, l]) - np.outer(P_vecs(0)[:, l], unitvec)\n",
    "    Gmat[l, :, :] *= omega_vec[l]\n",
    "    C[l*ntypes*ntypes:(l+1)*ntypes*ntypes] = Gmat[l, :, :].flatten('F') # Stack columns for 'vec' operator\n"
   ]
  },
  {
   "cell_type": "code",
   "execution_count": 78,
   "metadata": {},
   "outputs": [],
   "source": [
    "def Deltamat(t, immigration):\n",
    "    Delta = np.zeros(ntypes**2)\n",
    "    eigs = eigvls.copy()\n",
    "    for j in range(0, ntypes):\n",
    "        for n in range(0, ntypes):\n",
    "            Delta[j*ntypes + n] =  (1-np.exp((eigs[j] + eigs[n])*t))/(-eigs[j] - eigs[n])\n",
    "    Deltamat = np.diag(Delta)\n",
    "    return Deltamat\n",
    "\n",
    "\n",
    "def Deltamat_im(t, immigration):\n",
    "    Delta = np.zeros(ntypes**3)\n",
    "    eigs = eigvls.copy()\n",
    "    for l in range(0, ntypes):\n",
    "        for j in range(0, ntypes):\n",
    "            for n in range(0, ntypes):\n",
    "                Delta[l*ntypes*ntypes + j*ntypes + n] = (1/(eigs[l] - (eigs[j] + eigs[n])))*((np.exp(eigs[l]*t) - 1)/(eigs[l]) - (np.exp((eigs[j] + eigs[n])*t) - 1)/(eigs[j] + eigs[n]))\n",
    "                \n",
    "    Deltamat = np.diag(Delta)\n",
    "    return Deltamat"
   ]
  },
  {
   "cell_type": "code",
   "execution_count": 79,
   "metadata": {},
   "outputs": [],
   "source": [
    "def var(t):\n",
    "    # Build both components for variance with immigration from eq. 21 and final eq. on p.213\n",
    "    \n",
    "    Amat = np.kron(nla.inv(orth.conjugate()), nla.inv(orth.conjugate()))\n",
    "    vec_w = np.zeros(ntypes**3)\n",
    "    for i in range(0, ntypes):\n",
    "        unitvec = np.zeros(ntypes)\n",
    "        unitvec[i] = 1.\n",
    "        unit_outer_prod = np.outer(unitvec, unitvec).flatten('F') # Stack columns for 'vec' operator\n",
    "        vec_wi =  Amat @ Deltamat(t, im_vec) @ nla.inv(Amat)@unit_outer_prod\n",
    "        vec_w[i*ntypes*ntypes:(i+1)*ntypes*ntypes] = vec_wi\n",
    "    \n",
    "    Amat = np.kron(nla.inv(orth.conjugate()), nla.inv(orth.conjugate()))\n",
    "    vecvar =  H @ Deltamat_im(t, im_vec) @ Hinv @ C + vec_w\n",
    "    var = np.reshape(vecvar, (ntypes, ntypes, ntypes)).transpose(0, 2, 1)\n",
    "    for i in range(0, ntypes):\n",
    "        var[i]*=im_vec[i]\n",
    "\n",
    "    return var"
   ]
  },
  {
   "cell_type": "code",
   "execution_count": 54,
   "metadata": {
    "scrolled": false
   },
   "outputs": [],
   "source": [
    "varmat = np.sum(var(30), axis=0) # Sum variance for all different types into total variance matrix"
   ]
  },
  {
   "cell_type": "code",
   "execution_count": 113,
   "metadata": {},
   "outputs": [
    {
     "data": {
      "text/plain": [
       "(0.07119346338707584+0j)"
      ]
     },
     "execution_count": 113,
     "metadata": {},
     "output_type": "execute_result"
    }
   ],
   "source": [
    "lamb = np.max(eigvls)\n",
    "lamb # This is growth rate "
   ]
  },
  {
   "cell_type": "code",
   "execution_count": 81,
   "metadata": {},
   "outputs": [
    {
     "ename": "NameError",
     "evalue": "name 'varmat' is not defined",
     "output_type": "error",
     "traceback": [
      "\u001b[0;31m---------------------------------------------------------------------------\u001b[0m",
      "\u001b[0;31mNameError\u001b[0m                                 Traceback (most recent call last)",
      "\u001b[0;32m<ipython-input-81-135fb3d2fdea>\u001b[0m in \u001b[0;36m<module>\u001b[0;34m\u001b[0m\n\u001b[0;32m----> 1\u001b[0;31m \u001b[0mnp\u001b[0m\u001b[0;34m.\u001b[0m\u001b[0msqrt\u001b[0m\u001b[0;34m(\u001b[0m\u001b[0mnp\u001b[0m\u001b[0;34m.\u001b[0m\u001b[0msum\u001b[0m\u001b[0;34m(\u001b[0m\u001b[0mvarmat\u001b[0m\u001b[0;34m)\u001b[0m\u001b[0;34m)\u001b[0m \u001b[0;31m# Standard deviation for sum of particle counts\u001b[0m\u001b[0;34m\u001b[0m\u001b[0;34m\u001b[0m\u001b[0m\n\u001b[0m",
      "\u001b[0;31mNameError\u001b[0m: name 'varmat' is not defined"
     ]
    }
   ],
   "source": [
    "np.sqrt(np.sum(varmat)) # Standard deviation for sum of particle counts"
   ]
  },
  {
   "cell_type": "code",
   "execution_count": 59,
   "metadata": {},
   "outputs": [
    {
     "data": {
      "text/plain": [
       "1.8183072825195268e-09"
      ]
     },
     "execution_count": 59,
     "metadata": {},
     "output_type": "execute_result"
    }
   ],
   "source": [
    "np.max(np.abs(varmat - varmat.T))"
   ]
  },
  {
   "cell_type": "code",
   "execution_count": 32,
   "metadata": {},
   "outputs": [
    {
     "data": {
      "text/plain": [
       "1.0410537282565495"
      ]
     },
     "execution_count": 32,
     "metadata": {},
     "output_type": "execute_result"
    }
   ],
   "source": [
    "np.log(1 + np.sum(var(tstars[-1]))/100**2)"
   ]
  },
  {
   "cell_type": "code",
   "execution_count": 99,
   "metadata": {},
   "outputs": [],
   "source": [
    "import seaborn as sns\n",
    "import scipy as sp"
   ]
  },
  {
   "cell_type": "code",
   "execution_count": 200,
   "metadata": {},
   "outputs": [
    {
     "name": "stderr",
     "output_type": "stream",
     "text": [
      "<ipython-input-78-a2548ef66e71>:6: ComplexWarning: Casting complex values to real discards the imaginary part\n",
      "  Delta[j*ntypes + n] =  (1-np.exp((eigs[j] + eigs[n])*t))/(-eigs[j] - eigs[n])\n",
      "<ipython-input-79-22e783d21827>:11: ComplexWarning: Casting complex values to real discards the imaginary part\n",
      "  vec_w[i*ntypes*ntypes:(i+1)*ntypes*ntypes] = vec_wi\n",
      "<ipython-input-78-a2548ef66e71>:17: ComplexWarning: Casting complex values to real discards the imaginary part\n",
      "  Delta[l*ntypes*ntypes + j*ntypes + n] = (1/(eigs[l] - (eigs[j] + eigs[n])))*((np.exp(eigs[l]*t) - 1)/(eigs[l]) - (np.exp((eigs[j] + eigs[n])*t) - 1)/(eigs[j] + eigs[n]))\n",
      "<ipython-input-200-ba8296772d2a>:3: ComplexWarning: Casting complex values to real discards the imaginary part\n",
      "  wald = np.random.wald((alpha), variance, size=10000 )\n"
     ]
    },
    {
     "data": {
      "text/plain": [
       "DescribeResult(nobs=10000, minmax=(40.32727711027162, 66.88745745786515), mean=51.64981027009104, variance=12.076253899983826, skewness=0.1712934071825945, kurtosis=-0.03994879782780414)"
      ]
     },
     "execution_count": 200,
     "metadata": {},
     "output_type": "execute_result"
    },
    {
     "data": {
      "image/png": "[encoded data removed]",
      "text/plain": [
       "<Figure size 432x288 with 1 Axes>"
      ]
     },
     "metadata": {
      "needs_background": "light"
     },
     "output_type": "display_data"
    }
   ],
   "source": [
    "variance = np.sum(var(tstars[0]))\n",
    "alpha = tstars[0]\n",
    "wald = np.random.wald((alpha), variance, size=10000 )\n",
    "sns.distplot(wald, kde_kws={\"color\": \"g\"})\n",
    "sp.stats.describe(wald)"
   ]
  },
  {
   "cell_type": "code",
   "execution_count": 168,
   "metadata": {},
   "outputs": [
    {
     "data": {
      "text/plain": [
       "51.651651651651655"
      ]
     },
     "execution_count": 168,
     "metadata": {},
     "output_type": "execute_result"
    }
   ],
   "source": [
    "(alpha)"
   ]
  },
  {
   "cell_type": "code",
   "execution_count": 203,
   "metadata": {},
   "outputs": [
    {
     "name": "stderr",
     "output_type": "stream",
     "text": [
      "<ipython-input-78-a2548ef66e71>:6: ComplexWarning: Casting complex values to real discards the imaginary part\n",
      "  Delta[j*ntypes + n] =  (1-np.exp((eigs[j] + eigs[n])*t))/(-eigs[j] - eigs[n])\n",
      "<ipython-input-79-22e783d21827>:11: ComplexWarning: Casting complex values to real discards the imaginary part\n",
      "  vec_w[i*ntypes*ntypes:(i+1)*ntypes*ntypes] = vec_wi\n",
      "<ipython-input-78-a2548ef66e71>:17: ComplexWarning: Casting complex values to real discards the imaginary part\n",
      "  Delta[l*ntypes*ntypes + j*ntypes + n] = (1/(eigs[l] - (eigs[j] + eigs[n])))*((np.exp(eigs[l]*t) - 1)/(eigs[l]) - (np.exp((eigs[j] + eigs[n])*t) - 1)/(eigs[j] + eigs[n]))\n",
      "<ipython-input-203-a2b887641607>:2: ComplexWarning: Casting complex values to real discards the imaginary part\n",
      "  wald = np.random.wald(np.log(100)/lamb  , (variance/(lamb*100)**2).real, size=10000 )\n"
     ]
    },
    {
     "data": {
      "text/plain": [
       "DescribeResult(nobs=10000, minmax=(30.156289669910443, 127.28813976653944), mean=64.82123937595333, variance=182.73255341902424, skewness=0.5987323814487597, kurtosis=0.49632127918746516)"
      ]
     },
     "execution_count": 203,
     "metadata": {},
     "output_type": "execute_result"
    },
    {
     "data": {
      "image/png": "[encoded data removed]",
      "text/plain": [
       "<Figure size 432x288 with 1 Axes>"
      ]
     },
     "metadata": {
      "needs_background": "light"
     },
     "output_type": "display_data"
    }
   ],
   "source": [
    "variance = np.sum(var(np.log(100)/lamb)).real\n",
    "wald = np.random.wald(np.log(100)/lamb  , (variance/(lamb*100)**2).real, size=10000 )\n",
    "# wald = np.random.normal(np.log(100)/lamb - variance/(2*(100**2)) , (variance/(lamb*100)**2).real, size=10000 )\n",
    "# wald = np.random.wald(np.log(100)/lamb , variance/(lamb**2), size=10000 )\n",
    "\n",
    "sns.distplot(wald, kde_kws={\"color\": \"g\"})\n",
    "sp.stats.describe(wald)"
   ]
  },
  {
   "cell_type": "code",
   "execution_count": 178,
   "metadata": {},
   "outputs": [
    {
     "data": {
      "text/plain": [
       "106.86336892892865"
      ]
     },
     "execution_count": 178,
     "metadata": {},
     "output_type": "execute_result"
    }
   ],
   "source": [
    "np.sqrt(variance)"
   ]
  },
  {
   "cell_type": "code",
   "execution_count": 204,
   "metadata": {},
   "outputs": [
    {
     "name": "stderr",
     "output_type": "stream",
     "text": [
      "<ipython-input-78-a2548ef66e71>:6: ComplexWarning: Casting complex values to real discards the imaginary part\n",
      "  Delta[j*ntypes + n] =  (1-np.exp((eigs[j] + eigs[n])*t))/(-eigs[j] - eigs[n])\n",
      "<ipython-input-79-22e783d21827>:11: ComplexWarning: Casting complex values to real discards the imaginary part\n",
      "  vec_w[i*ntypes*ntypes:(i+1)*ntypes*ntypes] = vec_wi\n",
      "<ipython-input-78-a2548ef66e71>:17: ComplexWarning: Casting complex values to real discards the imaginary part\n",
      "  Delta[l*ntypes*ntypes + j*ntypes + n] = (1/(eigs[l] - (eigs[j] + eigs[n])))*((np.exp(eigs[l]*t) - 1)/(eigs[l]) - (np.exp((eigs[j] + eigs[n])*t) - 1)/(eigs[j] + eigs[n]))\n"
     ]
    },
    {
     "data": {
      "text/plain": [
       "DescribeResult(nobs=10000, minmax=(4.098649458973473, 1008.3680388044398), mean=90.4947555995294, variance=6093.582644333626, skewness=2.8973047543101544, kurtosis=14.90867130791922)"
      ]
     },
     "execution_count": 204,
     "metadata": {},
     "output_type": "execute_result"
    },
    {
     "data": {
      "image/png": "[encoded data removed]",
      "text/plain": [
       "<Figure size 432x288 with 1 Axes>"
      ]
     },
     "metadata": {
      "needs_background": "light"
     },
     "output_type": "display_data"
    }
   ],
   "source": [
    "variance = np.sum(var(tstars[0])).real\n",
    "t_star = tstars[0]\n",
    "mean_star = 100\n",
    "mu_star = np.log(mean_star**2/np.sqrt(mean_star**2 + variance))\n",
    "# mu_star = np.log(mean_star)/lamb\n",
    "sig_star = np.log(1 + variance/(mean_star**2))\n",
    "lognorm = np.random.lognormal(mu_star, sig_star, size=10000)\n",
    "\n",
    "\n",
    "sns.distplot(lognorm, kde_kws={\"color\": \"g\"})\n",
    "sp.stats.describe(lognorm)"
   ]
  },
  {
   "cell_type": "code",
   "execution_count": 186,
   "metadata": {},
   "outputs": [
    {
     "data": {
      "text/plain": [
       "4.22430534428655"
      ]
     },
     "execution_count": 186,
     "metadata": {},
     "output_type": "execute_result"
    }
   ],
   "source": [
    "mu_star"
   ]
  },
  {
   "cell_type": "code",
   "execution_count": 53,
   "metadata": {},
   "outputs": [
    {
     "data": {
      "text/plain": [
       "17.41741741741742"
      ]
     },
     "execution_count": 53,
     "metadata": {},
     "output_type": "execute_result"
    }
   ],
   "source": [
    "tstars[-1]"
   ]
  },
  {
   "cell_type": "code",
   "execution_count": 183,
   "metadata": {},
   "outputs": [
    {
     "data": {
      "text/plain": [
       "DescribeResult(nobs=10000, minmax=(18.558923494437803, 220.4871111987046), mean=66.05952312576116, variance=482.0202685046171, skewness=0.9706381569196312, kurtosis=1.632769915858229)"
      ]
     },
     "execution_count": 183,
     "metadata": {},
     "output_type": "execute_result"
    },
    {
     "data": {
      "image/png": "[encoded data removed]",
      "text/plain": [
       "<Figure size 432x288 with 1 Axes>"
      ]
     },
     "metadata": {
      "needs_background": "light"
     },
     "output_type": "display_data"
    }
   ],
   "source": [
    "import seaborn as sns\n",
    "ln = np.random.lognormal(4.14, 0.327, size=10000 )\n",
    "sns.distplot(ln, kde_kws={\"color\": \"g\"})\n",
    "sp.stats.describe(ln)"
   ]
  },
  {
   "cell_type": "code",
   "execution_count": 93,
   "metadata": {},
   "outputs": [
    {
     "name": "stderr",
     "output_type": "stream",
     "text": [
      "<ipython-input-78-a2548ef66e71>:6: ComplexWarning: Casting complex values to real discards the imaginary part\n",
      "  Delta[j*ntypes + n] =  (1-np.exp((eigs[j] + eigs[n])*t))/(-eigs[j] - eigs[n])\n",
      "<ipython-input-79-22e783d21827>:11: ComplexWarning: Casting complex values to real discards the imaginary part\n",
      "  vec_w[i*ntypes*ntypes:(i+1)*ntypes*ntypes] = vec_wi\n",
      "<ipython-input-78-a2548ef66e71>:17: ComplexWarning: Casting complex values to real discards the imaginary part\n",
      "  Delta[l*ntypes*ntypes + j*ntypes + n] = (1/(eigs[l] - (eigs[j] + eigs[n])))*((np.exp(eigs[l]*t) - 1)/(eigs[l]) - (np.exp((eigs[j] + eigs[n])*t) - 1)/(eigs[j] + eigs[n]))\n",
      "<ipython-input-93-860fda4583d1>:1: ComplexWarning: Casting complex values to real discards the imaginary part\n",
      "  sp.stats.describe(np.log(np.random.lognormal(100, (np.sum(var(tstars[-1]))), size=100 )))\n"
     ]
    },
    {
     "data": {
      "text/plain": [
       "DescribeResult(nobs=100, minmax=(-0.33653956205384356, 228.1592492967705), mean=108.68028478028288, variance=2421.2323134207736, skewness=-0.004154210799731174, kurtosis=-0.18811868223319061)"
      ]
     },
     "execution_count": 93,
     "metadata": {},
     "output_type": "execute_result"
    }
   ],
   "source": []
  },
  {
   "cell_type": "code",
   "execution_count": 91,
   "metadata": {},
   "outputs": [
    {
     "name": "stderr",
     "output_type": "stream",
     "text": [
      "<ipython-input-78-a2548ef66e71>:6: ComplexWarning: Casting complex values to real discards the imaginary part\n",
      "  Delta[j*ntypes + n] =  (1-np.exp((eigs[j] + eigs[n])*t))/(-eigs[j] - eigs[n])\n",
      "<ipython-input-79-22e783d21827>:11: ComplexWarning: Casting complex values to real discards the imaginary part\n",
      "  vec_w[i*ntypes*ntypes:(i+1)*ntypes*ntypes] = vec_wi\n",
      "<ipython-input-78-a2548ef66e71>:17: ComplexWarning: Casting complex values to real discards the imaginary part\n",
      "  Delta[l*ntypes*ntypes + j*ntypes + n] = (1/(eigs[l] - (eigs[j] + eigs[n])))*((np.exp(eigs[l]*t) - 1)/(eigs[l]) - (np.exp((eigs[j] + eigs[n])*t) - 1)/(eigs[j] + eigs[n]))\n"
     ]
    },
    {
     "data": {
      "text/plain": [
       "50.6384510580729"
      ]
     },
     "execution_count": 91,
     "metadata": {},
     "output_type": "execute_result"
    }
   ],
   "source": [
    "np.sum(var(tstars[-1])).real"
   ]
  },
  {
   "cell_type": "code",
   "execution_count": null,
   "metadata": {},
   "outputs": [],
   "source": []
  }
 ],
 "metadata": {
  "kernelspec": {
   "display_name": "Python 3",
   "language": "python",
   "name": "python3"
  },
  "language_info": {
   "codemirror_mode": {
    "name": "ipython",
    "version": 3
   },
   "file_extension": ".py",
   "mimetype": "text/x-python",
   "name": "python",
   "nbconvert_exporter": "python",
   "pygments_lexer": "ipython3",
   "version": "3.8.5"
  }
 },
 "nbformat": 4,
 "nbformat_minor": 4
}
